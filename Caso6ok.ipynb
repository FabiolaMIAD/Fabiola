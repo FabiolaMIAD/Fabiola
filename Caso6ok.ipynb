{
  "cells": [
    {
      "cell_type": "markdown",
      "metadata": {
        "id": "view-in-github",
        "colab_type": "text"
      },
      "source": [
        "<a href=\"https://colab.research.google.com/github/FabiolaMIAD/Fabiola/blob/main/Caso6ok.ipynb\" target=\"_parent\"><img src=\"https://colab.research.google.com/assets/colab-badge.svg\" alt=\"Open In Colab\"/></a>"
      ]
    },
    {
      "cell_type": "markdown",
      "metadata": {
        "deletable": false,
        "editable": false,
        "nbgrader": {
          "cell_type": "markdown",
          "checksum": "47e4efcb09a1a05be9136e2e29b83483",
          "grade": false,
          "grade_id": "cell-e8fa9269aba80c31",
          "locked": true,
          "schema_version": 3,
          "solution": false,
          "task": false
        },
        "tags": [],
        "id": "7kN_Btk6a534"
      },
      "source": [
        "# Caso 6: Problema de balance (Min-Max)\n",
        "\n",
        "---\n",
        "## Maestría en Inteligencia Analítica de Datos\n",
        "\n",
        "![image.png](attachment:image.png)\n"
      ]
    },
    {
      "cell_type": "markdown",
      "source": [],
      "metadata": {
        "id": "dYf20FxCkH0L"
      }
    },
    {
      "cell_type": "markdown",
      "metadata": {
        "deletable": false,
        "editable": false,
        "nbgrader": {
          "cell_type": "markdown",
          "checksum": "12c65ae7fcef997ed011c2a2adaf00b9",
          "grade": false,
          "grade_id": "cell-7f3fc4fe4f9892d6",
          "locked": true,
          "schema_version": 3,
          "solution": false,
          "task": false
        },
        "id": "AEsT2lVsa539"
      },
      "source": [
        "## Instrucciones generales\n",
        "\n",
        "El primer paso antes de resolver este laboratorio es leer y entender el **enunciado del caso**. Una vez tengas claro el caso, te explicamos la estructura de este laboratorio.\n",
        "\n",
        "Este laboratorio tiene las siguientes secciones:\n",
        "* **Formulación**: un breve resumen del modelo con notación matemática y descripción de sus componentes\n",
        "* **Importación de librerías**\n",
        "* **Creación de parámetros**\n",
        "* **Modelado**: aquí implementamos el modelo visto en la formulación (aquí encontrarás por lo general celdas de código que debes completar, ¡nosotros te guiaremos en el proceso!)\n",
        "* **Reporte de Resultados**: esta sección nos muestra las soluciones encontradas por el modelo y, en ocasiones, algunas visualizaciones interesantes para entenderlo mejor. Es posible que en ciertas prácticas debas completar algunas celdas también.\n",
        "\n",
        "Este tipo de actividades se evaluará sobre un total de 100 puntos. Las celdas calificables se distinguen por tener la instrucción `# your code here`. Antes de estas celdas  encontrarás instrucciones y consejos para resolver las preguntas, también el puntaje que le corresponde. **Ten en cuenta que si no sigues las instrucciones al pie de la letra, no obtendrás el puntaje. Por ejemplo, debes llamar a las variables en Python y nombrar los elementos de tu modelo exactamente cómo lo indica el enunciado. De lo contrario, no obtendrás puntaje en ese inciso.**\n",
        "\n",
        "¡Éxitos!"
      ]
    },
    {
      "cell_type": "markdown",
      "metadata": {
        "deletable": false,
        "editable": false,
        "nbgrader": {
          "cell_type": "markdown",
          "checksum": "4b2bc96d92f1fe98c49da168a597fb29",
          "grade": false,
          "grade_id": "cell-9fbd2d9c824c07a3",
          "locked": true,
          "schema_version": 3,
          "solution": false,
          "task": false
        },
        "tags": [],
        "id": "BlteMcZZa53-"
      },
      "source": [
        "## Formulación\n",
        "---\n",
        "\n",
        "Te presentamos la formulación del caso de la semana de forma resumida. Te recomendamos revisar la formulación una vez hayas leído el enunciado del caso. Es bueno que te familiarices con los elementos de la formulación antes de iniciar la implementación.\n",
        "\n",
        "### Conjuntos y parámetros\n",
        ">#### **Conjuntos**\n",
        ">* $I$: conjunto de depósitos\n",
        ">* $J$: conjunto de CACs\n",
        "\n",
        ">#### **Parámetros**\n",
        ">* $k_i:$ Capacidad del depósito $i \\in I$ (miles de toneladas por año)\n",
        ">* $d_j:$ Producción proyectada del CAC $j\\in J$ (miles de toneladas por año)\n",
        ">* $q:$ Costo anualizado (por cada mil toneladas por kilómetro) de transportar café\n",
        ">* $h_{ij}:$ Distancia (en kilómetros) entre el CAC $j \\in J$ y el depósito $i \\in I$\n",
        ">* $c_{ij}:$ Costo anualizado de atender el CAC $j\\in J$ con el depósito $i\\in I$ (Se calcula como: $c_{ij} = q\\cdot d_j\\cdot h_{ij}$)\n",
        ">* $\\psi ^*:$ Costo total de la solución de mínimo costo\n",
        "\n",
        "### Variables de decisión\n",
        ">* $x_{ij}= \\begin{cases}1, & \\text{si el depósito } i\\in I \\text{ atiende al CAC } j\\in J \\\\ 0, & \\text{de lo contrario}\\end{cases} $\n",
        ">>\n",
        ">* $z$: máxima demanda atendida por un depósito\n",
        "\n",
        "### Restricciones\n",
        "> 1. Capturar en $z$ la máxima demanda atendida por un depósito\n",
        ">> *# Para desarrollo del estudiante*\n",
        "> 2. Todo CAC debe ser atendido por un depósito\n",
        ">> *# Para desarrollo del estudiante*\n",
        "> 3. La demanda atendida por un depósito no puede superar su capacidad\n",
        ">> *# Para desarrollo del estudiante*\n",
        "> 4. El costo total de la solución puede ser, a lo sumo, 10% más alto que el de la solución de mínimo costo\n",
        ">> *# Para desarrollo del estudiante*\n",
        "> 5. Naturaleza de las variables\n",
        ">> $x_{ij} \\in \\{0,1\\}, \\;\\; \\forall i\\in I,j\\in J$ <br>\n",
        ">> $z \\geq 0$\n",
        "\n",
        "### Función objetivo\n",
        "> Minimizar la máxima demanda atendida por un depósito\n",
        ">> *# Para desarrollo del estudiante*"
      ]
    },
    {
      "cell_type": "markdown",
      "metadata": {
        "deletable": false,
        "editable": false,
        "nbgrader": {
          "cell_type": "markdown",
          "checksum": "7ab5e346a713c15b386d83a9799da35c",
          "grade": false,
          "grade_id": "cell-db31881de45215f2",
          "locked": true,
          "schema_version": 3,
          "solution": false,
          "task": false
        },
        "tags": [],
        "id": "zaUndfrGa53-"
      },
      "source": [
        "## Importación de librerías\n",
        "---\n",
        "Como siempre, utilizaremos las librerías `pulp` y `pandas`. Adicionalmente, usaremos algunas funciones de la librería `math` para calcular distancias geográficas de forma rápida y una función de la librería `datetime` para calcular el tiempo de ejecución del optmizador."
      ]
    },
    {
      "cell_type": "code",
      "source": [
        "!pip install pulp"
      ],
      "metadata": {
        "colab": {
          "base_uri": "https://localhost:8080/"
        },
        "id": "ZaFL6gnJkEg_",
        "outputId": "54eca4b5-27e9-4f67-a95f-730bd6c7b339"
      },
      "execution_count": 1,
      "outputs": [
        {
          "output_type": "stream",
          "name": "stdout",
          "text": [
            "Requirement already satisfied: pulp in /usr/local/lib/python3.10/dist-packages (2.8.0)\n"
          ]
        }
      ]
    },
    {
      "cell_type": "code",
      "source": [
        "!pip install geopy"
      ],
      "metadata": {
        "colab": {
          "base_uri": "https://localhost:8080/"
        },
        "id": "Ly9W-IhrkGIe",
        "outputId": "06dcc003-cfca-4de0-e51d-11e86b196c1c"
      },
      "execution_count": 2,
      "outputs": [
        {
          "output_type": "stream",
          "name": "stdout",
          "text": [
            "Requirement already satisfied: geopy in /usr/local/lib/python3.10/dist-packages (2.3.0)\n",
            "Requirement already satisfied: geographiclib<3,>=1.52 in /usr/local/lib/python3.10/dist-packages (from geopy) (2.0)\n"
          ]
        }
      ]
    },
    {
      "cell_type": "code",
      "execution_count": 3,
      "metadata": {
        "deletable": false,
        "editable": false,
        "nbgrader": {
          "cell_type": "code",
          "checksum": "bd3d0209febcf08d13f8a7c4e25ccd17",
          "grade": false,
          "grade_id": "cell-8e960069c708e13f",
          "locked": true,
          "schema_version": 3,
          "solution": false,
          "task": false
        },
        "tags": [],
        "id": "GkRcetDia53-"
      },
      "outputs": [],
      "source": [
        "# Para tiempo de ejecución\n",
        "from datetime import datetime\n",
        "\n",
        "import pandas as pd\n",
        "import pulp as lp\n",
        "from geopy.distance import distance"
      ]
    },
    {
      "cell_type": "markdown",
      "metadata": {
        "deletable": false,
        "editable": false,
        "nbgrader": {
          "cell_type": "markdown",
          "checksum": "c3585fc1f914bb6a0e701f2f000c900f",
          "grade": false,
          "grade_id": "cell-685b1f71ce44c0b0",
          "locked": true,
          "schema_version": 3,
          "solution": false,
          "task": false
        },
        "tags": [],
        "id": "26MfQMyxa54A"
      },
      "source": [
        "## Creación de parámetros\n",
        "---"
      ]
    },
    {
      "cell_type": "markdown",
      "metadata": {
        "deletable": false,
        "editable": false,
        "nbgrader": {
          "cell_type": "markdown",
          "checksum": "f6df5a67034768cb0ed9573bf142abd1",
          "grade": false,
          "grade_id": "cell-139d636ca944c8b5",
          "locked": true,
          "schema_version": 3,
          "solution": false,
          "task": false
        },
        "id": "ss8g601La54A"
      },
      "source": [
        "### Conjuntos\n",
        "\n",
        "Crearemos `Depositos` y `Centros` como listas y un conjunto que contenga las parejas entre estos dos conjuntos `Depositos_x_Centros`."
      ]
    },
    {
      "cell_type": "code",
      "execution_count": 4,
      "metadata": {
        "deletable": false,
        "editable": false,
        "nbgrader": {
          "cell_type": "code",
          "checksum": "389147da5c9fb0997b71f682b5d6f5ea",
          "grade": false,
          "grade_id": "cell-86f675d91c60308b",
          "locked": true,
          "schema_version": 3,
          "solution": false,
          "task": false
        },
        "id": "ZJfmTvmWa54A"
      },
      "outputs": [],
      "source": [
        "# Conjunto de depósitos\n",
        "Depositos = [\"Medellín\", \"La Dorada\", \"Aguadas\", \"Salamina\"]\n",
        "\n",
        "# Conjunto de CACs\n",
        "Centros = [\n",
        "    \"Andes\",\n",
        "    \"Medellín\",\n",
        "    \"Dabeiba\",\n",
        "    \"Salgar\",\n",
        "    \"San Pablo de Borbur\",\n",
        "    \"Labranzagrande\",\n",
        "    \"Miraflores\",\n",
        "    \"Moniquirá\",\n",
        "    \"Manizales\",\n",
        "    \"Anserma\",\n",
        "    \"Pensilvania\",\n",
        "    \"Riosucio\",\n",
        "    \"Aguadas\",\n",
        "    \"Morales\",\n",
        "    \"El Tambo\",\n",
        "    \"Bolívar\",\n",
        "    \"Aguachica\",\n",
        "    \"San Diego\",\n",
        "    \"Caparrapí\",\n",
        "    \"Viotá\",\n",
        "    \"Sasaima\",\n",
        "    \"Neiva\",\n",
        "    \"Pitalito\",\n",
        "    \"Gigante\",\n",
        "    \"Santa Marta\",\n",
        "    \"La Unión\",\n",
        "    \"Pasto\",\n",
        "    \"Samaniego\",\n",
        "    \"Sardinata\",\n",
        "    \"Ocaña\",\n",
        "    \"Convención\",\n",
        "    \"Génova\",\n",
        "    \"Calarcá\",\n",
        "    \"Quimbaya\",\n",
        "    \"Pereira\",\n",
        "    \"Santuario\",\n",
        "    \"Belén de Umbria\",\n",
        "    \"Rionegro\",\n",
        "    \"Bucaramanga\",\n",
        "    \"Barbosa\",\n",
        "    \"Socorro\",\n",
        "    \"Simacota\",\n",
        "    \"Chaparral\",\n",
        "    \"Dolores\",\n",
        "    \"Ibagué\",\n",
        "    \"Líbano\",\n",
        "    \"Cartago\",\n",
        "    \"Tulua\",\n",
        "    \"Jamundí\",\n",
        "    \"Sevilla\",\n",
        "    \"Caicedonia\",\n",
        "    \"Florencia\",\n",
        "    \"Puerto Milán\",\n",
        "    \"Nunchía\",\n",
        "    \"Mesetas\",\n",
        "]\n",
        "\n",
        "# Conjunto con todas las tuplas (depositos, centros)\n",
        "Depositos_x_Centros = [(i, j) for i in Depositos for j in Centros]"
      ]
    },
    {
      "cell_type": "markdown",
      "metadata": {
        "deletable": false,
        "editable": false,
        "nbgrader": {
          "cell_type": "markdown",
          "checksum": "ce1194bed85696511ef22363eb1cbbd8",
          "grade": false,
          "grade_id": "cell-1f708cd5f28d33b1",
          "locked": true,
          "schema_version": 3,
          "solution": false,
          "task": false
        },
        "id": "FaxAxmz8a54B"
      },
      "source": [
        "### Parámetros\n",
        "\n",
        "Primero crearemos los parámetros no indexados y luego los indexados como de costumbre. Luego, separaremos los parámetros indexados en diferentes diccionarios con `lp.splitDict()`. Al final, creamos el parámetro `distancias` a partir de las ubicaciones geográficas de los centros y depósitos."
      ]
    },
    {
      "cell_type": "code",
      "execution_count": 5,
      "metadata": {
        "deletable": false,
        "editable": false,
        "nbgrader": {
          "cell_type": "code",
          "checksum": "a137167c006c9a62b50e3e9d33984be2",
          "grade": false,
          "grade_id": "cell-e2b1e931508f2fff",
          "locked": true,
          "schema_version": 3,
          "solution": false,
          "task": false
        },
        "tags": [],
        "id": "ECVENoPla54B"
      },
      "outputs": [],
      "source": [
        "# Parámetros no indexados\n",
        "mejor_costo = 24320009  # Función objetivo del caso de minimizacion de costos\n",
        "q = 300                 # En miles de toneladas por km\n",
        "\n",
        "# Parámetros indexados en depósitos\n",
        "dataDepositos = {  # Depósito: lat, long, capacidad, costo fijo\n",
        "    \"Medellín\": [6.26868, -75.59639, 51 * 3, 717.10],\n",
        "    \"La Dorada\": [5.53144, -74.72005, 44 * 3, 402.27],\n",
        "    \"Aguadas\": [5.57937, -75.45557, 39 * 3, 402.27],\n",
        "    \"Salamina\": [5.34395, -75.40658, 46 * 3, 387.96],\n",
        "}\n",
        "\n",
        "# Parámetros indexados en CACs\n",
        "dataCentros = {  # CAC: lat, long, producción\n",
        "    \"Andes\": [5.62412, -75.95589, 35.37],\n",
        "    \"Medellín\": [6.26868, -75.59639, 10.63],\n",
        "    \"Dabeiba\": [6.95267, -76.29085, 27.28],\n",
        "    \"Salgar\": [5.96643, -75.97188, 24.05],\n",
        "    \"San Pablo de Borbur\": [5.67784, -74.10383, 1.59],\n",
        "    \"Labranzagrande\": [5.53, -72.59873, 1.20],\n",
        "    \"Miraflores\": [5.15175, -73.17282, 1.11],\n",
        "    \"Moniquirá\": [5.86963, -73.54944, 1.28],\n",
        "    \"Manizales\": [5.0741, -75.50288, 24.76],\n",
        "    \"Anserma\": [5.20035, -75.75022, 8.23],\n",
        "    \"Pensilvania\": [5.40334, -75.1766, 6.60],\n",
        "    \"Riosucio\": [5.45036, -75.73531, 6.63],\n",
        "    \"Aguadas\": [5.57937, -75.45557, 6.74],\n",
        "    \"Morales\": [2.84901, -76.74932, 14.19],\n",
        "    \"El Tambo\": [2.4527, -76.81132, 13.25],\n",
        "    \"Bolívar\": [1.89843, -76.97234, 11.89],\n",
        "    \"Aguachica\": [8.30592, -73.61166, 3.60],\n",
        "    \"San Diego\": [10.33573, -73.18049, 2.71],\n",
        "    \"Caparrapí\": [5.37312, -74.51297, 1.45],\n",
        "    \"Viotá\": [4.43705, -74.48354, 1.75],\n",
        "    \"Sasaima\": [4.94796, -74.41729, 2.29],\n",
        "    \"Neiva\": [3.03602, -75.29684, 22.25],\n",
        "    \"Pitalito\": [1.7774, -76.13852, 21.85],\n",
        "    \"Gigante\": [2.39452, -75.52775, 21.92],\n",
        "    \"Santa Marta\": [11.23153, -74.1824, 3.80],\n",
        "    \"La Unión\": [1.60903, -77.14714, 7.59],\n",
        "    \"Pasto\": [1.05204, -77.20717, 8.12],\n",
        "    \"Samaniego\": [1.3894, -77.72329, 5.70],\n",
        "    \"Sardinata\": [8.25885, -72.79639, 2.52],\n",
        "    \"Ocaña\": [8.22019, -73.39012, 2.60],\n",
        "    \"Convención\": [8.83257, -73.18585, 2.34],\n",
        "    \"Génova\": [4.192, -75.74795, 4.99],\n",
        "    \"Calarcá\": [4.45392, -75.68058, 6.09],\n",
        "    \"Quimbaya\": [4.61334, -75.78586, 5.49],\n",
        "    \"Pereira\": [4.78502, -75.65506, 8.89],\n",
        "    \"Santuario\": [5.03229, -75.97494, 7.36],\n",
        "    \"Belén de Umbria\": [5.19016, -75.86725, 9.06],\n",
        "    \"Rionegro\": [7.54004, -73.42111, 1.87],\n",
        "    \"Bucaramanga\": [7.16502, -73.10824, 1.79],\n",
        "    \"Barbosa\": [5.95458, -73.62693, 8.56],\n",
        "    \"Socorro\": [6.46604, -73.24775, 7.92],\n",
        "    \"Simacota\": [6.67635, -73.62452, 6.50],\n",
        "    \"Chaparral\": [3.75307, -75.59347, 8.73],\n",
        "    \"Dolores\": [3.6221, -74.76516, 11.86],\n",
        "    \"Ibagué\": [4.47824, -75.2436, 1.43],\n",
        "    \"Líbano\": [4.87582, -75.04174, 1.19],\n",
        "    \"Cartago\": [4.71034, -75.91931, 6.27],\n",
        "    \"Tulua\": [4.03985, -76.06656, 5.94],\n",
        "    \"Jamundí\": [3.2012, -76.62458, 3.54],\n",
        "    \"Sevilla\": [4.15709, -75.88795, 2.84],\n",
        "    \"Caicedonia\": [4.3072, -75.84114, 3.11],\n",
        "    \"Florencia\": [1.61887, -75.60384, 0.37],\n",
        "    \"Puerto Milán\": [1.33546, -75.51081, 0.33],\n",
        "    \"Nunchía\": [5.53209, -72.07238, 0.38],\n",
        "    \"Mesetas\": [3.1057, -74.1243, 0.43],\n",
        "}\n",
        "\n",
        "# Se separan en diccionarios que comparten las misma llaves\n",
        "\n",
        "# Parámetros indexados en depósitos\n",
        "lat_d, lon_d, capacidad, costo_fijo = lp.splitDict(dataDepositos)\n",
        "# Parámetros indexados en centros\n",
        "lat_c, lon_c, produccion = lp.splitDict(dataCentros)\n",
        "\n",
        "# Calcular la distancia entre depósitos y los CACs (en kilometros)\n",
        "distancia = {\n",
        "    (i, j): distance([lat_d[i], lon_d[i]], [lat_c[j], lon_c[j]]).kilometers for i in Depositos for j in Centros\n",
        "}"
      ]
    },
    {
      "cell_type": "markdown",
      "metadata": {
        "deletable": false,
        "editable": false,
        "nbgrader": {
          "cell_type": "markdown",
          "checksum": "709d3aa822393816e7e24b448726abb4",
          "grade": false,
          "grade_id": "cell-e5addffa804a03e6",
          "locked": true,
          "schema_version": 3,
          "solution": false,
          "task": false
        },
        "id": "XgfqTa5ya54C"
      },
      "source": [
        "**Pregunta 1 (5 puntos)**\n",
        "\n",
        "* Crea el parámetro de costo de transporte $c_{ij}$ en un diccionario llamado `costo_transporte`\n",
        "* Las **llaves** de este diccionario deben ser los pares $(i, j)$, es decir, (depósitos, CACs)\n",
        "* Los **valores** de este diccionario deben ser los costos de transporte definidos en la formulación"
      ]
    },
    {
      "cell_type": "code",
      "execution_count": 6,
      "metadata": {
        "deletable": false,
        "nbgrader": {
          "cell_type": "code",
          "checksum": "acf25380285abc835ce59b8a2168e832",
          "grade": false,
          "grade_id": "cell-661b62680916a9a8",
          "locked": false,
          "schema_version": 3,
          "solution": true,
          "task": false
        },
        "id": "Jb_aFX01a54C"
      },
      "outputs": [],
      "source": [
        "# your code here\n",
        "costo_transporte = {\n",
        "    (i, j): distancia[(i, j)] * produccion[j] * q\n",
        "    for i in Depositos\n",
        "    for j in Centros\n",
        "}"
      ]
    },
    {
      "cell_type": "code",
      "source": [
        "# Imprimir algunos costos de transporte para verificar que todo esté correcto\n",
        "for (i, j), costo in list(costo_transporte.items())[:10]:  # Imprimir los primeros 10 para revisión\n",
        "    print(f\"Costo de transporte desde el depósito {i} hasta el CAC {j}: {costo:.2f}\")\n"
      ],
      "metadata": {
        "colab": {
          "base_uri": "https://localhost:8080/"
        },
        "id": "n1V1NZBMk9ip",
        "outputId": "7beb6664-937f-4a86-a339-984327cee7f8"
      },
      "execution_count": 7,
      "outputs": [
        {
          "output_type": "stream",
          "name": "stdout",
          "text": [
            "Costo de transporte desde el depósito Medellín hasta el CAC Andes: 866290.26\n",
            "Costo de transporte desde el depósito Medellín hasta el CAC Medellín: 0.00\n",
            "Costo de transporte desde el depósito Medellín hasta el CAC Dabeiba: 882176.15\n",
            "Costo de transporte desde el depósito Medellín hasta el CAC Salgar: 384816.86\n",
            "Costo de transporte desde el depósito Medellín hasta el CAC San Pablo de Borbur: 84763.96\n",
            "Costo de transporte desde el depósito Medellín hasta el CAC Labranzagrande: 123063.59\n",
            "Costo de transporte desde el depósito Medellín hasta el CAC Miraflores: 98404.14\n",
            "Costo de transporte desde el depósito Medellín hasta el CAC Moniquirá: 88647.65\n",
            "Costo de transporte desde el depósito Medellín hasta el CAC Manizales: 984271.87\n",
            "Costo de transporte desde el depósito Medellín hasta el CAC Anserma: 294709.92\n"
          ]
        }
      ]
    },
    {
      "cell_type": "code",
      "execution_count": 8,
      "metadata": {
        "deletable": false,
        "editable": false,
        "nbgrader": {
          "cell_type": "code",
          "checksum": "758c87f6d9a1b3f85bac66f0dc73b80b",
          "grade": true,
          "grade_id": "cell-8240430227822d38",
          "locked": true,
          "points": 5,
          "schema_version": 3,
          "solution": false,
          "task": false
        },
        "id": "GkpnceGCa54C"
      },
      "outputs": [],
      "source": [
        "# Esta celda esta reservada para uso del equipo docente"
      ]
    },
    {
      "cell_type": "code",
      "execution_count": 9,
      "metadata": {
        "deletable": false,
        "editable": false,
        "nbgrader": {
          "cell_type": "code",
          "checksum": "3b46bf1319669defa9d62c5bde2877a2",
          "grade": true,
          "grade_id": "cell-41e7dcba77078079",
          "locked": true,
          "points": 0,
          "schema_version": 3,
          "solution": false,
          "task": false
        },
        "id": "2ifgD9xma54C"
      },
      "outputs": [],
      "source": [
        "# Esta celda esta reservada para uso del equipo docente"
      ]
    },
    {
      "cell_type": "markdown",
      "metadata": {
        "deletable": false,
        "editable": false,
        "nbgrader": {
          "cell_type": "markdown",
          "checksum": "009575ea03143cde1dab01eaa1ec01e8",
          "grade": false,
          "grade_id": "cell-587d11a8eb6313b7",
          "locked": true,
          "schema_version": 3,
          "solution": false,
          "task": false
        },
        "id": "qTdv_4zza54C"
      },
      "source": [
        "**Celda de prueba (0 puntos)**\n",
        "\n",
        "Es una buena práctica imprimir algunos objetos que contienen los parámetros en la consola luego de crearlos. De esta forma puedes corregir errores y familiarizarte con las estrucutras de datos que se van a utilizar. Puedes hacer estas pruebas en la celda a continuación.\n",
        "\n",
        "* **Esta celda no es calificable**"
      ]
    },
    {
      "cell_type": "code",
      "execution_count": 10,
      "metadata": {
        "id": "69K5ktw9a54D",
        "colab": {
          "base_uri": "https://localhost:8080/"
        },
        "outputId": "e4c9d4ae-9ecd-4373-c3c9-e323c22d88de"
      },
      "outputs": [
        {
          "output_type": "stream",
          "name": "stdout",
          "text": [
            "\n",
            "Capacidad de los depósitos:\n",
            "Medellín: 153 miles de toneladas por año\n",
            "La Dorada: 132 miles de toneladas por año\n",
            "Aguadas: 117 miles de toneladas por año\n",
            "Salamina: 138 miles de toneladas por año\n",
            "\n",
            "Producción proyectada de los CACs:\n",
            "Andes: 35.37 miles de toneladas por año\n",
            "Medellín: 10.63 miles de toneladas por año\n",
            "Dabeiba: 27.28 miles de toneladas por año\n",
            "Salgar: 24.05 miles de toneladas por año\n",
            "San Pablo de Borbur: 1.59 miles de toneladas por año\n",
            "\n",
            "Costos de transporte calculados (primeros 5):\n",
            "Desde Medellín hasta Andes: 866290.26 pesos por transporte\n",
            "Desde Medellín hasta Medellín: 0.00 pesos por transporte\n",
            "Desde Medellín hasta Dabeiba: 882176.15 pesos por transporte\n",
            "Desde Medellín hasta Salgar: 384816.86 pesos por transporte\n",
            "Desde Medellín hasta San Pablo de Borbur: 84763.96 pesos por transporte\n",
            "\n",
            "Distancias calculadas entre depósitos y CACs (primeros 5):\n",
            "Distancia desde Medellín hasta Andes: 81.64 km\n",
            "Distancia desde Medellín hasta Medellín: 0.00 km\n",
            "Distancia desde Medellín hasta Dabeiba: 107.79 km\n",
            "Distancia desde Medellín hasta Salgar: 53.34 km\n",
            "Distancia desde Medellín hasta San Pablo de Borbur: 177.70 km\n"
          ]
        }
      ],
      "source": [
        "# Aquí puedes explorar los parámetros\n",
        "# Imprimir los primeros elementos de los diccionarios de capacidad y producción\n",
        "print(\"\\nCapacidad de los depósitos:\")\n",
        "for key, value in list(capacidad.items())[:5]:\n",
        "    print(f\"{key}: {value} miles de toneladas por año\")\n",
        "\n",
        "print(\"\\nProducción proyectada de los CACs:\")\n",
        "for key, value in list(produccion.items())[:5]:\n",
        "    print(f\"{key}: {value} miles de toneladas por año\")\n",
        "\n",
        "# Imprimir los primeros elementos del diccionario de costos de transporte\n",
        "print(\"\\nCostos de transporte calculados (primeros 5):\")\n",
        "for (i, j), costo in list(costo_transporte.items())[:5]:\n",
        "    print(f\"Desde {i} hasta {j}: {costo:.2f} pesos por transporte\")\n",
        "\n",
        "# Verificar algunas distancias (si tienes curiosidad o necesidad de validar)\n",
        "print(\"\\nDistancias calculadas entre depósitos y CACs (primeros 5):\")\n",
        "for key, value in list(distancia.items())[:5]:\n",
        "    print(f\"Distancia desde {key[0]} hasta {key[1]}: {value:.2f} km\")"
      ]
    },
    {
      "cell_type": "markdown",
      "metadata": {
        "deletable": false,
        "editable": false,
        "nbgrader": {
          "cell_type": "markdown",
          "checksum": "b41130d10ef9937b329cff021f1ad198",
          "grade": false,
          "grade_id": "cell-6a525ae7e4899ef1",
          "locked": true,
          "schema_version": 3,
          "solution": false,
          "task": false
        },
        "tags": [],
        "id": "krYFLG1Da54D"
      },
      "source": [
        "## Modelado\n",
        "---"
      ]
    },
    {
      "cell_type": "markdown",
      "metadata": {
        "deletable": false,
        "editable": false,
        "nbgrader": {
          "cell_type": "markdown",
          "checksum": "32046f7ed4b359dfe697449072da98c0",
          "grade": false,
          "grade_id": "cell-ebebd9c7c932a295",
          "locked": true,
          "schema_version": 3,
          "solution": false,
          "task": false
        },
        "id": "0WNGqfzAa54D"
      },
      "source": [
        "### Declaración del modelo"
      ]
    },
    {
      "cell_type": "markdown",
      "metadata": {
        "deletable": false,
        "editable": false,
        "nbgrader": {
          "cell_type": "markdown",
          "checksum": "c19447106ff0ffccf780501ee5bb0ee2",
          "grade": false,
          "grade_id": "cell-a3aeec243a8845f1",
          "locked": true,
          "schema_version": 3,
          "solution": false,
          "task": false
        },
        "id": "4fqqjj3Aa54D"
      },
      "source": [
        "**Pregunta 2 (5 puntos)**\n",
        "* Crea un objeto modelo en PuLP (`lp.LpProblem`) llamado `problema`\n",
        "* Indica el sentido de la optimización: maximizar o minimizar"
      ]
    },
    {
      "cell_type": "code",
      "execution_count": 11,
      "metadata": {
        "deletable": false,
        "nbgrader": {
          "cell_type": "code",
          "checksum": "0fe46032073d74fbd355763a5a94668c",
          "grade": false,
          "grade_id": "cell-344f796fe3d37534",
          "locked": false,
          "schema_version": 3,
          "solution": true,
          "task": false
        },
        "id": "y2dPmC2Za54D"
      },
      "outputs": [],
      "source": [
        "# your code here\n",
        "problema = lp.LpProblem(sense=lp.LpMinimize)"
      ]
    },
    {
      "cell_type": "code",
      "execution_count": 12,
      "metadata": {
        "deletable": false,
        "editable": false,
        "nbgrader": {
          "cell_type": "code",
          "checksum": "9e1522e8d12b48d3c4f32dbb71d3170f",
          "grade": true,
          "grade_id": "cell-9466bada00deeca6",
          "locked": true,
          "points": 5,
          "schema_version": 3,
          "solution": false,
          "task": false
        },
        "id": "KCgCoLLia54D"
      },
      "outputs": [],
      "source": [
        "# Esta celda esta reservada para uso del equipo docente"
      ]
    },
    {
      "cell_type": "code",
      "execution_count": 13,
      "metadata": {
        "deletable": false,
        "editable": false,
        "nbgrader": {
          "cell_type": "code",
          "checksum": "be40950df8bdfac05d32a6da5059f8d9",
          "grade": true,
          "grade_id": "cell-22a4b3d85f6c728a",
          "locked": true,
          "points": 0,
          "schema_version": 3,
          "solution": false,
          "task": false
        },
        "id": "JMrtMgkBa54D"
      },
      "outputs": [],
      "source": [
        "# Esta celda esta reservada para uso del equipo docente"
      ]
    },
    {
      "cell_type": "markdown",
      "metadata": {
        "deletable": false,
        "editable": false,
        "nbgrader": {
          "cell_type": "markdown",
          "checksum": "56f4327464ec934dee0ea31d6c3a8c03",
          "grade": false,
          "grade_id": "cell-032e2c76bf498b03",
          "locked": true,
          "schema_version": 3,
          "solution": false,
          "task": false
        },
        "id": "RfLfhe3pa54E"
      },
      "source": [
        "### Variables de decisión\n",
        "\n",
        "Como variables del problema tenemos las variables para decidir la asignación de depósitos a CAC y la variable auxiliar `z` para permitir un objetivo min-max\n",
        "\n",
        ">* $x_{ij} = \\begin{cases}1, & \\text{si el depósito} \\, i\\in I \\text{ atiende al CAC } \\, j\\in J \\\\ 0, & \\text{de lo contrario}\\end{cases} $\n",
        "\n",
        ">* $z$: máxima demanda atendida por un depósito"
      ]
    },
    {
      "cell_type": "markdown",
      "metadata": {
        "deletable": false,
        "editable": false,
        "nbgrader": {
          "cell_type": "markdown",
          "checksum": "b261f69d1321bdbd1a442fe1cd4e471b",
          "grade": false,
          "grade_id": "cell-a3aee7843a8845f1",
          "locked": true,
          "schema_version": 3,
          "solution": false,
          "task": false
        },
        "id": "hW710n_Ra54E"
      },
      "source": [
        "**Pregunta 3 (5 puntos)**\n",
        "* Crea las variables del modelo: `x` y `z`, usando el método `lp.LpVariable.dicts()` y `lp.LpVariable()` respectivamente.\n",
        "* Especifica el nombre de la variable `x` como `'atender'` y el de `z` como `'demanda_max'`, usando el argumento `name`\n",
        "* Especifica los indices de las variables con el argumento `indexs`, en caso de ser necesario\n",
        "* Especifica el tipo de variable con el argumento `cat`\n",
        "* Especifica la cota inferior de las variables en 0 con el argumento `lowBound`, en caso de ser necesario"
      ]
    },
    {
      "cell_type": "code",
      "execution_count": 14,
      "metadata": {
        "deletable": false,
        "nbgrader": {
          "cell_type": "code",
          "checksum": "cf2dd3db633ddbc7cddd6f818d7b7068",
          "grade": false,
          "grade_id": "cell-57942564bc68df9c",
          "locked": false,
          "schema_version": 3,
          "solution": true,
          "task": false
        },
        "id": "mOxNdvVda54E"
      },
      "outputs": [],
      "source": [
        "# your code here\n",
        "# Variable xij: 1 si el depósito i atiende al CAC j, 0 de lo contrario.\n",
        "# Se crea un diccionario de variables binarias donde las llaves del diccionario son las combinaciones de depósitos y CACs\n",
        "x = lp.LpVariable.dicts(\"atender\", [(i, j) for i in Depositos for j in Centros], cat='Binary', lowBound=0)\n",
        "\n",
        "\n",
        "# Variable z: máxima demanda atendida por un depósito\n",
        "z = lp.LpVariable(\"demanda_max\", lowBound=0, cat='Continuous')\n",
        "\n"
      ]
    },
    {
      "cell_type": "code",
      "source": [],
      "metadata": {
        "id": "OCqBdVi8eSQt"
      },
      "execution_count": 14,
      "outputs": []
    },
    {
      "cell_type": "code",
      "execution_count": 15,
      "metadata": {
        "deletable": false,
        "editable": false,
        "nbgrader": {
          "cell_type": "code",
          "checksum": "0e007932ee311ce20f08b13e5cba88dc",
          "grade": true,
          "grade_id": "cell-554425e3e71ef09e",
          "locked": true,
          "points": 0,
          "schema_version": 3,
          "solution": false,
          "task": false
        },
        "id": "F7b5aisQa54E"
      },
      "outputs": [],
      "source": [
        "# Esta celda esta reservada para uso del equipo docente"
      ]
    },
    {
      "cell_type": "markdown",
      "metadata": {
        "deletable": false,
        "editable": false,
        "nbgrader": {
          "cell_type": "markdown",
          "checksum": "58917b6ff35d67d65d99b6841f70da5d",
          "grade": false,
          "grade_id": "cell-747431c6a3556e72",
          "locked": true,
          "schema_version": 3,
          "solution": false,
          "task": false
        },
        "id": "qyXOmc2Xa54E"
      },
      "source": [
        "### Función objetivo\n",
        "\n",
        "Recuerda que en este ejercicio tratamos con un problema de balance min-max. Es muy importante hacer uso de la variable auxiliar en este paso. Te aconsejamos escribir primero la ecuación y luego implementarla.\n",
        "\n",
        "Minimizar la máxima demanda atendida por un depósito\n",
        "> *# Para desarrollo del estudiante*"
      ]
    },
    {
      "cell_type": "markdown",
      "metadata": {
        "deletable": false,
        "editable": false,
        "nbgrader": {
          "cell_type": "markdown",
          "checksum": "c22d517c98a80654ab535362a23ece48",
          "grade": false,
          "grade_id": "cell-b31d18c2bc66802d",
          "locked": true,
          "schema_version": 3,
          "solution": false,
          "task": false
        },
        "id": "V7kA3rw8a54E"
      },
      "source": [
        "**Pregunta 4 (15 puntos)**\n",
        "* Crea la función objetivo y agrégala al modelo `problema`\n",
        "\n",
        "> **Recuerda** que es buena práctica escribir la expresión antes de implementarla"
      ]
    },
    {
      "cell_type": "code",
      "execution_count": 16,
      "metadata": {
        "deletable": false,
        "nbgrader": {
          "cell_type": "code",
          "checksum": "4bf8b2a2bb8b876312d6885c361b22b7",
          "grade": false,
          "grade_id": "cell-566757a400fe8bde",
          "locked": false,
          "schema_version": 3,
          "solution": true,
          "task": false
        },
        "id": "YNy6i1y0a54E"
      },
      "outputs": [],
      "source": [
        "# your code here\n",
        "# Función objetivo: Minimizar la máxima demanda atendida por un depósito\n",
        "problema += z, \"Minimizar_maxima_demanda\"\n",
        "\n"
      ]
    },
    {
      "cell_type": "code",
      "source": [
        "# Mostrar el modelo para verificar\n",
        "print(problema)"
      ],
      "metadata": {
        "id": "va7To5I8bjJf",
        "colab": {
          "base_uri": "https://localhost:8080/"
        },
        "outputId": "df1bfc91-5a0b-40e0-a4c0-fe1bc6ebe8ce"
      },
      "execution_count": 17,
      "outputs": [
        {
          "output_type": "stream",
          "name": "stdout",
          "text": [
            "NoName:\n",
            "MINIMIZE\n",
            "1*demanda_max + 0\n",
            "VARIABLES\n",
            "demanda_max Continuous\n",
            "\n"
          ]
        }
      ]
    },
    {
      "cell_type": "code",
      "execution_count": 18,
      "metadata": {
        "deletable": false,
        "editable": false,
        "nbgrader": {
          "cell_type": "code",
          "checksum": "b210ad3498cbb0fbd5e58b4563ae84dd",
          "grade": true,
          "grade_id": "cell-54a77134f52db12f",
          "locked": true,
          "points": 15,
          "schema_version": 3,
          "solution": false,
          "task": false
        },
        "id": "lgfBkD49a54F"
      },
      "outputs": [],
      "source": [
        "# Esta celda esta reservada para uso del equipo docente"
      ]
    },
    {
      "cell_type": "code",
      "execution_count": 19,
      "metadata": {
        "deletable": false,
        "editable": false,
        "nbgrader": {
          "cell_type": "code",
          "checksum": "b55fbcefaf35f27ca9e7a94cfed93357",
          "grade": true,
          "grade_id": "cell-31216d1df3d66889",
          "locked": true,
          "points": 0,
          "schema_version": 3,
          "solution": false,
          "task": false
        },
        "id": "qh8Vk5ema54F"
      },
      "outputs": [],
      "source": [
        "# Esta celda esta reservada para uso del equipo docente"
      ]
    },
    {
      "cell_type": "markdown",
      "metadata": {
        "deletable": false,
        "editable": false,
        "nbgrader": {
          "cell_type": "markdown",
          "checksum": "eb2b096aa0d9eb4431eb33f5a4bfc134",
          "grade": false,
          "grade_id": "cell-d6fa9f15b71fb4ce",
          "locked": true,
          "schema_version": 3,
          "solution": false,
          "task": false
        },
        "id": "nfnejjwJa54F"
      },
      "source": [
        "### Restricciones\n",
        "\n",
        "Para solucionar el problema de balance min-max es crucial crear la restricción que asigna el valor a la variable auxiliar. Sigue las instrucciones de cada restricción.\n",
        "    \n",
        "> **Advertencia**: En `pulp` no es recomendable sobreescribir restricciones, entonces, si ya creaste una restricción y quieres crearla de nuevo para corregir algo, asegúrate de volver a crear el objeto `problema` desde el principio. (Nosotros haremos esto antes de calificar, no te preocupes)"
      ]
    },
    {
      "cell_type": "markdown",
      "metadata": {
        "deletable": false,
        "editable": false,
        "nbgrader": {
          "cell_type": "markdown",
          "checksum": "60c56eb8207b76e7fe1c4bdb1df330ce",
          "grade": false,
          "grade_id": "cell-cafbfe8147399abf",
          "locked": true,
          "schema_version": 3,
          "solution": false,
          "task": false
        },
        "id": "avDBd460a54F"
      },
      "source": [
        "**Pregunta 5 (20 puntos)**\n",
        "\n",
        "La siguiente restricción debe capturar la máxima demanda en la variable auxilizar `z` para poder resolver el problema min-max.\n",
        "\n",
        "* Crea el siguiente grupo de restricciones, asígnales el nombre `'R1_'+str(<indice_del_para_todo>)` y añádelo al modelo:\n",
        "\n",
        "> 1. Capturar en $z$ la máxima demanda atendida por un depósito\n",
        ">> *# Para desarrollo del estudiante*"
      ]
    },
    {
      "cell_type": "code",
      "execution_count": 20,
      "metadata": {
        "deletable": false,
        "nbgrader": {
          "cell_type": "code",
          "checksum": "87a2fac0f6799d58cb1635ca07f9f433",
          "grade": false,
          "grade_id": "cell-2e79c974d25a4d4e",
          "locked": false,
          "schema_version": 3,
          "solution": true,
          "task": false
        },
        "id": "tzLRLMk8a54F"
      },
      "outputs": [],
      "source": [
        "# your code here\n",
        "# Restricción: Capturar en z la máxima demanda atendida por un depósito\n",
        "for i in Depositos:\n",
        "    problema += lp.lpSum(produccion[j] * x[i, j] for j in Centros) <= z, f\"R1_{i}\"\n",
        "\n",
        "\n",
        "\n"
      ]
    },
    {
      "cell_type": "code",
      "execution_count": 21,
      "metadata": {
        "deletable": false,
        "editable": false,
        "nbgrader": {
          "cell_type": "code",
          "checksum": "3f1bed5978888bba82ddfea1a33e51c6",
          "grade": true,
          "grade_id": "cell-5b17bf0473e87b81",
          "locked": true,
          "points": 20,
          "schema_version": 3,
          "solution": false,
          "task": false
        },
        "id": "wJdFFrGta54F"
      },
      "outputs": [],
      "source": [
        "# Esta celda esta reservada para uso del equipo docente"
      ]
    },
    {
      "cell_type": "markdown",
      "metadata": {
        "deletable": false,
        "editable": false,
        "nbgrader": {
          "cell_type": "markdown",
          "checksum": "4c5ec7511df92e16ac777fcbfb4ed87b",
          "grade": false,
          "grade_id": "cell-c956875838d9d913",
          "locked": true,
          "schema_version": 3,
          "solution": false,
          "task": false
        },
        "id": "SpB18EKQa54F"
      },
      "source": [
        "**Pregunta 6 (10 puntos)**\n",
        "\n",
        "* Crea la siguiente grupo de restricciones, asígnales el nombre `'R2_'+str(<indice_del_para_todo>)` y añádelo al modelo:\n",
        "\n",
        "> 2. Todo CAC debe ser atendido por un **único** depósito\n",
        ">> *# Para desarrollo del estudiante*"
      ]
    },
    {
      "cell_type": "code",
      "execution_count": 22,
      "metadata": {
        "deletable": false,
        "nbgrader": {
          "cell_type": "code",
          "checksum": "6e06621949ae832b0ce6e3df25fb9f58",
          "grade": false,
          "grade_id": "cell-5438e0a5d6ae7853",
          "locked": false,
          "schema_version": 3,
          "solution": true,
          "task": false
        },
        "id": "y3f6uSgza54G"
      },
      "outputs": [],
      "source": [
        "# your code here\n",
        "# Restricción: Todo CAC debe ser atendido por un único depósito\n",
        "for j in Centros:\n",
        "    problema += lp.lpSum(x[i, j] for i in Depositos) == 1, f\"R2_{j}\"\n",
        "\n"
      ]
    },
    {
      "cell_type": "code",
      "execution_count": 23,
      "metadata": {
        "deletable": false,
        "editable": false,
        "nbgrader": {
          "cell_type": "code",
          "checksum": "a65620a7b7c2fd4827dfa87da0b6f920",
          "grade": true,
          "grade_id": "cell-5f7657123e172a5c",
          "locked": true,
          "points": 10,
          "schema_version": 3,
          "solution": false,
          "task": false
        },
        "id": "lra3qr-ta54G"
      },
      "outputs": [],
      "source": [
        "# Esta celda esta reservada para uso del equipo docente"
      ]
    },
    {
      "cell_type": "markdown",
      "metadata": {
        "deletable": false,
        "editable": false,
        "nbgrader": {
          "cell_type": "markdown",
          "checksum": "5c2f426ada1f7545aa70a07e7884326d",
          "grade": false,
          "grade_id": "cell-27346e36023e57f0",
          "locked": true,
          "schema_version": 3,
          "solution": false,
          "task": false
        },
        "id": "JXXTINa7a54J"
      },
      "source": [
        "**Pregunta 7 (10 puntos)**\n",
        "\n",
        "* Crea el siguiente grupo de restricciones, asígnales el nombre `'R3_'+str(<indice_del_para_todo>)` y añádelo al modelo:\n",
        "\n",
        "> 3. La demanda atendida por un depósito no puede superar su capacidad\n",
        ">> *# Para desarrollo del estudiante*"
      ]
    },
    {
      "cell_type": "code",
      "execution_count": 24,
      "metadata": {
        "deletable": false,
        "nbgrader": {
          "cell_type": "code",
          "checksum": "e821d186cd8b0ebc612f95a55e1063f0",
          "grade": false,
          "grade_id": "cell-86d9081b47152b81",
          "locked": false,
          "schema_version": 3,
          "solution": true,
          "task": false
        },
        "id": "V4eXnsOHa54J"
      },
      "outputs": [],
      "source": [
        "# your code here\n",
        "# Restricción: La demanda atendida por un depósito no puede superar su capacidad\n",
        "for i in Depositos:\n",
        "    problema += lp.lpSum(produccion[j] * x[i, j] for j in Centros) <= capacidad[i], f\"R3_{i}\"\n"
      ]
    },
    {
      "cell_type": "code",
      "execution_count": 25,
      "metadata": {
        "deletable": false,
        "editable": false,
        "nbgrader": {
          "cell_type": "code",
          "checksum": "4b782d2bcda3c483d9b5673073813ab3",
          "grade": true,
          "grade_id": "cell-d8c100ee66144532",
          "locked": true,
          "points": 10,
          "schema_version": 3,
          "solution": false,
          "task": false
        },
        "id": "Udyo2Wgma54K"
      },
      "outputs": [],
      "source": [
        "# Esta celda esta reservada para uso del equipo docente"
      ]
    },
    {
      "cell_type": "markdown",
      "metadata": {
        "deletable": false,
        "editable": false,
        "nbgrader": {
          "cell_type": "markdown",
          "checksum": "a38a010dda3507e88637355f068c3455",
          "grade": false,
          "grade_id": "cell-11d154f7cbe3ba7b",
          "locked": true,
          "schema_version": 3,
          "solution": false,
          "task": false
        },
        "id": "vWtpejf-a54K"
      },
      "source": [
        "**Pregunta 8 (15 puntos)**\n",
        "\n",
        "* Crea la siguiente restricción, asígnale el nombre `'R4'` y añádela al modelo:\n",
        "\n",
        "> 4. El costo total de la solución puede ser, a lo sumo, 10% más alto que el de la solución de mínimo costo\n",
        ">> *# Para desarrollo del estudiante*"
      ]
    },
    {
      "cell_type": "code",
      "execution_count": 26,
      "metadata": {
        "deletable": false,
        "nbgrader": {
          "cell_type": "code",
          "checksum": "d73a4340da1c7213430db2c582b649ea",
          "grade": false,
          "grade_id": "cell-d4e085deadc065c5",
          "locked": false,
          "schema_version": 3,
          "solution": true,
          "task": false
        },
        "id": "qDro5gaFa54K"
      },
      "outputs": [],
      "source": [
        "# your code here\n",
        "# Restricción: El costo total de la solución puede ser, a lo sumo, 10% más alto que el de la solución de mínimo costo\n",
        "problema += lp.lpSum(costo_transporte[i, j] * x[i, j] for i in Depositos for j in Centros) <= 1.1 * mejor_costo, \"R4\"\n"
      ]
    },
    {
      "cell_type": "code",
      "execution_count": 27,
      "metadata": {
        "deletable": false,
        "editable": false,
        "nbgrader": {
          "cell_type": "code",
          "checksum": "c4152e20c789488191bff5b7303f6faf",
          "grade": true,
          "grade_id": "cell-bbd7c2859a2fb18f",
          "locked": true,
          "points": 15,
          "schema_version": 3,
          "solution": false,
          "task": false
        },
        "id": "fveQ8I06a54K"
      },
      "outputs": [],
      "source": [
        "# Esta celda esta reservada para uso del equipo docente"
      ]
    },
    {
      "cell_type": "code",
      "execution_count": 28,
      "metadata": {
        "deletable": false,
        "editable": false,
        "nbgrader": {
          "cell_type": "code",
          "checksum": "04327b129ede6156537a6f50dedace88",
          "grade": true,
          "grade_id": "cell-852cae9567dbdf14",
          "locked": true,
          "points": 0,
          "schema_version": 3,
          "solution": false,
          "task": false
        },
        "id": "gRZtKDtKa54K"
      },
      "outputs": [],
      "source": [
        "# Esta celda esta reservada para uso del equipo docente"
      ]
    },
    {
      "cell_type": "markdown",
      "metadata": {
        "deletable": false,
        "editable": false,
        "nbgrader": {
          "cell_type": "markdown",
          "checksum": "bca9fa411ca1980e063336d88fc2181d",
          "grade": false,
          "grade_id": "cell-31445d212bcb279b",
          "locked": true,
          "schema_version": 3,
          "solution": false,
          "task": false
        },
        "id": "NJ62Hzcwa54K"
      },
      "source": [
        "### Invocar el optimizador\n",
        "\n",
        "¡Hora de correr el modelo!\n",
        "\n",
        "Notarás que hay algunos argumentos adicionales en el código que corre el modelo. Queremos establecer un **criterio de parada** mediante la brecha de optimalidad o *gap* ($(UB-LB)/LB$, para caso de minimización), ya que el tamaño del problema y el uso de Branch & Bound hacen que este problema tome un rato en correr. Para crear este criterio, creamos el objeto `solver` que contiene el optimizador y asigna al argumento `gapRel` el valor del *gap* que queremos permitir. En este caso $0.1\\%$ es suficientemente bueno para nosotros.\n",
        "\n",
        "Además, hemos incluido un código para calcular el tiempo de corrida usando la librería `datetime`!\n",
        "\n",
        "Si quieres una respuesta más precisa, reduce el *gap* del argumento `gapRel` a un valor más pequeño y comprueba el nuevo tiempo de corrida."
      ]
    },
    {
      "cell_type": "code",
      "execution_count": 29,
      "metadata": {
        "colab": {
          "base_uri": "https://localhost:8080/"
        },
        "id": "Y0EYnPR6a54L",
        "outputId": "dd2a1be8-974a-4783-fefb-7478ce38eb4c"
      },
      "outputs": [
        {
          "output_type": "stream",
          "name": "stdout",
          "text": [
            "Tiempo transcurrido: 0:00:05.657481\n"
          ]
        }
      ],
      "source": [
        "# Optimizar el modelo con CBC (default de PuLP)\n",
        "inicio = datetime.now()\n",
        "solver = lp.PULP_CBC_CMD(gapRel=0.001, msg=False)  # Criterio de parada: Gap <= 0.1%\n",
        "problema.solve(solver)\n",
        "print(\"Tiempo transcurrido:\", datetime.now() - inicio)"
      ]
    },
    {
      "cell_type": "markdown",
      "metadata": {
        "deletable": false,
        "editable": false,
        "nbgrader": {
          "cell_type": "markdown",
          "checksum": "6ce17df280f160726c71dc94accbf45b",
          "grade": false,
          "grade_id": "cell-b1766f2e759f8b12",
          "locked": true,
          "schema_version": 3,
          "solution": false,
          "task": false
        },
        "tags": [],
        "id": "HtSgY-FOa54L"
      },
      "source": [
        "## Reporte de resultados\n",
        "---"
      ]
    },
    {
      "cell_type": "markdown",
      "metadata": {
        "deletable": false,
        "editable": false,
        "nbgrader": {
          "cell_type": "markdown",
          "checksum": "6aed93c3b3a03d6ae9785cda7926825b",
          "grade": false,
          "grade_id": "cell-1422f3d782be0722",
          "locked": true,
          "schema_version": 3,
          "solution": false,
          "task": false
        },
        "id": "IPDkcxvya54L"
      },
      "source": [
        "**Estado del optimizador, función objetivo y otros indicadores**"
      ]
    },
    {
      "cell_type": "markdown",
      "metadata": {
        "deletable": false,
        "editable": false,
        "nbgrader": {
          "cell_type": "markdown",
          "checksum": "077f2fab0c632240fdd54c86a6afc463",
          "grade": false,
          "grade_id": "cell-e4f89f3c8d92445d",
          "locked": true,
          "schema_version": 3,
          "solution": false,
          "task": false
        },
        "id": "X61-6uXAa54L"
      },
      "source": [
        "**Pregunta 9 (5 puntos)**\n",
        "* Despues de haber corrido el modelo: `<modelo>.solve()`, asigna a una nueva variable `estado` el estado del optimizador **en palabras** según `lp.LpStatus`.\n",
        "* También, asigna el valor de la función objetivo a la variable `obj`"
      ]
    },
    {
      "cell_type": "code",
      "execution_count": 30,
      "metadata": {
        "deletable": false,
        "nbgrader": {
          "cell_type": "code",
          "checksum": "f4307dde014a1d0f921374a0f40cc941",
          "grade": false,
          "grade_id": "cell-7e5a4476db8fcb93",
          "locked": false,
          "schema_version": 3,
          "solution": true,
          "task": false
        },
        "id": "5VWYTKqra54L"
      },
      "outputs": [],
      "source": [
        "# your code here\n",
        "# Obtener el estado del optimizador en palabras\n",
        "estado = lp.LpStatus[problema.status]\n",
        "# Obtener el valor de la función objetivo\n",
        "obj = lp.value(problema.objective)"
      ]
    },
    {
      "cell_type": "code",
      "source": [
        "# Imprimir los resultados\n",
        "print(f\"Estado del optimizador: {estado}\")\n",
        "print(f\"Valor de la función objetivo: {obj}\")"
      ],
      "metadata": {
        "id": "xl9e1wmKqSAK",
        "colab": {
          "base_uri": "https://localhost:8080/"
        },
        "outputId": "2b9c49a8-d6ad-4070-daed-1b17419f7a77"
      },
      "execution_count": 31,
      "outputs": [
        {
          "output_type": "stream",
          "name": "stdout",
          "text": [
            "Estado del optimizador: Optimal\n",
            "Valor de la función objetivo: 105.1\n"
          ]
        }
      ]
    },
    {
      "cell_type": "code",
      "source": [],
      "metadata": {
        "id": "PjVMO1dQp0DC"
      },
      "execution_count": 31,
      "outputs": []
    },
    {
      "cell_type": "code",
      "execution_count": 32,
      "metadata": {
        "deletable": false,
        "editable": false,
        "nbgrader": {
          "cell_type": "code",
          "checksum": "cd88f7cf18e87c36e92a185469eee7b5",
          "grade": true,
          "grade_id": "cell-5a28a35abafc89a8",
          "locked": true,
          "points": 5,
          "schema_version": 3,
          "solution": false,
          "task": false
        },
        "id": "c4g2JnTia54L"
      },
      "outputs": [],
      "source": [
        "# Esta celda esta reservada para uso del equipo docente"
      ]
    },
    {
      "cell_type": "markdown",
      "metadata": {
        "deletable": false,
        "editable": false,
        "nbgrader": {
          "cell_type": "markdown",
          "checksum": "9622809f1ca36fd7bf7a1d30993eb1e6",
          "grade": false,
          "grade_id": "cell-b20c0d8c5d700631",
          "locked": true,
          "schema_version": 3,
          "solution": false,
          "task": false
        },
        "id": "-M1TGryQa54L"
      },
      "source": [
        "**Pregunta 10 (10 puntos)**\n",
        "\n",
        "* Calcula el costo total de transporte de la solución y asígnalo a una variable `costo_total`\n",
        "\n",
        "**Recuerda que** en PuLP puedes usar la función `lp.value(<expresion>)` para evaluar una expresión, reemplazando los valores de las variables por aquellos de la solución óptima. Esta función sólo debe ser llamada luego de usar `<modelo>.solve()` y haber obtenido una solución óptima.\n",
        "\n",
        "**Recuerda que**, por ejemplo, `lp.value(lp.lpSum(c[i]*x[i] for i in I))` retorna un valor de tipo numérico.   "
      ]
    },
    {
      "cell_type": "code",
      "execution_count": 33,
      "metadata": {
        "deletable": false,
        "nbgrader": {
          "cell_type": "code",
          "checksum": "8c844ef21f70a208bf82a7938b8a004d",
          "grade": false,
          "grade_id": "cell-5ef6865694e999e1",
          "locked": false,
          "schema_version": 3,
          "solution": true,
          "task": false
        },
        "id": "kp2F3O-Ga54M"
      },
      "outputs": [],
      "source": [
        "# your code here\n",
        "# Calcular el costo total de transporte\n",
        "costo_total = lp.value(lp.lpSum(costo_transporte[i, j] * x[i, j] for i, j in x.keys()))"
      ]
    },
    {
      "cell_type": "code",
      "source": [
        "# Calcular el costo total de transporte de la solución\n",
        "costo_total = lp.value(lp.lpSum(costo_transporte[i, j] * x[i, j] for i in Depositos for j in Centros))\n"
      ],
      "metadata": {
        "id": "HcH5MzuU02QF"
      },
      "execution_count": 34,
      "outputs": []
    },
    {
      "cell_type": "code",
      "source": [
        "# Imprimir los resultados\n",
        "print(f\"Estado del optimizador: {estado}\")\n",
        "print(f\"Valor de la función objetivo: {obj}\")\n",
        "print(f\"Costo total de transporte: {costo_total}\")"
      ],
      "metadata": {
        "id": "mNFS6SBashmQ",
        "colab": {
          "base_uri": "https://localhost:8080/"
        },
        "outputId": "9155485d-e768-4487-d822-46e2df193e31"
      },
      "execution_count": 35,
      "outputs": [
        {
          "output_type": "stream",
          "name": "stdout",
          "text": [
            "Estado del optimizador: Optimal\n",
            "Valor de la función objetivo: 105.1\n",
            "Costo total de transporte: 26711568.591562413\n"
          ]
        }
      ]
    },
    {
      "cell_type": "code",
      "execution_count": 36,
      "metadata": {
        "deletable": false,
        "editable": false,
        "nbgrader": {
          "cell_type": "code",
          "checksum": "3a2b83f954d1b3b63dc9e78e92d1d791",
          "grade": true,
          "grade_id": "cell-fcc7fe6344d088d3",
          "locked": true,
          "points": 10,
          "schema_version": 3,
          "solution": false,
          "task": false
        },
        "id": "09XDXx8Ca54M"
      },
      "outputs": [],
      "source": [
        "# Esta celda esta reservada para uso del equipo docente"
      ]
    },
    {
      "cell_type": "markdown",
      "metadata": {
        "deletable": false,
        "editable": false,
        "nbgrader": {
          "cell_type": "markdown",
          "checksum": "1e32cd7a94b0b77bb64805eaf635966d",
          "grade": false,
          "grade_id": "cell-0254e0b1f475a1b0",
          "locked": true,
          "schema_version": 3,
          "solution": false,
          "task": false
        },
        "id": "od1MHXB0a54M"
      },
      "source": [
        "**Asignación de CACs a depósitos**"
      ]
    },
    {
      "cell_type": "code",
      "execution_count": 37,
      "metadata": {
        "deletable": false,
        "editable": false,
        "nbgrader": {
          "cell_type": "code",
          "checksum": "050aaa6331652e4ec6fe0abf763f7b4e",
          "grade": false,
          "grade_id": "cell-af28a5b62394b3cb",
          "locked": true,
          "schema_version": 3,
          "solution": false,
          "task": false
        },
        "id": "1S1cU--Aa54M",
        "colab": {
          "base_uri": "https://localhost:8080/",
          "height": 394
        },
        "outputId": "a8804c67-caf8-4290-cab9-de431a0b921c"
      },
      "outputs": [
        {
          "output_type": "execute_result",
          "data": {
            "text/plain": [
              "Deposito            Medellín La Dorada Aguadas Salamina\n",
              "CAC                                                    \n",
              "Andes                     X         -       -        - \n",
              "Medellín                  -         X       -        - \n",
              "Dabeiba                   X         -       -        - \n",
              "Salgar                    X         -       -        - \n",
              "San Pablo de Borbur       -         -       X        - \n",
              "Labranzagrande            -         -       X        - \n",
              "Miraflores                -         -       X        - \n",
              "Moniquirá                 -         X       -        - \n",
              "Manizales                 -         -       -        X \n",
              "Anserma                   -         -       -        X "
            ],
            "text/html": [
              "\n",
              "  <div id=\"df-456a7592-7e63-4394-8a57-b1d253dc0ea0\" class=\"colab-df-container\">\n",
              "    <div>\n",
              "<style scoped>\n",
              "    .dataframe tbody tr th:only-of-type {\n",
              "        vertical-align: middle;\n",
              "    }\n",
              "\n",
              "    .dataframe tbody tr th {\n",
              "        vertical-align: top;\n",
              "    }\n",
              "\n",
              "    .dataframe thead th {\n",
              "        text-align: right;\n",
              "    }\n",
              "</style>\n",
              "<table border=\"1\" class=\"dataframe\">\n",
              "  <thead>\n",
              "    <tr style=\"text-align: right;\">\n",
              "      <th>Deposito</th>\n",
              "      <th>Medellín</th>\n",
              "      <th>La Dorada</th>\n",
              "      <th>Aguadas</th>\n",
              "      <th>Salamina</th>\n",
              "    </tr>\n",
              "    <tr>\n",
              "      <th>CAC</th>\n",
              "      <th></th>\n",
              "      <th></th>\n",
              "      <th></th>\n",
              "      <th></th>\n",
              "    </tr>\n",
              "  </thead>\n",
              "  <tbody>\n",
              "    <tr>\n",
              "      <th>Andes</th>\n",
              "      <td>X</td>\n",
              "      <td>-</td>\n",
              "      <td>-</td>\n",
              "      <td>-</td>\n",
              "    </tr>\n",
              "    <tr>\n",
              "      <th>Medellín</th>\n",
              "      <td>-</td>\n",
              "      <td>X</td>\n",
              "      <td>-</td>\n",
              "      <td>-</td>\n",
              "    </tr>\n",
              "    <tr>\n",
              "      <th>Dabeiba</th>\n",
              "      <td>X</td>\n",
              "      <td>-</td>\n",
              "      <td>-</td>\n",
              "      <td>-</td>\n",
              "    </tr>\n",
              "    <tr>\n",
              "      <th>Salgar</th>\n",
              "      <td>X</td>\n",
              "      <td>-</td>\n",
              "      <td>-</td>\n",
              "      <td>-</td>\n",
              "    </tr>\n",
              "    <tr>\n",
              "      <th>San Pablo de Borbur</th>\n",
              "      <td>-</td>\n",
              "      <td>-</td>\n",
              "      <td>X</td>\n",
              "      <td>-</td>\n",
              "    </tr>\n",
              "    <tr>\n",
              "      <th>Labranzagrande</th>\n",
              "      <td>-</td>\n",
              "      <td>-</td>\n",
              "      <td>X</td>\n",
              "      <td>-</td>\n",
              "    </tr>\n",
              "    <tr>\n",
              "      <th>Miraflores</th>\n",
              "      <td>-</td>\n",
              "      <td>-</td>\n",
              "      <td>X</td>\n",
              "      <td>-</td>\n",
              "    </tr>\n",
              "    <tr>\n",
              "      <th>Moniquirá</th>\n",
              "      <td>-</td>\n",
              "      <td>X</td>\n",
              "      <td>-</td>\n",
              "      <td>-</td>\n",
              "    </tr>\n",
              "    <tr>\n",
              "      <th>Manizales</th>\n",
              "      <td>-</td>\n",
              "      <td>-</td>\n",
              "      <td>-</td>\n",
              "      <td>X</td>\n",
              "    </tr>\n",
              "    <tr>\n",
              "      <th>Anserma</th>\n",
              "      <td>-</td>\n",
              "      <td>-</td>\n",
              "      <td>-</td>\n",
              "      <td>X</td>\n",
              "    </tr>\n",
              "  </tbody>\n",
              "</table>\n",
              "</div>\n",
              "    <div class=\"colab-df-buttons\">\n",
              "\n",
              "  <div class=\"colab-df-container\">\n",
              "    <button class=\"colab-df-convert\" onclick=\"convertToInteractive('df-456a7592-7e63-4394-8a57-b1d253dc0ea0')\"\n",
              "            title=\"Convert this dataframe to an interactive table.\"\n",
              "            style=\"display:none;\">\n",
              "\n",
              "  <svg xmlns=\"http://www.w3.org/2000/svg\" height=\"24px\" viewBox=\"0 -960 960 960\">\n",
              "    <path d=\"M120-120v-720h720v720H120Zm60-500h600v-160H180v160Zm220 220h160v-160H400v160Zm0 220h160v-160H400v160ZM180-400h160v-160H180v160Zm440 0h160v-160H620v160ZM180-180h160v-160H180v160Zm440 0h160v-160H620v160Z\"/>\n",
              "  </svg>\n",
              "    </button>\n",
              "\n",
              "  <style>\n",
              "    .colab-df-container {\n",
              "      display:flex;\n",
              "      gap: 12px;\n",
              "    }\n",
              "\n",
              "    .colab-df-convert {\n",
              "      background-color: #E8F0FE;\n",
              "      border: none;\n",
              "      border-radius: 50%;\n",
              "      cursor: pointer;\n",
              "      display: none;\n",
              "      fill: #1967D2;\n",
              "      height: 32px;\n",
              "      padding: 0 0 0 0;\n",
              "      width: 32px;\n",
              "    }\n",
              "\n",
              "    .colab-df-convert:hover {\n",
              "      background-color: #E2EBFA;\n",
              "      box-shadow: 0px 1px 2px rgba(60, 64, 67, 0.3), 0px 1px 3px 1px rgba(60, 64, 67, 0.15);\n",
              "      fill: #174EA6;\n",
              "    }\n",
              "\n",
              "    .colab-df-buttons div {\n",
              "      margin-bottom: 4px;\n",
              "    }\n",
              "\n",
              "    [theme=dark] .colab-df-convert {\n",
              "      background-color: #3B4455;\n",
              "      fill: #D2E3FC;\n",
              "    }\n",
              "\n",
              "    [theme=dark] .colab-df-convert:hover {\n",
              "      background-color: #434B5C;\n",
              "      box-shadow: 0px 1px 3px 1px rgba(0, 0, 0, 0.15);\n",
              "      filter: drop-shadow(0px 1px 2px rgba(0, 0, 0, 0.3));\n",
              "      fill: #FFFFFF;\n",
              "    }\n",
              "  </style>\n",
              "\n",
              "    <script>\n",
              "      const buttonEl =\n",
              "        document.querySelector('#df-456a7592-7e63-4394-8a57-b1d253dc0ea0 button.colab-df-convert');\n",
              "      buttonEl.style.display =\n",
              "        google.colab.kernel.accessAllowed ? 'block' : 'none';\n",
              "\n",
              "      async function convertToInteractive(key) {\n",
              "        const element = document.querySelector('#df-456a7592-7e63-4394-8a57-b1d253dc0ea0');\n",
              "        const dataTable =\n",
              "          await google.colab.kernel.invokeFunction('convertToInteractive',\n",
              "                                                    [key], {});\n",
              "        if (!dataTable) return;\n",
              "\n",
              "        const docLinkHtml = 'Like what you see? Visit the ' +\n",
              "          '<a target=\"_blank\" href=https://colab.research.google.com/notebooks/data_table.ipynb>data table notebook</a>'\n",
              "          + ' to learn more about interactive tables.';\n",
              "        element.innerHTML = '';\n",
              "        dataTable['output_type'] = 'display_data';\n",
              "        await google.colab.output.renderOutput(dataTable, element);\n",
              "        const docLink = document.createElement('div');\n",
              "        docLink.innerHTML = docLinkHtml;\n",
              "        element.appendChild(docLink);\n",
              "      }\n",
              "    </script>\n",
              "  </div>\n",
              "\n",
              "\n",
              "<div id=\"df-3f04060b-0e2d-43ca-8b97-223c5d2d9b5a\">\n",
              "  <button class=\"colab-df-quickchart\" onclick=\"quickchart('df-3f04060b-0e2d-43ca-8b97-223c5d2d9b5a')\"\n",
              "            title=\"Suggest charts\"\n",
              "            style=\"display:none;\">\n",
              "\n",
              "<svg xmlns=\"http://www.w3.org/2000/svg\" height=\"24px\"viewBox=\"0 0 24 24\"\n",
              "     width=\"24px\">\n",
              "    <g>\n",
              "        <path d=\"M19 3H5c-1.1 0-2 .9-2 2v14c0 1.1.9 2 2 2h14c1.1 0 2-.9 2-2V5c0-1.1-.9-2-2-2zM9 17H7v-7h2v7zm4 0h-2V7h2v10zm4 0h-2v-4h2v4z\"/>\n",
              "    </g>\n",
              "</svg>\n",
              "  </button>\n",
              "\n",
              "<style>\n",
              "  .colab-df-quickchart {\n",
              "      --bg-color: #E8F0FE;\n",
              "      --fill-color: #1967D2;\n",
              "      --hover-bg-color: #E2EBFA;\n",
              "      --hover-fill-color: #174EA6;\n",
              "      --disabled-fill-color: #AAA;\n",
              "      --disabled-bg-color: #DDD;\n",
              "  }\n",
              "\n",
              "  [theme=dark] .colab-df-quickchart {\n",
              "      --bg-color: #3B4455;\n",
              "      --fill-color: #D2E3FC;\n",
              "      --hover-bg-color: #434B5C;\n",
              "      --hover-fill-color: #FFFFFF;\n",
              "      --disabled-bg-color: #3B4455;\n",
              "      --disabled-fill-color: #666;\n",
              "  }\n",
              "\n",
              "  .colab-df-quickchart {\n",
              "    background-color: var(--bg-color);\n",
              "    border: none;\n",
              "    border-radius: 50%;\n",
              "    cursor: pointer;\n",
              "    display: none;\n",
              "    fill: var(--fill-color);\n",
              "    height: 32px;\n",
              "    padding: 0;\n",
              "    width: 32px;\n",
              "  }\n",
              "\n",
              "  .colab-df-quickchart:hover {\n",
              "    background-color: var(--hover-bg-color);\n",
              "    box-shadow: 0 1px 2px rgba(60, 64, 67, 0.3), 0 1px 3px 1px rgba(60, 64, 67, 0.15);\n",
              "    fill: var(--button-hover-fill-color);\n",
              "  }\n",
              "\n",
              "  .colab-df-quickchart-complete:disabled,\n",
              "  .colab-df-quickchart-complete:disabled:hover {\n",
              "    background-color: var(--disabled-bg-color);\n",
              "    fill: var(--disabled-fill-color);\n",
              "    box-shadow: none;\n",
              "  }\n",
              "\n",
              "  .colab-df-spinner {\n",
              "    border: 2px solid var(--fill-color);\n",
              "    border-color: transparent;\n",
              "    border-bottom-color: var(--fill-color);\n",
              "    animation:\n",
              "      spin 1s steps(1) infinite;\n",
              "  }\n",
              "\n",
              "  @keyframes spin {\n",
              "    0% {\n",
              "      border-color: transparent;\n",
              "      border-bottom-color: var(--fill-color);\n",
              "      border-left-color: var(--fill-color);\n",
              "    }\n",
              "    20% {\n",
              "      border-color: transparent;\n",
              "      border-left-color: var(--fill-color);\n",
              "      border-top-color: var(--fill-color);\n",
              "    }\n",
              "    30% {\n",
              "      border-color: transparent;\n",
              "      border-left-color: var(--fill-color);\n",
              "      border-top-color: var(--fill-color);\n",
              "      border-right-color: var(--fill-color);\n",
              "    }\n",
              "    40% {\n",
              "      border-color: transparent;\n",
              "      border-right-color: var(--fill-color);\n",
              "      border-top-color: var(--fill-color);\n",
              "    }\n",
              "    60% {\n",
              "      border-color: transparent;\n",
              "      border-right-color: var(--fill-color);\n",
              "    }\n",
              "    80% {\n",
              "      border-color: transparent;\n",
              "      border-right-color: var(--fill-color);\n",
              "      border-bottom-color: var(--fill-color);\n",
              "    }\n",
              "    90% {\n",
              "      border-color: transparent;\n",
              "      border-bottom-color: var(--fill-color);\n",
              "    }\n",
              "  }\n",
              "</style>\n",
              "\n",
              "  <script>\n",
              "    async function quickchart(key) {\n",
              "      const quickchartButtonEl =\n",
              "        document.querySelector('#' + key + ' button');\n",
              "      quickchartButtonEl.disabled = true;  // To prevent multiple clicks.\n",
              "      quickchartButtonEl.classList.add('colab-df-spinner');\n",
              "      try {\n",
              "        const charts = await google.colab.kernel.invokeFunction(\n",
              "            'suggestCharts', [key], {});\n",
              "      } catch (error) {\n",
              "        console.error('Error during call to suggestCharts:', error);\n",
              "      }\n",
              "      quickchartButtonEl.classList.remove('colab-df-spinner');\n",
              "      quickchartButtonEl.classList.add('colab-df-quickchart-complete');\n",
              "    }\n",
              "    (() => {\n",
              "      let quickchartButtonEl =\n",
              "        document.querySelector('#df-3f04060b-0e2d-43ca-8b97-223c5d2d9b5a button');\n",
              "      quickchartButtonEl.style.display =\n",
              "        google.colab.kernel.accessAllowed ? 'block' : 'none';\n",
              "    })();\n",
              "  </script>\n",
              "</div>\n",
              "\n",
              "    </div>\n",
              "  </div>\n"
            ],
            "application/vnd.google.colaboratory.intrinsic+json": {
              "type": "dataframe",
              "variable_name": "df",
              "summary": "{\n  \"name\": \"df\",\n  \"rows\": 55,\n  \"fields\": [\n    {\n      \"column\": \"CAC\",\n      \"properties\": {\n        \"dtype\": \"string\",\n        \"num_unique_values\": 55,\n        \"samples\": [\n          \"G\\u00e9nova\",\n          \"Labranzagrande\",\n          \"Calarc\\u00e1\"\n        ],\n        \"semantic_type\": \"\",\n        \"description\": \"\"\n      }\n    },\n    {\n      \"column\": \"Medell\\u00edn\",\n      \"properties\": {\n        \"dtype\": \"category\",\n        \"num_unique_values\": 2,\n        \"samples\": [\n          \" - \",\n          \" X \"\n        ],\n        \"semantic_type\": \"\",\n        \"description\": \"\"\n      }\n    },\n    {\n      \"column\": \"La Dorada\",\n      \"properties\": {\n        \"dtype\": \"category\",\n        \"num_unique_values\": 2,\n        \"samples\": [\n          \" X \",\n          \" - \"\n        ],\n        \"semantic_type\": \"\",\n        \"description\": \"\"\n      }\n    },\n    {\n      \"column\": \"Aguadas\",\n      \"properties\": {\n        \"dtype\": \"category\",\n        \"num_unique_values\": 2,\n        \"samples\": [\n          \" X \",\n          \" - \"\n        ],\n        \"semantic_type\": \"\",\n        \"description\": \"\"\n      }\n    },\n    {\n      \"column\": \"Salamina\",\n      \"properties\": {\n        \"dtype\": \"category\",\n        \"num_unique_values\": 2,\n        \"samples\": [\n          \" X \",\n          \" - \"\n        ],\n        \"semantic_type\": \"\",\n        \"description\": \"\"\n      }\n    }\n  ]\n}"
            }
          },
          "metadata": {},
          "execution_count": 37
        }
      ],
      "source": [
        "matriz = []\n",
        "for j in Centros:\n",
        "    # Cada fila contiene la información de un pozo\n",
        "    fila = []\n",
        "    for i in Depositos:\n",
        "        if x[i, j].value() > 0:\n",
        "            fila.append(\" X \")\n",
        "        else:\n",
        "            fila.append(\" - \")\n",
        "    matriz.append(fila)\n",
        "\n",
        "df = pd.DataFrame(matriz, index=Centros, columns=Depositos)\n",
        "df.columns.name = \"Deposito\"\n",
        "df.index.name = \"CAC\"\n",
        "df.head(10)"
      ]
    },
    {
      "cell_type": "markdown",
      "metadata": {
        "deletable": false,
        "editable": false,
        "nbgrader": {
          "cell_type": "markdown",
          "checksum": "0e00fc2e64457d1e8cd258cc505d939d",
          "grade": false,
          "grade_id": "cell-fd6a91eb23723db3",
          "locked": true,
          "schema_version": 3,
          "solution": false,
          "task": false
        },
        "tags": [],
        "id": "HNFZf38sa54M"
      },
      "source": [
        "## Visualizaciones\n",
        "---"
      ]
    },
    {
      "cell_type": "markdown",
      "metadata": {
        "deletable": false,
        "editable": false,
        "nbgrader": {
          "cell_type": "markdown",
          "checksum": "a10e3f9691efcfdb47e67365dadc9705",
          "grade": false,
          "grade_id": "cell-83d8e0c4992d661d",
          "locked": true,
          "schema_version": 3,
          "solution": false,
          "task": false
        },
        "id": "uZd4DFzta54M"
      },
      "source": [
        "**Demandas atendidas por cada depósito**"
      ]
    },
    {
      "cell_type": "code",
      "execution_count": 38,
      "metadata": {
        "deletable": false,
        "editable": false,
        "nbgrader": {
          "cell_type": "code",
          "checksum": "512d661b34ce73a21fda4a0ff73b77a2",
          "grade": false,
          "grade_id": "cell-a35affd66d80a167",
          "locked": true,
          "schema_version": 3,
          "solution": false,
          "task": false
        },
        "id": "X4UzlME_a54M",
        "colab": {
          "base_uri": "https://localhost:8080/",
          "height": 579
        },
        "outputId": "535a7cf6-aca1-444b-e3a8-769e6b9b3999"
      },
      "outputs": [
        {
          "output_type": "stream",
          "name": "stderr",
          "text": [
            "<ipython-input-38-729dd0097f6f>:4: MatplotlibDeprecationWarning: The seaborn styles shipped by Matplotlib are deprecated since 3.6, as they no longer correspond to the styles shipped by seaborn. However, they will remain available as 'seaborn-v0_8-<style>'. Alternatively, directly use the seaborn API instead.\n",
            "  plt.style.use(\"seaborn\")\n"
          ]
        },
        {
          "output_type": "display_data",
          "data": {
            "text/plain": [
              "<Figure size 800x550 with 1 Axes>"
            ],
            "image/png": "[encoded data removed]"
          },
          "metadata": {
            "image/png": {
              "width": 693,
              "height": 507
            }
          }
        }
      ],
      "source": [
        "import matplotlib.pyplot as plt\n",
        "\n",
        "%config InlineBackend.figure_format='retina'\n",
        "plt.style.use(\"seaborn\")\n",
        "\n",
        "utilizado = []\n",
        "for i in Depositos:\n",
        "    utilizado.append(sum(produccion[j] * x[i, j].value() for j in Centros))\n",
        "\n",
        "plt.bar(\n",
        "    Depositos, [cap - 1 for cap in capacidad.values()], alpha=0.2, label=\"Capacidad\"\n",
        ")\n",
        "plt.bar(Depositos, utilizado, alpha=0.7, label=\"Demanda atendida\")\n",
        "plt.legend()\n",
        "plt.xlabel(\"Depósito\")\n",
        "plt.ylabel(\"Demanda atendida\")\n",
        "plt.title(\"Balance de demanda entre Depósitos\")\n",
        "plt.show()"
      ]
    },
    {
      "cell_type": "markdown",
      "metadata": {
        "deletable": false,
        "editable": false,
        "nbgrader": {
          "cell_type": "markdown",
          "checksum": "96a42c71316fb8b3ae9f06eaf23a2a45",
          "grade": false,
          "grade_id": "cell-2fe5r51c526bb342",
          "locked": true,
          "schema_version": 3,
          "solution": false,
          "task": false
        },
        "id": "Hjtbb6B2a54N"
      },
      "source": [
        "## Opcional (0 puntos)\n",
        "\n",
        "*Una vez esté listo el modelo, puedes cambiar los valores de los parámetros a continuación para verificar cómo cambian las soluciones y la función objetivo. Para esto debes correr nuevamente las celdas que crean el modelo desde el principio*"
      ]
    },
    {
      "cell_type": "code",
      "execution_count": 39,
      "metadata": {
        "id": "Ie90J4Era54N"
      },
      "outputs": [],
      "source": [
        "# Parámetros modificables\n",
        "q = 300                 # En miles de toneladas por km\n",
        "mejor_costo = 24320009  # Función objetivo del caso de minimizacion de costos"
      ]
    },
    {
      "cell_type": "markdown",
      "metadata": {
        "deletable": false,
        "editable": false,
        "nbgrader": {
          "cell_type": "markdown",
          "checksum": "8719e504c1da6ce7d238acd1072b9383",
          "grade": false,
          "grade_id": "cell-2fe5051c526bb342",
          "locked": true,
          "schema_version": 3,
          "solution": false,
          "task": false
        },
        "id": "8CLtEH-Pa54N"
      },
      "source": [
        "**Reflexión**: ¿Qué aspecto particular puedes notar en la visualización de la solución? ¿Crees que está relacionado con la función objetivo?"
      ]
    },
    {
      "cell_type": "markdown",
      "metadata": {
        "deletable": false,
        "editable": false,
        "nbgrader": {
          "cell_type": "markdown",
          "checksum": "e5fc39b5f94350d7175353cc78550298",
          "grade": false,
          "grade_id": "cell-3c8eba2ba96ba017",
          "locked": true,
          "schema_version": 3,
          "solution": false,
          "task": false
        },
        "id": "57PZTzFEa54N"
      },
      "source": [
        "### Fin del laboratorio\n",
        "---\n",
        "Cuando hayas finalizado las preguntas, debes presionar el botón \"Enviar tarea\" en la parte superior.\n",
        "\n",
        "Después de enviar el laboratorio, debes esperar algunos minutos para que se cargue la nota en Coursera.\n",
        "¡Muchos éxitos!"
      ]
    }
  ],
  "metadata": {
    "kernelspec": {
      "display_name": "Python 3",
      "language": "python",
      "name": "python3"
    },
    "language_info": {
      "codemirror_mode": {
        "name": "ipython",
        "version": 3
      },
      "file_extension": ".py",
      "mimetype": "text/x-python",
      "name": "python",
      "nbconvert_exporter": "python",
      "pygments_lexer": "ipython3",
      "version": "3.7.6"
    },
    "colab": {
      "provenance": [],
      "include_colab_link": true
    }
  },
  "nbformat": 4,
  "nbformat_minor": 0
}