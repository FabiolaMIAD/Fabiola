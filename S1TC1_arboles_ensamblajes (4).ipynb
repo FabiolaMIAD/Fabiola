{
  "cells": [
    {
      "cell_type": "markdown",
      "metadata": {
        "id": "HwnrTSxHBJP0"
      },
      "source": [
        "![image info](https://raw.githubusercontent.com/albahnsen/MIAD_ML_and_NLP/main/images/banner_1.png)"
      ]
    },
    {
      "cell_type": "markdown",
      "metadata": {
        "id": "6y46_yxdBJP7"
      },
      "source": [
        "# Taller: Construcción e implementación de árboles de decisión y métodos de ensamblaje\n",
        "\n",
        "En este taller podrá poner en práctica los sus conocimientos sobre construcción e implementación de árboles de decisión y métodos de ensamblajes. El taller está constituido por 9 puntos, 5 relacionados con árboles de decisión (parte A) y 4 con métodos de ensamblaje (parte B)."
      ]
    },
    {
      "cell_type": "markdown",
      "metadata": {
        "id": "cf8NDDYJBJP9"
      },
      "source": [
        "## Parte A - Árboles de decisión\n",
        "\n",
        "En esta parte del taller se usará el conjunto de datos de Capital Bikeshare de Kaggle, donde cada observación representa el alquiler de bicicletas durante una hora y día determinado. Para más detalles puede visitar los siguientes enlaces: [datos](https://archive.ics.uci.edu/ml/machine-learning-databases/00275/Bike-Sharing-Dataset.zip), [dicccionario de datos](https://archive.ics.uci.edu/ml/datasets/Bike+Sharing+Dataset#)."
      ]
    },
    {
      "cell_type": "markdown",
      "metadata": {
        "id": "ydmSsSDnBJP-"
      },
      "source": [
        "### Datos prestamo de bicicletas"
      ]
    },
    {
      "cell_type": "code",
      "execution_count": 169,
      "metadata": {
        "id": "mOdUivmGBJQA"
      },
      "outputs": [],
      "source": [
        "import warnings\n",
        "warnings.filterwarnings('ignore')"
      ]
    },
    {
      "cell_type": "code",
      "execution_count": 170,
      "metadata": {
        "id": "GBtVIcIrBJQC"
      },
      "outputs": [],
      "source": [
        "# Importación de librerías\n",
        "%matplotlib inline\n",
        "import pandas as pd\n",
        "import numpy as np\n",
        "from sklearn.model_selection import cross_val_score\n",
        "from sklearn.linear_model import LinearRegression\n",
        "from sklearn.tree import DecisionTreeRegressor, export_graphviz"
      ]
    },
    {
      "cell_type": "code",
      "execution_count": 85,
      "metadata": {
        "colab": {
          "base_uri": "https://localhost:8080/",
          "height": 238
        },
        "id": "fCRpYtnZBJQC",
        "outputId": "f13efbb7-1fb3-4532-bce8-baf66645f85b"
      },
      "outputs": [
        {
          "output_type": "execute_result",
          "data": {
            "text/plain": [
              "                     season  holiday  workingday  weather  temp   atemp  \\\n",
              "datetime                                                                  \n",
              "2011-01-01 00:00:00       1        0           0        1  9.84  14.395   \n",
              "2011-01-01 01:00:00       1        0           0        1  9.02  13.635   \n",
              "2011-01-01 02:00:00       1        0           0        1  9.02  13.635   \n",
              "2011-01-01 03:00:00       1        0           0        1  9.84  14.395   \n",
              "2011-01-01 04:00:00       1        0           0        1  9.84  14.395   \n",
              "\n",
              "                     humidity  windspeed  casual  registered  total  hour  \n",
              "datetime                                                                   \n",
              "2011-01-01 00:00:00        81        0.0       3          13     16     0  \n",
              "2011-01-01 01:00:00        80        0.0       8          32     40     1  \n",
              "2011-01-01 02:00:00        80        0.0       5          27     32     2  \n",
              "2011-01-01 03:00:00        75        0.0       3          10     13     3  \n",
              "2011-01-01 04:00:00        75        0.0       0           1      1     4  "
            ],
            "text/html": [
              "\n",
              "  <div id=\"df-cfe50984-baf4-47c1-aed2-41d87f683b8d\" class=\"colab-df-container\">\n",
              "    <div>\n",
              "<style scoped>\n",
              "    .dataframe tbody tr th:only-of-type {\n",
              "        vertical-align: middle;\n",
              "    }\n",
              "\n",
              "    .dataframe tbody tr th {\n",
              "        vertical-align: top;\n",
              "    }\n",
              "\n",
              "    .dataframe thead th {\n",
              "        text-align: right;\n",
              "    }\n",
              "</style>\n",
              "<table border=\"1\" class=\"dataframe\">\n",
              "  <thead>\n",
              "    <tr style=\"text-align: right;\">\n",
              "      <th></th>\n",
              "      <th>season</th>\n",
              "      <th>holiday</th>\n",
              "      <th>workingday</th>\n",
              "      <th>weather</th>\n",
              "      <th>temp</th>\n",
              "      <th>atemp</th>\n",
              "      <th>humidity</th>\n",
              "      <th>windspeed</th>\n",
              "      <th>casual</th>\n",
              "      <th>registered</th>\n",
              "      <th>total</th>\n",
              "      <th>hour</th>\n",
              "    </tr>\n",
              "    <tr>\n",
              "      <th>datetime</th>\n",
              "      <th></th>\n",
              "      <th></th>\n",
              "      <th></th>\n",
              "      <th></th>\n",
              "      <th></th>\n",
              "      <th></th>\n",
              "      <th></th>\n",
              "      <th></th>\n",
              "      <th></th>\n",
              "      <th></th>\n",
              "      <th></th>\n",
              "      <th></th>\n",
              "    </tr>\n",
              "  </thead>\n",
              "  <tbody>\n",
              "    <tr>\n",
              "      <th>2011-01-01 00:00:00</th>\n",
              "      <td>1</td>\n",
              "      <td>0</td>\n",
              "      <td>0</td>\n",
              "      <td>1</td>\n",
              "      <td>9.84</td>\n",
              "      <td>14.395</td>\n",
              "      <td>81</td>\n",
              "      <td>0.0</td>\n",
              "      <td>3</td>\n",
              "      <td>13</td>\n",
              "      <td>16</td>\n",
              "      <td>0</td>\n",
              "    </tr>\n",
              "    <tr>\n",
              "      <th>2011-01-01 01:00:00</th>\n",
              "      <td>1</td>\n",
              "      <td>0</td>\n",
              "      <td>0</td>\n",
              "      <td>1</td>\n",
              "      <td>9.02</td>\n",
              "      <td>13.635</td>\n",
              "      <td>80</td>\n",
              "      <td>0.0</td>\n",
              "      <td>8</td>\n",
              "      <td>32</td>\n",
              "      <td>40</td>\n",
              "      <td>1</td>\n",
              "    </tr>\n",
              "    <tr>\n",
              "      <th>2011-01-01 02:00:00</th>\n",
              "      <td>1</td>\n",
              "      <td>0</td>\n",
              "      <td>0</td>\n",
              "      <td>1</td>\n",
              "      <td>9.02</td>\n",
              "      <td>13.635</td>\n",
              "      <td>80</td>\n",
              "      <td>0.0</td>\n",
              "      <td>5</td>\n",
              "      <td>27</td>\n",
              "      <td>32</td>\n",
              "      <td>2</td>\n",
              "    </tr>\n",
              "    <tr>\n",
              "      <th>2011-01-01 03:00:00</th>\n",
              "      <td>1</td>\n",
              "      <td>0</td>\n",
              "      <td>0</td>\n",
              "      <td>1</td>\n",
              "      <td>9.84</td>\n",
              "      <td>14.395</td>\n",
              "      <td>75</td>\n",
              "      <td>0.0</td>\n",
              "      <td>3</td>\n",
              "      <td>10</td>\n",
              "      <td>13</td>\n",
              "      <td>3</td>\n",
              "    </tr>\n",
              "    <tr>\n",
              "      <th>2011-01-01 04:00:00</th>\n",
              "      <td>1</td>\n",
              "      <td>0</td>\n",
              "      <td>0</td>\n",
              "      <td>1</td>\n",
              "      <td>9.84</td>\n",
              "      <td>14.395</td>\n",
              "      <td>75</td>\n",
              "      <td>0.0</td>\n",
              "      <td>0</td>\n",
              "      <td>1</td>\n",
              "      <td>1</td>\n",
              "      <td>4</td>\n",
              "    </tr>\n",
              "  </tbody>\n",
              "</table>\n",
              "</div>\n",
              "    <div class=\"colab-df-buttons\">\n",
              "\n",
              "  <div class=\"colab-df-container\">\n",
              "    <button class=\"colab-df-convert\" onclick=\"convertToInteractive('df-cfe50984-baf4-47c1-aed2-41d87f683b8d')\"\n",
              "            title=\"Convert this dataframe to an interactive table.\"\n",
              "            style=\"display:none;\">\n",
              "\n",
              "  <svg xmlns=\"http://www.w3.org/2000/svg\" height=\"24px\" viewBox=\"0 -960 960 960\">\n",
              "    <path d=\"M120-120v-720h720v720H120Zm60-500h600v-160H180v160Zm220 220h160v-160H400v160Zm0 220h160v-160H400v160ZM180-400h160v-160H180v160Zm440 0h160v-160H620v160ZM180-180h160v-160H180v160Zm440 0h160v-160H620v160Z\"/>\n",
              "  </svg>\n",
              "    </button>\n",
              "\n",
              "  <style>\n",
              "    .colab-df-container {\n",
              "      display:flex;\n",
              "      gap: 12px;\n",
              "    }\n",
              "\n",
              "    .colab-df-convert {\n",
              "      background-color: #E8F0FE;\n",
              "      border: none;\n",
              "      border-radius: 50%;\n",
              "      cursor: pointer;\n",
              "      display: none;\n",
              "      fill: #1967D2;\n",
              "      height: 32px;\n",
              "      padding: 0 0 0 0;\n",
              "      width: 32px;\n",
              "    }\n",
              "\n",
              "    .colab-df-convert:hover {\n",
              "      background-color: #E2EBFA;\n",
              "      box-shadow: 0px 1px 2px rgba(60, 64, 67, 0.3), 0px 1px 3px 1px rgba(60, 64, 67, 0.15);\n",
              "      fill: #174EA6;\n",
              "    }\n",
              "\n",
              "    .colab-df-buttons div {\n",
              "      margin-bottom: 4px;\n",
              "    }\n",
              "\n",
              "    [theme=dark] .colab-df-convert {\n",
              "      background-color: #3B4455;\n",
              "      fill: #D2E3FC;\n",
              "    }\n",
              "\n",
              "    [theme=dark] .colab-df-convert:hover {\n",
              "      background-color: #434B5C;\n",
              "      box-shadow: 0px 1px 3px 1px rgba(0, 0, 0, 0.15);\n",
              "      filter: drop-shadow(0px 1px 2px rgba(0, 0, 0, 0.3));\n",
              "      fill: #FFFFFF;\n",
              "    }\n",
              "  </style>\n",
              "\n",
              "    <script>\n",
              "      const buttonEl =\n",
              "        document.querySelector('#df-cfe50984-baf4-47c1-aed2-41d87f683b8d button.colab-df-convert');\n",
              "      buttonEl.style.display =\n",
              "        google.colab.kernel.accessAllowed ? 'block' : 'none';\n",
              "\n",
              "      async function convertToInteractive(key) {\n",
              "        const element = document.querySelector('#df-cfe50984-baf4-47c1-aed2-41d87f683b8d');\n",
              "        const dataTable =\n",
              "          await google.colab.kernel.invokeFunction('convertToInteractive',\n",
              "                                                    [key], {});\n",
              "        if (!dataTable) return;\n",
              "\n",
              "        const docLinkHtml = 'Like what you see? Visit the ' +\n",
              "          '<a target=\"_blank\" href=https://colab.research.google.com/notebooks/data_table.ipynb>data table notebook</a>'\n",
              "          + ' to learn more about interactive tables.';\n",
              "        element.innerHTML = '';\n",
              "        dataTable['output_type'] = 'display_data';\n",
              "        await google.colab.output.renderOutput(dataTable, element);\n",
              "        const docLink = document.createElement('div');\n",
              "        docLink.innerHTML = docLinkHtml;\n",
              "        element.appendChild(docLink);\n",
              "      }\n",
              "    </script>\n",
              "  </div>\n",
              "\n",
              "\n",
              "<div id=\"df-2c0a676b-e6c7-48b6-943d-543da04bad9b\">\n",
              "  <button class=\"colab-df-quickchart\" onclick=\"quickchart('df-2c0a676b-e6c7-48b6-943d-543da04bad9b')\"\n",
              "            title=\"Suggest charts\"\n",
              "            style=\"display:none;\">\n",
              "\n",
              "<svg xmlns=\"http://www.w3.org/2000/svg\" height=\"24px\"viewBox=\"0 0 24 24\"\n",
              "     width=\"24px\">\n",
              "    <g>\n",
              "        <path d=\"M19 3H5c-1.1 0-2 .9-2 2v14c0 1.1.9 2 2 2h14c1.1 0 2-.9 2-2V5c0-1.1-.9-2-2-2zM9 17H7v-7h2v7zm4 0h-2V7h2v10zm4 0h-2v-4h2v4z\"/>\n",
              "    </g>\n",
              "</svg>\n",
              "  </button>\n",
              "\n",
              "<style>\n",
              "  .colab-df-quickchart {\n",
              "      --bg-color: #E8F0FE;\n",
              "      --fill-color: #1967D2;\n",
              "      --hover-bg-color: #E2EBFA;\n",
              "      --hover-fill-color: #174EA6;\n",
              "      --disabled-fill-color: #AAA;\n",
              "      --disabled-bg-color: #DDD;\n",
              "  }\n",
              "\n",
              "  [theme=dark] .colab-df-quickchart {\n",
              "      --bg-color: #3B4455;\n",
              "      --fill-color: #D2E3FC;\n",
              "      --hover-bg-color: #434B5C;\n",
              "      --hover-fill-color: #FFFFFF;\n",
              "      --disabled-bg-color: #3B4455;\n",
              "      --disabled-fill-color: #666;\n",
              "  }\n",
              "\n",
              "  .colab-df-quickchart {\n",
              "    background-color: var(--bg-color);\n",
              "    border: none;\n",
              "    border-radius: 50%;\n",
              "    cursor: pointer;\n",
              "    display: none;\n",
              "    fill: var(--fill-color);\n",
              "    height: 32px;\n",
              "    padding: 0;\n",
              "    width: 32px;\n",
              "  }\n",
              "\n",
              "  .colab-df-quickchart:hover {\n",
              "    background-color: var(--hover-bg-color);\n",
              "    box-shadow: 0 1px 2px rgba(60, 64, 67, 0.3), 0 1px 3px 1px rgba(60, 64, 67, 0.15);\n",
              "    fill: var(--button-hover-fill-color);\n",
              "  }\n",
              "\n",
              "  .colab-df-quickchart-complete:disabled,\n",
              "  .colab-df-quickchart-complete:disabled:hover {\n",
              "    background-color: var(--disabled-bg-color);\n",
              "    fill: var(--disabled-fill-color);\n",
              "    box-shadow: none;\n",
              "  }\n",
              "\n",
              "  .colab-df-spinner {\n",
              "    border: 2px solid var(--fill-color);\n",
              "    border-color: transparent;\n",
              "    border-bottom-color: var(--fill-color);\n",
              "    animation:\n",
              "      spin 1s steps(1) infinite;\n",
              "  }\n",
              "\n",
              "  @keyframes spin {\n",
              "    0% {\n",
              "      border-color: transparent;\n",
              "      border-bottom-color: var(--fill-color);\n",
              "      border-left-color: var(--fill-color);\n",
              "    }\n",
              "    20% {\n",
              "      border-color: transparent;\n",
              "      border-left-color: var(--fill-color);\n",
              "      border-top-color: var(--fill-color);\n",
              "    }\n",
              "    30% {\n",
              "      border-color: transparent;\n",
              "      border-left-color: var(--fill-color);\n",
              "      border-top-color: var(--fill-color);\n",
              "      border-right-color: var(--fill-color);\n",
              "    }\n",
              "    40% {\n",
              "      border-color: transparent;\n",
              "      border-right-color: var(--fill-color);\n",
              "      border-top-color: var(--fill-color);\n",
              "    }\n",
              "    60% {\n",
              "      border-color: transparent;\n",
              "      border-right-color: var(--fill-color);\n",
              "    }\n",
              "    80% {\n",
              "      border-color: transparent;\n",
              "      border-right-color: var(--fill-color);\n",
              "      border-bottom-color: var(--fill-color);\n",
              "    }\n",
              "    90% {\n",
              "      border-color: transparent;\n",
              "      border-bottom-color: var(--fill-color);\n",
              "    }\n",
              "  }\n",
              "</style>\n",
              "\n",
              "  <script>\n",
              "    async function quickchart(key) {\n",
              "      const quickchartButtonEl =\n",
              "        document.querySelector('#' + key + ' button');\n",
              "      quickchartButtonEl.disabled = true;  // To prevent multiple clicks.\n",
              "      quickchartButtonEl.classList.add('colab-df-spinner');\n",
              "      try {\n",
              "        const charts = await google.colab.kernel.invokeFunction(\n",
              "            'suggestCharts', [key], {});\n",
              "      } catch (error) {\n",
              "        console.error('Error during call to suggestCharts:', error);\n",
              "      }\n",
              "      quickchartButtonEl.classList.remove('colab-df-spinner');\n",
              "      quickchartButtonEl.classList.add('colab-df-quickchart-complete');\n",
              "    }\n",
              "    (() => {\n",
              "      let quickchartButtonEl =\n",
              "        document.querySelector('#df-2c0a676b-e6c7-48b6-943d-543da04bad9b button');\n",
              "      quickchartButtonEl.style.display =\n",
              "        google.colab.kernel.accessAllowed ? 'block' : 'none';\n",
              "    })();\n",
              "  </script>\n",
              "</div>\n",
              "\n",
              "    </div>\n",
              "  </div>\n"
            ],
            "application/vnd.google.colaboratory.intrinsic+json": {
              "type": "dataframe",
              "variable_name": "bikes",
              "summary": "{\n  \"name\": \"bikes\",\n  \"rows\": 10886,\n  \"fields\": [\n    {\n      \"column\": \"datetime\",\n      \"properties\": {\n        \"dtype\": \"date\",\n        \"min\": \"2011-01-01 00:00:00\",\n        \"max\": \"2012-12-19 23:00:00\",\n        \"num_unique_values\": 10886,\n        \"samples\": [\n          \"2011-07-19 11:00:00\",\n          \"2012-01-16 06:00:00\",\n          \"2011-12-11 18:00:00\"\n        ],\n        \"semantic_type\": \"\",\n        \"description\": \"\"\n      }\n    },\n    {\n      \"column\": \"season\",\n      \"properties\": {\n        \"dtype\": \"number\",\n        \"std\": 1,\n        \"min\": 1,\n        \"max\": 4,\n        \"num_unique_values\": 4,\n        \"samples\": [\n          2,\n          4,\n          1\n        ],\n        \"semantic_type\": \"\",\n        \"description\": \"\"\n      }\n    },\n    {\n      \"column\": \"holiday\",\n      \"properties\": {\n        \"dtype\": \"number\",\n        \"std\": 0,\n        \"min\": 0,\n        \"max\": 1,\n        \"num_unique_values\": 2,\n        \"samples\": [\n          1,\n          0\n        ],\n        \"semantic_type\": \"\",\n        \"description\": \"\"\n      }\n    },\n    {\n      \"column\": \"workingday\",\n      \"properties\": {\n        \"dtype\": \"number\",\n        \"std\": 0,\n        \"min\": 0,\n        \"max\": 1,\n        \"num_unique_values\": 2,\n        \"samples\": [\n          1,\n          0\n        ],\n        \"semantic_type\": \"\",\n        \"description\": \"\"\n      }\n    },\n    {\n      \"column\": \"weather\",\n      \"properties\": {\n        \"dtype\": \"number\",\n        \"std\": 0,\n        \"min\": 1,\n        \"max\": 4,\n        \"num_unique_values\": 4,\n        \"samples\": [\n          2,\n          4\n        ],\n        \"semantic_type\": \"\",\n        \"description\": \"\"\n      }\n    },\n    {\n      \"column\": \"temp\",\n      \"properties\": {\n        \"dtype\": \"number\",\n        \"std\": 7.791589843987567,\n        \"min\": 0.82,\n        \"max\": 41.0,\n        \"num_unique_values\": 49,\n        \"samples\": [\n          6.56,\n          1.64\n        ],\n        \"semantic_type\": \"\",\n        \"description\": \"\"\n      }\n    },\n    {\n      \"column\": \"atemp\",\n      \"properties\": {\n        \"dtype\": \"number\",\n        \"std\": 8.474600626484948,\n        \"min\": 0.76,\n        \"max\": 45.455,\n        \"num_unique_values\": 60,\n        \"samples\": [\n          14.395,\n          16.665\n        ],\n        \"semantic_type\": \"\",\n        \"description\": \"\"\n      }\n    },\n    {\n      \"column\": \"humidity\",\n      \"properties\": {\n        \"dtype\": \"number\",\n        \"std\": 19,\n        \"min\": 0,\n        \"max\": 100,\n        \"num_unique_values\": 89,\n        \"samples\": [\n          29,\n          61\n        ],\n        \"semantic_type\": \"\",\n        \"description\": \"\"\n      }\n    },\n    {\n      \"column\": \"windspeed\",\n      \"properties\": {\n        \"dtype\": \"number\",\n        \"std\": 8.164537326838689,\n        \"min\": 0.0,\n        \"max\": 56.9969,\n        \"num_unique_values\": 28,\n        \"samples\": [\n          22.0028,\n          43.0006\n        ],\n        \"semantic_type\": \"\",\n        \"description\": \"\"\n      }\n    },\n    {\n      \"column\": \"casual\",\n      \"properties\": {\n        \"dtype\": \"number\",\n        \"std\": 49,\n        \"min\": 0,\n        \"max\": 367,\n        \"num_unique_values\": 309,\n        \"samples\": [\n          287,\n          47\n        ],\n        \"semantic_type\": \"\",\n        \"description\": \"\"\n      }\n    },\n    {\n      \"column\": \"registered\",\n      \"properties\": {\n        \"dtype\": \"number\",\n        \"std\": 151,\n        \"min\": 0,\n        \"max\": 886,\n        \"num_unique_values\": 731,\n        \"samples\": [\n          566,\n          9\n        ],\n        \"semantic_type\": \"\",\n        \"description\": \"\"\n      }\n    },\n    {\n      \"column\": \"total\",\n      \"properties\": {\n        \"dtype\": \"number\",\n        \"std\": 181,\n        \"min\": 1,\n        \"max\": 977,\n        \"num_unique_values\": 822,\n        \"samples\": [\n          626,\n          256\n        ],\n        \"semantic_type\": \"\",\n        \"description\": \"\"\n      }\n    },\n    {\n      \"column\": \"hour\",\n      \"properties\": {\n        \"dtype\": \"int32\",\n        \"num_unique_values\": 24,\n        \"samples\": [\n          8,\n          16\n        ],\n        \"semantic_type\": \"\",\n        \"description\": \"\"\n      }\n    }\n  ]\n}"
            }
          },
          "metadata": {},
          "execution_count": 85
        }
      ],
      "source": [
        "# Lectura de la información de archivo .csv\n",
        "bikes = pd.read_csv('https://raw.githubusercontent.com/davidzarruk/MIAD_ML_NLP_2023/main/datasets/bikeshare.csv', index_col='datetime', parse_dates=True)\n",
        "\n",
        "# Renombrar variable \"count\" a \"total\"\n",
        "bikes.rename(columns={'count':'total'}, inplace=True)\n",
        "\n",
        "# Crear la hora como una variable\n",
        "bikes['hour'] = bikes.index.hour\n",
        "\n",
        "# Visualización de los datos\n",
        "bikes.head()"
      ]
    },
    {
      "cell_type": "markdown",
      "metadata": {
        "id": "aX3iiotkBJQD"
      },
      "source": [
        "### Punto 1 - Análisis descriptivo\n",
        "\n",
        "Ejecute las celdas 1.1 y 1.2. A partir de los resultados realice un análisis descriptivo sobre las variables \"season\" y \"hour\", escriba sus inferencias sobre los datos. Para complementar su análisis puede usar métricas como máximo, mínimo, percentiles entre otros."
      ]
    },
    {
      "cell_type": "code",
      "source": [
        "# Descripción de las estadísticas de los datos\n",
        "print(bikes.describe())"
      ],
      "metadata": {
        "colab": {
          "base_uri": "https://localhost:8080/"
        },
        "id": "-BDNsebaapcM",
        "outputId": "82cafa9d-4b90-4d86-eaa5-be4688ffefd8"
      },
      "execution_count": 171,
      "outputs": [
        {
          "output_type": "stream",
          "name": "stdout",
          "text": [
            "             season       holiday    workingday       weather         temp  \\\n",
            "count  10886.000000  10886.000000  10886.000000  10886.000000  10886.00000   \n",
            "mean       2.506614      0.028569      0.680875      1.418427     20.23086   \n",
            "std        1.116174      0.166599      0.466159      0.633839      7.79159   \n",
            "min        1.000000      0.000000      0.000000      1.000000      0.82000   \n",
            "25%        2.000000      0.000000      0.000000      1.000000     13.94000   \n",
            "50%        3.000000      0.000000      1.000000      1.000000     20.50000   \n",
            "75%        4.000000      0.000000      1.000000      2.000000     26.24000   \n",
            "max        4.000000      1.000000      1.000000      4.000000     41.00000   \n",
            "\n",
            "              atemp      humidity     windspeed        casual    registered  \\\n",
            "count  10886.000000  10886.000000  10886.000000  10886.000000  10886.000000   \n",
            "mean      23.655084     61.886460     12.799395     36.021955    155.552177   \n",
            "std        8.474601     19.245033      8.164537     49.960477    151.039033   \n",
            "min        0.760000      0.000000      0.000000      0.000000      0.000000   \n",
            "25%       16.665000     47.000000      7.001500      4.000000     36.000000   \n",
            "50%       24.240000     62.000000     12.998000     17.000000    118.000000   \n",
            "75%       31.060000     77.000000     16.997900     49.000000    222.000000   \n",
            "max       45.455000    100.000000     56.996900    367.000000    886.000000   \n",
            "\n",
            "              total          hour  \n",
            "count  10886.000000  10886.000000  \n",
            "mean     191.574132     11.541613  \n",
            "std      181.144454      6.915838  \n",
            "min        1.000000      0.000000  \n",
            "25%       42.000000      6.000000  \n",
            "50%      145.000000     12.000000  \n",
            "75%      284.000000     18.000000  \n",
            "max      977.000000     23.000000  \n"
          ]
        }
      ]
    },
    {
      "cell_type": "code",
      "source": [
        "print(bikes['season'].unique())  # Debería mostrar un conjunto limitado de categorías\n",
        "print(bikes['hour'].describe())  # Estadísticas descriptivas para 'hour'\n"
      ],
      "metadata": {
        "colab": {
          "base_uri": "https://localhost:8080/"
        },
        "id": "kGSb2TfwCwEJ",
        "outputId": "2a8dcaa5-8b9b-4b0a-a69f-14831fa69ac3"
      },
      "execution_count": 172,
      "outputs": [
        {
          "output_type": "stream",
          "name": "stdout",
          "text": [
            "[1 2 3 4]\n",
            "count    10886.000000\n",
            "mean        11.541613\n",
            "std          6.915838\n",
            "min          0.000000\n",
            "25%          6.000000\n",
            "50%         12.000000\n",
            "75%         18.000000\n",
            "max         23.000000\n",
            "Name: hour, dtype: float64\n"
          ]
        }
      ]
    },
    {
      "cell_type": "code",
      "execution_count": 173,
      "metadata": {
        "colab": {
          "base_uri": "https://localhost:8080/"
        },
        "id": "jsJ-CmjrBJQD",
        "outputId": "ea47acc5-1ed9-4e68-ca48-a976e9001000"
      },
      "outputs": [
        {
          "output_type": "execute_result",
          "data": {
            "text/plain": [
              "season\n",
              "1    116.343261\n",
              "2    215.251372\n",
              "3    234.417124\n",
              "4    198.988296\n",
              "Name: total, dtype: float64"
            ]
          },
          "metadata": {},
          "execution_count": 173
        }
      ],
      "source": [
        "# Celda 1.1\n",
        "bikes.groupby('season').total.mean()"
      ]
    },
    {
      "cell_type": "code",
      "execution_count": 174,
      "metadata": {
        "scrolled": true,
        "colab": {
          "base_uri": "https://localhost:8080/"
        },
        "id": "Xv2nbO_NBJQE",
        "outputId": "278e0d5f-c30a-4fe8-cf1d-7cb509c772dd"
      },
      "outputs": [
        {
          "output_type": "execute_result",
          "data": {
            "text/plain": [
              "hour\n",
              "0      55.138462\n",
              "1      33.859031\n",
              "2      22.899554\n",
              "3      11.757506\n",
              "4       6.407240\n",
              "5      19.767699\n",
              "6      76.259341\n",
              "7     213.116484\n",
              "8     362.769231\n",
              "9     221.780220\n",
              "10    175.092308\n",
              "11    210.674725\n",
              "12    256.508772\n",
              "13    257.787281\n",
              "14    243.442982\n",
              "15    254.298246\n",
              "16    316.372807\n",
              "17    468.765351\n",
              "18    430.859649\n",
              "19    315.278509\n",
              "20    228.517544\n",
              "21    173.370614\n",
              "22    133.576754\n",
              "23     89.508772\n",
              "Name: total, dtype: float64"
            ]
          },
          "metadata": {},
          "execution_count": 174
        }
      ],
      "source": [
        "# Celda 1.2\n",
        "bikes.groupby('hour').total.mean()"
      ]
    },
    {
      "cell_type": "markdown",
      "source": [
        "**`Calculo de métricas por estacion y hora`**"
      ],
      "metadata": {
        "id": "ewVNMkXvGoDl"
      }
    },
    {
      "cell_type": "code",
      "source": [
        "import pandas as pd\n",
        "\n",
        "# Máximo por temporada\n",
        "max_season = bikes.groupby('season')['total'].max()\n",
        "\n",
        "# Mínimo por temporada\n",
        "min_season = bikes.groupby('season')['total'].min()\n",
        "\n",
        "# Percentiles por temporada\n",
        "percentiles_season = bikes.groupby('season')['total'].quantile([0.25, 0.5, 0.75]).unstack()\n",
        "\n",
        "# Ahora, para ver los resultados, simplemente imprímelos:\n",
        "print(\"Máximo por temporada:\\n\", max_season)\n",
        "print(\"\\nMínimo por temporada:\\n\", min_season)\n",
        "print(\"\\nPercentiles por temporada:\\n\", percentiles_season)\n",
        "\n"
      ],
      "metadata": {
        "colab": {
          "base_uri": "https://localhost:8080/"
        },
        "id": "tIHcEdndGslq",
        "outputId": "7679f633-a0e8-4799-c53d-43ab883b2d4c"
      },
      "execution_count": 175,
      "outputs": [
        {
          "output_type": "stream",
          "name": "stdout",
          "text": [
            "Máximo por temporada:\n",
            " season\n",
            "1    801\n",
            "2    873\n",
            "3    977\n",
            "4    948\n",
            "Name: total, dtype: int64\n",
            "\n",
            "Mínimo por temporada:\n",
            " season\n",
            "1    1\n",
            "2    1\n",
            "3    1\n",
            "4    1\n",
            "Name: total, dtype: int64\n",
            "\n",
            "Percentiles por temporada:\n",
            "         0.25   0.50   0.75\n",
            "season                    \n",
            "1       24.0   78.0  164.0\n",
            "2       49.0  172.0  321.0\n",
            "3       68.0  195.0  347.0\n",
            "4       51.0  161.0  294.0\n"
          ]
        }
      ]
    },
    {
      "cell_type": "markdown",
      "source": [
        "Otoño es la temporada más activa en términos de alquiler de bicicletas, seguida de Invierno, siendo Verano y Primavera las temporada más baja para el alquiler por hora de las bicicletas.\n",
        "\n",
        "Mínimo por temporada:\n",
        "Para todas las estaciones, el mínimo es 1, lo que indica que en el peor de los casos, siempre hubo al menos un alquiler en una hora durante cada temporada. Este podría ser un dato atípico o podría indicar horas muy específicas (como en medio de la noche o durante condiciones climáticas extremas) donde la actividad de alquiler es casi inexistente.\n",
        "\n",
        "Percentiles por temporada:\n",
        "Los percentiles te dan una idea de la distribución de los datos de alquileres por temporada y se interpretan de la siguiente manera:\n",
        "\n",
        "Percentil 25 (0.25): El 25% de las horas tienen alquileres iguales o inferiores a estos números. Por ejemplo, en la primavera, el 25% de las horas tienen 24 alquileres o menos.\n",
        "Mediana (0.50 o 50): La mitad de las horas tienen alquileres inferiores a estos números y la otra mitad tiene más. Así que, en la primavera, la mitad de las horas tienen 78 alquileres o menos.\n",
        "Percentil 75 (0.75): El 75% de las horas tienen alquileres iguales o inferiores a estos números. Esto significa que en la primavera, el 75% de las horas tienen 164 alquileres o menos.\n",
        "\n",
        "Hay una tendencia clara hacia un mayor uso en las temporadas más cálidas y más activas (verano y otoño), y una distribución más baja de alquileres durante los períodos más fríos (primavera e invierno), aunque el invierno tiene una actividad sorprendentemente alta en su punto máximo comparado con la primavera."
      ],
      "metadata": {
        "id": "TDoi0zHEIDOt"
      }
    },
    {
      "cell_type": "code",
      "source": [
        "import pandas as pd\n",
        "\n",
        "# Máximo por hora\n",
        "max_hour = bikes.groupby('hour')['total'].max()\n",
        "\n",
        "# Mínimo por hora\n",
        "min_hour = bikes.groupby('hour')['total'].min()\n",
        "\n",
        "# Percentiles por hora\n",
        "percentiles_hour = bikes.groupby('hour')['total'].quantile([0.25, 0.5, 0.75]).unstack()\n",
        "\n",
        "# Imprimir los resultados\n",
        "print(\"Máximo por hora:\\n\", max_hour)\n",
        "print(\"\\nMínimo por hora:\\n\", min_hour)\n",
        "print(\"\\nPercentiles por hora:\\n\", percentiles_hour)\n"
      ],
      "metadata": {
        "colab": {
          "base_uri": "https://localhost:8080/"
        },
        "id": "wSpU4CjZG0h5",
        "outputId": "d211dfa4-67f0-4b34-80c6-98514d96e9aa"
      },
      "execution_count": 176,
      "outputs": [
        {
          "output_type": "stream",
          "name": "stdout",
          "text": [
            "Máximo por hora:\n",
            " hour\n",
            "0     283\n",
            "1     168\n",
            "2     119\n",
            "3      66\n",
            "4      28\n",
            "5      57\n",
            "6     213\n",
            "7     596\n",
            "8     839\n",
            "9     414\n",
            "10    539\n",
            "11    647\n",
            "12    757\n",
            "13    729\n",
            "14    730\n",
            "15    724\n",
            "16    783\n",
            "17    970\n",
            "18    977\n",
            "19    743\n",
            "20    551\n",
            "21    584\n",
            "22    502\n",
            "23    256\n",
            "Name: total, dtype: int64\n",
            "\n",
            "Mínimo por hora:\n",
            " hour\n",
            "0      2\n",
            "1      1\n",
            "2      1\n",
            "3      1\n",
            "4      1\n",
            "5      1\n",
            "6      1\n",
            "7      1\n",
            "8      8\n",
            "9     14\n",
            "10    17\n",
            "11    10\n",
            "12     3\n",
            "13    11\n",
            "14    12\n",
            "15     7\n",
            "16    11\n",
            "17    15\n",
            "18    23\n",
            "19    11\n",
            "20    11\n",
            "21     6\n",
            "22     9\n",
            "23     4\n",
            "Name: total, dtype: int64\n",
            "\n",
            "Percentiles por hora:\n",
            "         0.25   0.50    0.75\n",
            "hour                       \n",
            "0      24.00   41.0   74.50\n",
            "1      11.00   19.0   46.00\n",
            "2       5.00   11.0   32.00\n",
            "3       3.00    6.0   15.00\n",
            "4       3.00    6.0    9.00\n",
            "5       8.00   19.0   29.00\n",
            "6      24.50   75.0  118.00\n",
            "7      63.00  208.0  334.00\n",
            "8     133.50  392.0  563.50\n",
            "9     161.00  217.0  294.50\n",
            "10    106.00  149.0  218.50\n",
            "11    123.00  183.0  265.50\n",
            "12    157.00  234.5  332.00\n",
            "13    154.00  226.5  329.00\n",
            "14    144.00  212.0  311.25\n",
            "15    154.00  232.0  331.00\n",
            "16    211.75  309.5  421.00\n",
            "17    277.00  480.5  608.50\n",
            "18    240.75  422.5  564.00\n",
            "19    190.00  312.5  416.00\n",
            "20    136.75  224.0  302.00\n",
            "21    103.50  171.5  230.00\n",
            "22     80.00  129.0  175.00\n",
            "23     52.75   80.0  123.00\n"
          ]
        }
      ]
    },
    {
      "cell_type": "markdown",
      "source": [
        "Horas de la mañana: Hay un aumento progresivo en el número máximo de alquileres desde las 6:00, con un primer pico a las 8:00 (839 alquileres). Esto indica una fuerte demanda probablemente relacionada con el desplazamiento matutino al trabajo o la escuela.\n",
        "Horas de la tarde: Un segundo y más pronunciado pico ocurre a las 17:00 (978 alquileres) y a las 18:00 (977 alquileres), lo que sugiere un alto volumen de desplazamientos de regreso a casa.\n",
        "Horas nocturnas: Después de las 18:00, la demanda máxima disminuye, pero se mantiene relativamente alta hasta las 22:00, lo que puede indicar actividades de ocio o personas que regresan a casa después de salidas vespertinas.\n",
        "Mínimo por hora:\n",
        "Baja actividad nocturna: El mínimo de alquileres durante la mayoría de las horas nocturnas y tempranas de la mañana es de 1, indicando muy poca actividad.\n",
        "Incremento matutino: A partir de las 5:00, el mínimo comienza a aumentar, lo que refleja un inicio gradual de la actividad diaria.\n",
        "Variabilidad durante el día: Los mínimos durante las horas del día varían, pero hay un aumento en la cantidad mínima de alquileres, especialmente en las horas pico de la mañana y tarde.\n",
        "Percentiles por hora:\n",
        "Percentil 25 (0.25): Para todas las horas, hay al menos un cuarto de los días con este número de alquileres o menos. Por ejemplo, a las 8:00, al menos un cuarto de los días tiene 133.5 alquileres o menos, lo que indica que incluso en el cuartil más bajo, la demanda durante esta hora es considerable.\n",
        "Mediana (0.50): Este número indica el valor central de los datos. Por ejemplo, a mediodía, hay 234.5 alquileres, lo que sugiere que la mitad de los días tienen más alquileres que esto y la otra mitad menos.\n",
        "Percentil 75 (0.75): Para todas las horas, tres cuartos de los días tienen este número de alquileres o menos. Por ejemplo, a las 17:00, tres cuartos de los días tienen 608.5 alquileres o menos, lo cual es bastante alto, subrayando que esta es una hora de alta demanda la mayoría de los días.\n",
        "En general, estos datos muestran un claro patrón diario de alquiler de bicicletas, con una demanda mínima garantizada incluso en las horas más bajas y picos muy marcados durante las horas de inicio y fin de la jornada laboral. Durante las horas centrales del día, hay una demanda constante y sostenida, aunque no tan alta como en las horas pico. Estos patrones pueden ser cruciales para la planificación de la oferta, el mantenimiento y la promoción del servicio de alquiler de bicicletas."
      ],
      "metadata": {
        "id": "HVXB_ezdLBAU"
      }
    },
    {
      "cell_type": "markdown",
      "source": [
        "Comportamiento nocturno: Los números indican que hay una disminución progresiva en la actividad de alquiler desde la medianoche hasta las primeras horas de la mañana, lo cual es consistente con los patrones de sueño y la baja necesidad de transporte en estas horas. El servicio es menos utilizado, lo que podría ser un buen momento para realizar mantenimiento o recargar bicicletas eléctricas si las hubiera.\n",
        "\n",
        "Inicio del día y desplazamiento matutino: El aumento desde las 6:00 indica el inicio de la rutina diaria, con un pico significativo a las 8:00, lo que sugiere un uso intensivo de las bicicletas para desplazamientos relacionados con el trabajo o la educación. Esto resalta la importancia de un servicio confiable y suficiente de bicicletas disponibles durante esta hora.\n",
        "\n",
        "Uso diurno: Después de la mañana, el uso de bicicletas se mantiene estable y alto durante el día. Esto puede implicar que las bicicletas se utilizan para una variedad de actividades, no solo para ir y venir del trabajo, sino también para recados, salidas de ocio o ejercicio en la pausa del mediodía.\n",
        "\n",
        "Desplazamiento vespertino: Los picos en las horas de la tarde son aún más pronunciados que en la mañana, lo que indica que la bicicleta es un medio de transporte popular para volver a casa después del trabajo o la escuela. Esto puede deberse a la congestión del tráfico que es típica al final de la jornada laboral, haciendo del alquiler de bicicletas una opción más rápida y conveniente.\n",
        "\n",
        "Actividad en la noche: Aunque hay una disminución después de las horas pico, la actividad sigue siendo considerable hasta alrededor de las 22:00. Esto podría reflejar el uso de bicicletas para ir a cenar, encuentros sociales, o incluso el regreso a casa de quienes trabajan en turnos vespertinos.\n",
        "\n",
        "Oportunidades y gestión: Conocer los máximos de cada hora puede ayudar a la empresa a optimizar su flota y sus recursos. Durante las horas de menor actividad, podría ser beneficioso ofrecer tarifas reducidas para incentivar el uso. Durante las horas pico, podrían considerar aumentar las tarifas para maximizar los ingresos, siempre que la demanda sea suficientemente inelástica.\n",
        "\n",
        "Estos patrones demuestran la importancia del sistema de alquiler de bicicletas en la vida diaria de la ciudad, proporcionando una alternativa de transporte sostenible y eficiente en horarios clave. Además, los datos de alquiler pueden ser cruciales para la toma de decisiones estratégicas, como la colocación de estaciones de bicicletas, la disponibilidad de flota, y la planificación de mantenimiento."
      ],
      "metadata": {
        "id": "5mgNO_gjLe8x"
      }
    },
    {
      "cell_type": "markdown",
      "metadata": {
        "id": "WS9pLxEqBJQE"
      },
      "source": [
        "### Punto 2 - Análisis de gráficos\n",
        "\n",
        "Primero ejecute la celda 2.1 y asegúrese de comprender el código y el resultado. Luego, en cada una de celdas 2.2 y 2.3 escriba un código que genere una gráfica del número de bicicletas rentadas promedio para cada valor de la variable \"hour\" (hora) cuando la variable \"season\" es igual a 1 (invierno) e igual a 3 (verano), respectivamente. Analice y escriba sus hallazgos."
      ]
    },
    {
      "cell_type": "code",
      "execution_count": 177,
      "metadata": {
        "colab": {
          "base_uri": "https://localhost:8080/",
          "height": 466
        },
        "id": "LhnUcOkCBJQE",
        "outputId": "37592c6e-8236-4b15-d714-7975c5f087a6"
      },
      "outputs": [
        {
          "output_type": "execute_result",
          "data": {
            "text/plain": [
              "<Axes: xlabel='hour'>"
            ]
          },
          "metadata": {},
          "execution_count": 177
        },
        {
          "output_type": "display_data",
          "data": {
            "text/plain": [
              "<Figure size 640x480 with 1 Axes>"
            ],
            "image/png": "[encoded data removed]"
          },
          "metadata": {}
        }
      ],
      "source": [
        "# Celda 2.1 - rentas promedio para cada valor de la variable \"hour\"\n",
        "bikes.groupby('hour').total.mean().plot()"
      ]
    },
    {
      "cell_type": "markdown",
      "source": [
        "La gráfica muestra el número promedio de bicicletas rentadas para cada hora del día, sin distinguir entre estaciones.\n",
        "\n",
        "Picos matutino y vespertino: Hay dos picos claros que corresponden a las horas punta, uno por la mañana alrededor de las 8 a.m. y otro aún más pronunciado en la tarde alrededor de las 5 p.m. y 6 p.m. Esto es consistente con los patrones de desplazamiento para ir y volver del trabajo o la escuela.\n",
        "\n",
        "Actividad diurna: Entre estos picos, hay una actividad moderada, con un ligero valle después del pico de la mañana y antes del pico de la tarde. Esto podría deberse a que las personas están en el trabajo o la escuela durante este tiempo.\n",
        "\n",
        "Baja actividad nocturna: Después del pico de la tarde, la actividad disminuye rápidamente, alcanzando sus niveles más bajos en las horas tardías de la noche, lo que es de esperar ya que la mayoría de las personas están en casa y hay menos necesidad de transporte."
      ],
      "metadata": {
        "id": "iOJORiGLFUgX"
      }
    },
    {
      "cell_type": "code",
      "execution_count": 178,
      "metadata": {
        "colab": {
          "base_uri": "https://localhost:8080/",
          "height": 607
        },
        "id": "vRz3RaRlBJQF",
        "outputId": "c32532a3-293e-4a59-ca50-739d99eb6c17"
      },
      "outputs": [
        {
          "output_type": "display_data",
          "data": {
            "text/plain": [
              "<Figure size 1200x600 with 1 Axes>"
            ],
            "image/png": "[encoded data removed]"
          },
          "metadata": {}
        }
      ],
      "source": [
        "# Celda 2.2 - \"season\"=1 escriba su código y hallazgos\n",
        "import matplotlib.pyplot as plt\n",
        "\n",
        "# Filtrar para obtener datos sólo de la temporada de invierno, que es \"season\" == 1\n",
        "winter_data = bikes[bikes['season'] == 1]\n",
        "\n",
        "# Agrupar por 'hour' y calcular la media de 'total' para la temporada de invierno\n",
        "winter_hourly_average = winter_data.groupby('hour')['total'].mean()\n",
        "\n",
        "# Crear una gráfica de línea para visualizar los datos\n",
        "plt.figure(figsize=(12, 6))\n",
        "plt.plot(winter_hourly_average.index, winter_hourly_average.values, marker='o')\n",
        "plt.title('Average Bike Rentals by Hour During Winter (Season 1)')\n",
        "plt.xlabel('Hour of the Day')\n",
        "plt.ylabel('Average Number of Bikes Rented')\n",
        "plt.grid(True)\n",
        "plt.xticks(winter_hourly_average.index)\n",
        "plt.tight_layout()\n",
        "plt.show()\n"
      ]
    },
    {
      "cell_type": "markdown",
      "source": [
        "Pico matutino: Hay un pico prominente alrededor de las 8 a.m., que es probablemente el momento en que las personas se dirigen a sus lugares de trabajo o estudios. La altura de este pico indica que, a pesar del frío, muchas personas todavía utilizan las bicicletas para sus desplazamientos matutinos.\n",
        "\n",
        "Valle diurno: Después del pico matutino, hay una caída en el número de bicicletas alquiladas, lo que sugiere que hay menos actividad durante las horas centrales del día. Esto podría estar relacionado con temperaturas más bajas durante el día que desincentivan el uso de bicicletas para otras actividades aparte de los desplazamientos esenciales.\n",
        "\n",
        "Pico vespertino: Similar al pico matutino, hay un aumento significativo en el número de bicicletas alquiladas alrededor de las 5 p.m. y 6 p.m., lo que sugiere que las bicicletas son un medio de transporte común para el viaje de regreso a casa.\n",
        "\n",
        "Descenso nocturno: Después de las 6 p.m., hay un descenso pronunciado en el número de alquileres. Este descenso es más abrupto que el que se observa durante las horas de la mañana, lo cual es consistente con la prisa por regresar a casa antes de que las temperaturas bajen aún más durante la noche.\n",
        "\n",
        "Actividad mínima de noche: La actividad de alquiler de bicicletas cae a números muy bajos después de las 7 p.m., lo que indica muy poca demanda durante las horas más frías y oscuras de las noches de invierno."
      ],
      "metadata": {
        "id": "mpBAficUHT-G"
      }
    },
    {
      "cell_type": "code",
      "execution_count": null,
      "metadata": {
        "id": "xWCSOgqrLupA"
      },
      "outputs": [],
      "source": [
        "# Celda 2.3 - \"season\"=3 escriba su código y hallazgos\n",
        "import matplotlib.pyplot as plt\n",
        "\n",
        "# Filtrar para obtener datos sólo de la temporada de verano, que es \"season\" == 3\n",
        "summer_data = bikes[bikes['season'] == 3]\n",
        "\n",
        "# Agrupar por 'hour' y calcular la media de 'total' para la temporada de verano\n",
        "summer_hourly_average = summer_data.groupby('hour')['total'].mean()\n",
        "\n",
        "# Crear una gráfica de línea para visualizar los datos\n",
        "plt.figure(figsize=(12, 6))\n",
        "plt.plot(summer_hourly_average.index, summer_hourly_average.values, marker='o', color='orange')\n",
        "plt.title('Average Bike Rentals by Hour During Summer (Season 3)')\n",
        "plt.xlabel('Hour of the Day')\n",
        "plt.ylabel('Average Number of Bikes Rented')\n",
        "plt.grid(True)\n",
        "plt.xticks(summer_hourly_average.index)\n",
        "plt.tight_layout()\n",
        "plt.show()\n"
      ]
    },
    {
      "cell_type": "markdown",
      "source": [
        "Se observa que el verano  fomenta un uso más recreativo y flexible de las bicicletas, con altas demandas de alquiler que se extienden en un período más largo del día. Para los operadores del servicio de alquiler, esto podría significar la necesidad de una disponibilidad de flota más alta durante más horas del día y tal vez considerar ofertas o eventos que se alineen con el uso recreativo de las bicicletas en el verano. Además, medidas como estaciones de hidratación o promociones para las horas de la tarde podrían alentar aún más el alquiler de bicicletas durante el pico de demanda."
      ],
      "metadata": {
        "id": "BgbnFGdUMDRf"
      }
    },
    {
      "cell_type": "markdown",
      "metadata": {
        "id": "UL65bw8GBJQF"
      },
      "source": [
        "### Punto 3 - Regresión lineal\n",
        "En la celda 3 ajuste un modelo de regresión lineal a todo el conjunto de datos, utilizando \"total\" como variable de respuesta y \"season\" y \"hour\" como las únicas variables predictoras, teniendo en cuenta que la variable \"season\" es categórica. Luego, imprima los coeficientes e interprételos. ¿Cuáles son las limitaciones de la regresión lineal en este caso?"
      ]
    },
    {
      "cell_type": "code",
      "source": [
        "#Importación de librerias\n",
        "import pandas as pd\n",
        "import numpy as np\n",
        "import seaborn as sns\n",
        "import matplotlib.pyplot as plt\n",
        "from statsmodels.stats.outliers_influence import variance_inflation_factor\n",
        "from sklearn.model_selection import train_test_split\n",
        "from sklearn.preprocessing import StandardScaler, OneHotEncoder\n",
        "from sklearn.compose import ColumnTransformer\n",
        "from sklearn.linear_model import LinearRegression\n",
        "from sklearn.pipeline import Pipeline\n"
      ],
      "metadata": {
        "id": "74xTaTAJDto3"
      },
      "execution_count": 95,
      "outputs": []
    },
    {
      "cell_type": "code",
      "source": [
        "bikes_numeric = bikes.select_dtypes(include=[np.number])\n",
        "vif_data = pd.DataFrame()\n",
        "vif_data[\"feature\"] = bikes_numeric.columns\n",
        "vif_data[\"VIF\"] = [variance_inflation_factor(bikes_numeric.values, i) for i in range(len(bikes_numeric.columns))]\n",
        "print(vif_data)\n"
      ],
      "metadata": {
        "colab": {
          "base_uri": "https://localhost:8080/"
        },
        "id": "79lLHcLIj11p",
        "outputId": "d153db68-39d9-4bc3-a5da-3614fe7764c6"
      },
      "execution_count": 96,
      "outputs": [
        {
          "output_type": "stream",
          "name": "stdout",
          "text": [
            "       feature         VIF\n",
            "0       season    6.825830\n",
            "1      holiday    1.095794\n",
            "2   workingday    4.100121\n",
            "3      weather    7.477056\n",
            "4         temp  265.524194\n",
            "5        atemp  295.017784\n",
            "6     humidity   12.914325\n",
            "7    windspeed    3.237377\n",
            "8       casual         inf\n",
            "9   registered         inf\n",
            "10       total         inf\n",
            "11        hour    4.323986\n"
          ]
        }
      ]
    },
    {
      "cell_type": "code",
      "source": [
        "preprocessor = ColumnTransformer(\n",
        "    transformers=[\n",
        "        ('season', OneHotEncoder(drop='first'), ['season']),\n",
        "        ('passthrough', 'passthrough', ['hour'])\n",
        "    ],\n",
        "    remainder='passthrough'\n",
        ")\n"
      ],
      "metadata": {
        "id": "g8ckv3ELEhlL"
      },
      "execution_count": 97,
      "outputs": []
    },
    {
      "cell_type": "code",
      "source": [
        "regression_pipeline = Pipeline(steps=[\n",
        "    ('preprocessor', preprocessor),\n",
        "    ('regressor', LinearRegression())\n",
        "])\n",
        "X = bikes[['season', 'hour']]\n",
        "y = bikes['total']\n",
        "regression_pipeline.fit(X, y)\n"
      ],
      "metadata": {
        "colab": {
          "base_uri": "https://localhost:8080/",
          "height": 192
        },
        "id": "FUy1Ur5JEjdF",
        "outputId": "62f5572a-f961-4fd6-9f3f-55e4921ec4f2"
      },
      "execution_count": 179,
      "outputs": [
        {
          "output_type": "execute_result",
          "data": {
            "text/plain": [
              "Pipeline(steps=[('preprocessor',\n",
              "                 ColumnTransformer(remainder='passthrough',\n",
              "                                   transformers=[('season',\n",
              "                                                  OneHotEncoder(drop='first'),\n",
              "                                                  ['season'])])),\n",
              "                ('regressor', LinearRegression())])"
            ],
            "text/html": [
              "<style>#sk-container-id-8 {color: black;background-color: white;}#sk-container-id-8 pre{padding: 0;}#sk-container-id-8 div.sk-toggleable {background-color: white;}#sk-container-id-8 label.sk-toggleable__label {cursor: pointer;display: block;width: 100%;margin-bottom: 0;padding: 0.3em;box-sizing: border-box;text-align: center;}#sk-container-id-8 label.sk-toggleable__label-arrow:before {content: \"▸\";float: left;margin-right: 0.25em;color: #696969;}#sk-container-id-8 label.sk-toggleable__label-arrow:hover:before {color: black;}#sk-container-id-8 div.sk-estimator:hover label.sk-toggleable__label-arrow:before {color: black;}#sk-container-id-8 div.sk-toggleable__content {max-height: 0;max-width: 0;overflow: hidden;text-align: left;background-color: #f0f8ff;}#sk-container-id-8 div.sk-toggleable__content pre {margin: 0.2em;color: black;border-radius: 0.25em;background-color: #f0f8ff;}#sk-container-id-8 input.sk-toggleable__control:checked~div.sk-toggleable__content {max-height: 200px;max-width: 100%;overflow: auto;}#sk-container-id-8 input.sk-toggleable__control:checked~label.sk-toggleable__label-arrow:before {content: \"▾\";}#sk-container-id-8 div.sk-estimator input.sk-toggleable__control:checked~label.sk-toggleable__label {background-color: #d4ebff;}#sk-container-id-8 div.sk-label input.sk-toggleable__control:checked~label.sk-toggleable__label {background-color: #d4ebff;}#sk-container-id-8 input.sk-hidden--visually {border: 0;clip: rect(1px 1px 1px 1px);clip: rect(1px, 1px, 1px, 1px);height: 1px;margin: -1px;overflow: hidden;padding: 0;position: absolute;width: 1px;}#sk-container-id-8 div.sk-estimator {font-family: monospace;background-color: #f0f8ff;border: 1px dotted black;border-radius: 0.25em;box-sizing: border-box;margin-bottom: 0.5em;}#sk-container-id-8 div.sk-estimator:hover {background-color: #d4ebff;}#sk-container-id-8 div.sk-parallel-item::after {content: \"\";width: 100%;border-bottom: 1px solid gray;flex-grow: 1;}#sk-container-id-8 div.sk-label:hover label.sk-toggleable__label {background-color: #d4ebff;}#sk-container-id-8 div.sk-serial::before {content: \"\";position: absolute;border-left: 1px solid gray;box-sizing: border-box;top: 0;bottom: 0;left: 50%;z-index: 0;}#sk-container-id-8 div.sk-serial {display: flex;flex-direction: column;align-items: center;background-color: white;padding-right: 0.2em;padding-left: 0.2em;position: relative;}#sk-container-id-8 div.sk-item {position: relative;z-index: 1;}#sk-container-id-8 div.sk-parallel {display: flex;align-items: stretch;justify-content: center;background-color: white;position: relative;}#sk-container-id-8 div.sk-item::before, #sk-container-id-8 div.sk-parallel-item::before {content: \"\";position: absolute;border-left: 1px solid gray;box-sizing: border-box;top: 0;bottom: 0;left: 50%;z-index: -1;}#sk-container-id-8 div.sk-parallel-item {display: flex;flex-direction: column;z-index: 1;position: relative;background-color: white;}#sk-container-id-8 div.sk-parallel-item:first-child::after {align-self: flex-end;width: 50%;}#sk-container-id-8 div.sk-parallel-item:last-child::after {align-self: flex-start;width: 50%;}#sk-container-id-8 div.sk-parallel-item:only-child::after {width: 0;}#sk-container-id-8 div.sk-dashed-wrapped {border: 1px dashed gray;margin: 0 0.4em 0.5em 0.4em;box-sizing: border-box;padding-bottom: 0.4em;background-color: white;}#sk-container-id-8 div.sk-label label {font-family: monospace;font-weight: bold;display: inline-block;line-height: 1.2em;}#sk-container-id-8 div.sk-label-container {text-align: center;}#sk-container-id-8 div.sk-container {/* jupyter's `normalize.less` sets `[hidden] { display: none; }` but bootstrap.min.css set `[hidden] { display: none !important; }` so we also need the `!important` here to be able to override the default hidden behavior on the sphinx rendered scikit-learn.org. See: https://github.com/scikit-learn/scikit-learn/issues/21755 */display: inline-block !important;position: relative;}#sk-container-id-8 div.sk-text-repr-fallback {display: none;}</style><div id=\"sk-container-id-8\" class=\"sk-top-container\"><div class=\"sk-text-repr-fallback\"><pre>Pipeline(steps=[(&#x27;preprocessor&#x27;,\n",
              "                 ColumnTransformer(remainder=&#x27;passthrough&#x27;,\n",
              "                                   transformers=[(&#x27;season&#x27;,\n",
              "                                                  OneHotEncoder(drop=&#x27;first&#x27;),\n",
              "                                                  [&#x27;season&#x27;])])),\n",
              "                (&#x27;regressor&#x27;, LinearRegression())])</pre><b>In a Jupyter environment, please rerun this cell to show the HTML representation or trust the notebook. <br />On GitHub, the HTML representation is unable to render, please try loading this page with nbviewer.org.</b></div><div class=\"sk-container\" hidden><div class=\"sk-item sk-dashed-wrapped\"><div class=\"sk-label-container\"><div class=\"sk-label sk-toggleable\"><input class=\"sk-toggleable__control sk-hidden--visually\" id=\"sk-estimator-id-50\" type=\"checkbox\" ><label for=\"sk-estimator-id-50\" class=\"sk-toggleable__label sk-toggleable__label-arrow\">Pipeline</label><div class=\"sk-toggleable__content\"><pre>Pipeline(steps=[(&#x27;preprocessor&#x27;,\n",
              "                 ColumnTransformer(remainder=&#x27;passthrough&#x27;,\n",
              "                                   transformers=[(&#x27;season&#x27;,\n",
              "                                                  OneHotEncoder(drop=&#x27;first&#x27;),\n",
              "                                                  [&#x27;season&#x27;])])),\n",
              "                (&#x27;regressor&#x27;, LinearRegression())])</pre></div></div></div><div class=\"sk-serial\"><div class=\"sk-item sk-dashed-wrapped\"><div class=\"sk-label-container\"><div class=\"sk-label sk-toggleable\"><input class=\"sk-toggleable__control sk-hidden--visually\" id=\"sk-estimator-id-51\" type=\"checkbox\" ><label for=\"sk-estimator-id-51\" class=\"sk-toggleable__label sk-toggleable__label-arrow\">preprocessor: ColumnTransformer</label><div class=\"sk-toggleable__content\"><pre>ColumnTransformer(remainder=&#x27;passthrough&#x27;,\n",
              "                  transformers=[(&#x27;season&#x27;, OneHotEncoder(drop=&#x27;first&#x27;),\n",
              "                                 [&#x27;season&#x27;])])</pre></div></div></div><div class=\"sk-parallel\"><div class=\"sk-parallel-item\"><div class=\"sk-item\"><div class=\"sk-label-container\"><div class=\"sk-label sk-toggleable\"><input class=\"sk-toggleable__control sk-hidden--visually\" id=\"sk-estimator-id-52\" type=\"checkbox\" ><label for=\"sk-estimator-id-52\" class=\"sk-toggleable__label sk-toggleable__label-arrow\">season</label><div class=\"sk-toggleable__content\"><pre>[&#x27;season&#x27;]</pre></div></div></div><div class=\"sk-serial\"><div class=\"sk-item\"><div class=\"sk-estimator sk-toggleable\"><input class=\"sk-toggleable__control sk-hidden--visually\" id=\"sk-estimator-id-53\" type=\"checkbox\" ><label for=\"sk-estimator-id-53\" class=\"sk-toggleable__label sk-toggleable__label-arrow\">OneHotEncoder</label><div class=\"sk-toggleable__content\"><pre>OneHotEncoder(drop=&#x27;first&#x27;)</pre></div></div></div></div></div></div><div class=\"sk-parallel-item\"><div class=\"sk-item\"><div class=\"sk-label-container\"><div class=\"sk-label sk-toggleable\"><input class=\"sk-toggleable__control sk-hidden--visually\" id=\"sk-estimator-id-54\" type=\"checkbox\" ><label for=\"sk-estimator-id-54\" class=\"sk-toggleable__label sk-toggleable__label-arrow\">remainder</label><div class=\"sk-toggleable__content\"><pre>[&#x27;hour&#x27;]</pre></div></div></div><div class=\"sk-serial\"><div class=\"sk-item\"><div class=\"sk-estimator sk-toggleable\"><input class=\"sk-toggleable__control sk-hidden--visually\" id=\"sk-estimator-id-55\" type=\"checkbox\" ><label for=\"sk-estimator-id-55\" class=\"sk-toggleable__label sk-toggleable__label-arrow\">passthrough</label><div class=\"sk-toggleable__content\"><pre>passthrough</pre></div></div></div></div></div></div></div></div><div class=\"sk-item\"><div class=\"sk-estimator sk-toggleable\"><input class=\"sk-toggleable__control sk-hidden--visually\" id=\"sk-estimator-id-56\" type=\"checkbox\" ><label for=\"sk-estimator-id-56\" class=\"sk-toggleable__label sk-toggleable__label-arrow\">LinearRegression</label><div class=\"sk-toggleable__content\"><pre>LinearRegression()</pre></div></div></div></div></div></div></div>"
            ]
          },
          "metadata": {},
          "execution_count": 179
        }
      ]
    },
    {
      "cell_type": "code",
      "source": [
        "# Preparación de las variables predictoras X y la variable respuesta y\n",
        "X = bikes[['season', 'hour']]\n",
        "y = bikes['total']\n",
        "\n",
        "# Ajuste del modelo\n",
        "regression_pipeline.fit(X, y)\n",
        "\n",
        "# Obtención de coeficientes e intercepción\n",
        "coef_season_hour = regression_pipeline.named_steps['regressor'].coef_\n",
        "intercept = regression_pipeline.named_steps['regressor'].intercept_\n",
        "\n",
        "# Imprime los coeficientes y el término de intercepción\n",
        "print(\"Coeficientes para 'season' y 'hour':\", coef_season_hour)\n",
        "print(\"Término de intercepción:\", intercept)\n",
        "\n",
        "# Realizando predicciones con el pipeline de regresión lineal\n",
        "y_pred = regression_pipeline.predict(X)\n",
        "\n",
        "# Calculando el RMSE\n",
        "rmse_linear_regression = np.sqrt(mean_squared_error(y, y_pred))\n",
        "print(\"RMSE de la Regresión Lineal:\", rmse_linear_regression)\n",
        "\n"
      ],
      "metadata": {
        "colab": {
          "base_uri": "https://localhost:8080/"
        },
        "id": "UExqfI5LsJwx",
        "outputId": "f5b0ea40-0231-47d7-ad91-3b01a7debb92"
      },
      "execution_count": 180,
      "outputs": [
        {
          "output_type": "stream",
          "name": "stdout",
          "text": [
            "Coeficientes para 'season' y 'hour': [100.31723192 119.46754995  84.08311787  10.54520609]\n",
            "Término de intercepción: -6.430262462305706\n",
            "RMSE de la Regresión Lineal: 159.62673552501042\n"
          ]
        }
      ]
    },
    {
      "cell_type": "markdown",
      "source": [
        "primer coeficiente de \"season\" (100.31723192): El cambio esperado en \"total\" al cambiar de la temporada base a la primera temporada codificada. Segundo coeficiente de \"season\" (119.46754995): Cambio en \"total\" al cambiar de la temporada base a la segunda temporada codificada. Tercer coeficiente de \"season\" (84.08311787): Cambio en \"total\" al cambiar de la temporada base a la tercera temporada codificada. Cuarto coeficiente de \"season\" (10.54520669): Cambio en \"total\" al cambiar de la temporada base a la cuarta temporada codificada. Para \"hour\", que no fue codificado porque es una variable numérica, el coeficiente asociado (el quinto número en la lista de coeficientes) indica cuánto cambia la respuesta \"total\" por cada hora adicional.\n",
        "\n",
        "Limitaciones de la Regresión Lineal Relaciones No Lineales: Si las relaciones entre las horas del día o las temporadas del año y el número de bicicletas alquiladas no son lineales, entonces la regresión lineal no capturará adecuadamente estas relaciones. Independencia de Características: La regresión lineal asume que las características son independientes unas de otras. Si hay interacciones entre \"season\" y \"hour\" que afectan a \"total\", el modelo no capturará estas interacciones a menos que se añadan términos de interacción al modelo. Heteroscedasticidad: Si la varianza de los errores no es constante, puede afectar a la eficiencia de los estimadores y a la validez de las pruebas estadísticas."
      ],
      "metadata": {
        "id": "FI5q0daAqhb7"
      }
    },
    {
      "cell_type": "markdown",
      "metadata": {
        "id": "OSQ70zcjBJQG"
      },
      "source": [
        "### Punto 4 - Árbol de decisión manual\n",
        "En la celda 4 cree un árbol de decisiones para pronosticar la variable \"total\" iterando **manualmente** sobre las variables \"hour\" y  \"season\". El árbol debe tener al menos 6 nodos finales."
      ]
    },
    {
      "cell_type": "code",
      "execution_count": 181,
      "metadata": {
        "id": "Ei-p_RicBJQG"
      },
      "outputs": [],
      "source": [
        "# Celda 4\n",
        "# Definición de parámetros y criterios de parada\n",
        "max_depth = 3  # Asumiendo que 2^3 = 8 nodos finales como máximo\n",
        "num_pct = 10\n",
        "max_features = None  # Esto no se utiliza en tu código actual\n",
        "min_gain = 0.001  # La ganancia mínima para realizar una división\n"
      ]
    },
    {
      "cell_type": "code",
      "source": [
        "import numpy as np\n",
        "import pandas as pd\n",
        "\n",
        "# Función para calcular el MSE de un nodo\n",
        "def mse(y):\n",
        "    if len(y) == 0:\n",
        "        return 0\n",
        "    else:\n",
        "        return np.mean((y - np.mean(y))**2)\n",
        "\n",
        "# Función para calcular la ganancia de MSE al hacer una división en el árbol\n",
        "def mse_gain(X_col, y, split):\n",
        "    filter_l = X_col < split\n",
        "    y_l = y[filter_l]\n",
        "    y_r = y[~filter_l]\n",
        "\n",
        "    n = len(y)\n",
        "    n_l = len(y_l)\n",
        "    n_r = len(y_r)\n",
        "\n",
        "    if n_l == 0 or n_r == 0:  # Si alguna división no tiene muestras, no hay ganancia\n",
        "        return 0\n",
        "\n",
        "    mse_total = mse(y)\n",
        "    mse_l = mse(y_l)\n",
        "    mse_r = mse(y_r)\n",
        "\n",
        "    gain = mse_total - (n_l / n * mse_l + n_r / n * mse_r)\n",
        "    return gain\n",
        "\n",
        "# Función para encontrar la mejor división\n",
        "def best_split(X, y, num_pct):\n",
        "    best_j, best_split, best_gain = None, None, 0\n",
        "    for j in range(X.shape[1]):\n",
        "        splits = np.percentile(X.iloc[:, j], np.arange(0, 100, 100.0 / num_pct).tolist())\n",
        "        splits = np.unique(splits)\n",
        "        for split in splits:\n",
        "            current_gain = mse_gain(X.iloc[:, j], y, split)\n",
        "            if current_gain > best_gain:\n",
        "                best_j, best_split, best_gain = j, split, current_gain\n",
        "    return best_j, best_split, best_gain\n",
        "\n",
        "# Función para crecer el árbol de manera recursiva\n",
        "def tree_grow(X, y, depth=0, max_depth=None, num_pct=10):\n",
        "    if depth is max_depth or len(X) == 1:\n",
        "        return {'prediction': np.mean(y)}\n",
        "\n",
        "    # Encontrar la mejor división\n",
        "    j, split, gain = best_split(X, y, num_pct)\n",
        "\n",
        "    # Si no hay ganancia, no hay necesidad de dividir, simplemente devolvemos una hoja\n",
        "    if gain == 0:\n",
        "        return {'prediction': np.mean(y)}\n",
        "\n",
        "    filter_l = X.iloc[:, j] < split\n",
        "    X_l, y_l = X[filter_l], y[filter_l]\n",
        "    X_r, y_r = X[~filter_l], y[~filter_l]\n",
        "\n",
        "    # Guardar el nodo y seguir dividiendo\n",
        "    node = {'splitting_variable': X.columns[j], 'splitting_point': split, 'gain': gain}\n",
        "    node['left'] = tree_grow(X_l, y_l, depth + 1, max_depth, num_pct)\n",
        "    node['right'] = tree_grow(X_r, y_r, depth + 1, max_depth, num_pct)\n",
        "\n",
        "    return node\n",
        "# Este valor de max_depth es un ejemplo y deberá ser ajustado basado en el número de nodos finales que quieres\n",
        "tree = tree_grow(X, y, max_depth=3, num_pct=10)\n",
        "\n"
      ],
      "metadata": {
        "id": "Ux1mYiRUNomc"
      },
      "execution_count": 182,
      "outputs": []
    },
    {
      "cell_type": "code",
      "source": [
        "def print_tree(node, depth=0):\n",
        "    if 'prediction' in node:\n",
        "        print(f\"{depth * '  '}Predicción: {node['prediction']}\")\n",
        "    else:\n",
        "        print(f\"{depth * '  '}[X{node['splitting_variable']} < {node['splitting_point']:.3f}] gain={node['gain']:.3f}\")\n",
        "        if 'left' in node:\n",
        "            print_tree(node['left'], depth+1)\n",
        "        if 'right' in node:\n",
        "            print_tree(node['right'], depth+1)\n"
      ],
      "metadata": {
        "id": "0YmcsyzNPc1E"
      },
      "execution_count": 183,
      "outputs": []
    },
    {
      "cell_type": "code",
      "source": [
        "print_tree(tree)"
      ],
      "metadata": {
        "colab": {
          "base_uri": "https://localhost:8080/"
        },
        "id": "OGOoirWBQART",
        "outputId": "d396a6be-74c8-4e10-b2f3-eba286828c78"
      },
      "execution_count": 184,
      "outputs": [
        {
          "output_type": "stream",
          "name": "stdout",
          "text": [
            "[Xhour < 7.000] gain=10242.568\n",
            "  [Xhour < 6.000] gain=323.400\n",
            "    [Xhour < 2.000] gain=191.404\n",
            "      Predicción: 44.51045104510451\n",
            "      Predicción: 15.27718309859155\n",
            "    [Xseason < 2.000] gain=371.548\n",
            "      Predicción: 42.72566371681416\n",
            "      Predicción: 87.3391812865497\n",
            "  [Xseason < 2.000] gain=3422.283\n",
            "    [Xhour < 20.000] gain=1515.171\n",
            "      Predicción: 176.16790792146242\n",
            "      Predicción: 84.48464912280701\n",
            "    [Xhour < 20.000] gain=3693.658\n",
            "      Predicción: 323.43972109761586\n",
            "      Predicción: 180.16301169590642\n"
          ]
        }
      ]
    },
    {
      "cell_type": "markdown",
      "source": [
        "**Se crea una función que realice predicciones usando este árbol**"
      ],
      "metadata": {
        "id": "F1zO06k2UEAE"
      }
    },
    {
      "cell_type": "code",
      "source": [
        "def predict_single(input_row, tree):\n",
        "    # Si llegamos a un nodo terminal, devolvemos el valor de la predicción\n",
        "    if 'prediction' in tree:\n",
        "        return tree['prediction']\n",
        "\n",
        "    # Determinamos el valor de la variable que estamos inspeccionando\n",
        "    variable = tree['splitting_variable']\n",
        "    split_point = tree['splitting_point']\n",
        "\n",
        "    # Comparamos el valor de la variable con el punto de corte\n",
        "    if input_row[variable] < split_point:\n",
        "        return predict_single(input_row, tree['left'])  # Vamos al subárbol izquierdo\n",
        "    else:\n",
        "        return predict_single(input_row, tree['right'])  # Vamos al subárbol derecho\n"
      ],
      "metadata": {
        "id": "iVyzQ-oxTpwz"
      },
      "execution_count": 185,
      "outputs": []
    },
    {
      "cell_type": "markdown",
      "source": [
        "**Aplicar esta predicción a cada fila en tu conjunto de datos**"
      ],
      "metadata": {
        "id": "IslP6qRlUO6F"
      }
    },
    {
      "cell_type": "code",
      "source": [
        "def predict(X, tree):\n",
        "    predictions = X.apply(predict_single, axis=1, tree=tree)\n",
        "    return predictions\n"
      ],
      "metadata": {
        "id": "o0loIwhsTtUX"
      },
      "execution_count": 186,
      "outputs": []
    },
    {
      "cell_type": "markdown",
      "source": [
        "**Se usan estas funciones para hacer predicciones en tu conjunto de datos y calcular el RMSE**"
      ],
      "metadata": {
        "id": "tFfdIVXHUVSW"
      }
    },
    {
      "cell_type": "code",
      "source": [
        "# Asumiendo que 'X' es tu conjunto de datos de entrada y 'y' es el vector de valores verdaderos\n",
        "y_pred = predict(X, tree)\n",
        "\n",
        "# Función para calcular el RMSE\n",
        "def rmse(y_true, y_pred):\n",
        "    return np.sqrt(np.mean((y_true - y_pred) ** 2))\n",
        "\n",
        "# Calcular el RMSE\n",
        "error = rmse(y, y_pred)\n",
        "print(f\"El RMSE del modelo manual es: {error}\")\n"
      ],
      "metadata": {
        "colab": {
          "base_uri": "https://localhost:8080/"
        },
        "id": "QEHHDf-OTww3",
        "outputId": "f0fdb88b-e20b-4677-c529-deabd78c9ebd"
      },
      "execution_count": 187,
      "outputs": [
        {
          "output_type": "stream",
          "name": "stdout",
          "text": [
            "El RMSE del modelo manual es: 133.1710928670324\n"
          ]
        }
      ]
    },
    {
      "cell_type": "markdown",
      "metadata": {
        "id": "GrOl8hhCBJQG"
      },
      "source": [
        "### Punto 5 - Árbol de decisión con librería\n",
        "En la celda 5 entrene un árbol de decisiones con la **librería sklearn**, usando las variables predictoras \"season\" y \"hour\" y calibre los parámetros que considere conveniente para obtener un mejor desempeño. Recuerde dividir los datos en conjuntos de entrenamiento y validación para esto. Comente el desempeño del modelo con alguna métrica de desempeño de modelos de regresión y compare desempeño con el modelo del punto 3."
      ]
    },
    {
      "cell_type": "code",
      "execution_count": 188,
      "metadata": {
        "colab": {
          "base_uri": "https://localhost:8080/",
          "height": 547
        },
        "id": "biJDdhE8BJQG",
        "outputId": "a9af8ccd-9cb0-4f1e-9d59-3ae9bb191aaa"
      },
      "outputs": [
        {
          "output_type": "stream",
          "name": "stdout",
          "text": [
            "Mejor max_depth por RMSE: 6 con un RMSE de: 121.94259382561488\n"
          ]
        },
        {
          "output_type": "execute_result",
          "data": {
            "text/plain": [
              "DecisionTreeRegressor(max_depth=6, random_state=1)"
            ],
            "text/html": [
              "<style>#sk-container-id-9 {color: black;background-color: white;}#sk-container-id-9 pre{padding: 0;}#sk-container-id-9 div.sk-toggleable {background-color: white;}#sk-container-id-9 label.sk-toggleable__label {cursor: pointer;display: block;width: 100%;margin-bottom: 0;padding: 0.3em;box-sizing: border-box;text-align: center;}#sk-container-id-9 label.sk-toggleable__label-arrow:before {content: \"▸\";float: left;margin-right: 0.25em;color: #696969;}#sk-container-id-9 label.sk-toggleable__label-arrow:hover:before {color: black;}#sk-container-id-9 div.sk-estimator:hover label.sk-toggleable__label-arrow:before {color: black;}#sk-container-id-9 div.sk-toggleable__content {max-height: 0;max-width: 0;overflow: hidden;text-align: left;background-color: #f0f8ff;}#sk-container-id-9 div.sk-toggleable__content pre {margin: 0.2em;color: black;border-radius: 0.25em;background-color: #f0f8ff;}#sk-container-id-9 input.sk-toggleable__control:checked~div.sk-toggleable__content {max-height: 200px;max-width: 100%;overflow: auto;}#sk-container-id-9 input.sk-toggleable__control:checked~label.sk-toggleable__label-arrow:before {content: \"▾\";}#sk-container-id-9 div.sk-estimator input.sk-toggleable__control:checked~label.sk-toggleable__label {background-color: #d4ebff;}#sk-container-id-9 div.sk-label input.sk-toggleable__control:checked~label.sk-toggleable__label {background-color: #d4ebff;}#sk-container-id-9 input.sk-hidden--visually {border: 0;clip: rect(1px 1px 1px 1px);clip: rect(1px, 1px, 1px, 1px);height: 1px;margin: -1px;overflow: hidden;padding: 0;position: absolute;width: 1px;}#sk-container-id-9 div.sk-estimator {font-family: monospace;background-color: #f0f8ff;border: 1px dotted black;border-radius: 0.25em;box-sizing: border-box;margin-bottom: 0.5em;}#sk-container-id-9 div.sk-estimator:hover {background-color: #d4ebff;}#sk-container-id-9 div.sk-parallel-item::after {content: \"\";width: 100%;border-bottom: 1px solid gray;flex-grow: 1;}#sk-container-id-9 div.sk-label:hover label.sk-toggleable__label {background-color: #d4ebff;}#sk-container-id-9 div.sk-serial::before {content: \"\";position: absolute;border-left: 1px solid gray;box-sizing: border-box;top: 0;bottom: 0;left: 50%;z-index: 0;}#sk-container-id-9 div.sk-serial {display: flex;flex-direction: column;align-items: center;background-color: white;padding-right: 0.2em;padding-left: 0.2em;position: relative;}#sk-container-id-9 div.sk-item {position: relative;z-index: 1;}#sk-container-id-9 div.sk-parallel {display: flex;align-items: stretch;justify-content: center;background-color: white;position: relative;}#sk-container-id-9 div.sk-item::before, #sk-container-id-9 div.sk-parallel-item::before {content: \"\";position: absolute;border-left: 1px solid gray;box-sizing: border-box;top: 0;bottom: 0;left: 50%;z-index: -1;}#sk-container-id-9 div.sk-parallel-item {display: flex;flex-direction: column;z-index: 1;position: relative;background-color: white;}#sk-container-id-9 div.sk-parallel-item:first-child::after {align-self: flex-end;width: 50%;}#sk-container-id-9 div.sk-parallel-item:last-child::after {align-self: flex-start;width: 50%;}#sk-container-id-9 div.sk-parallel-item:only-child::after {width: 0;}#sk-container-id-9 div.sk-dashed-wrapped {border: 1px dashed gray;margin: 0 0.4em 0.5em 0.4em;box-sizing: border-box;padding-bottom: 0.4em;background-color: white;}#sk-container-id-9 div.sk-label label {font-family: monospace;font-weight: bold;display: inline-block;line-height: 1.2em;}#sk-container-id-9 div.sk-label-container {text-align: center;}#sk-container-id-9 div.sk-container {/* jupyter's `normalize.less` sets `[hidden] { display: none; }` but bootstrap.min.css set `[hidden] { display: none !important; }` so we also need the `!important` here to be able to override the default hidden behavior on the sphinx rendered scikit-learn.org. See: https://github.com/scikit-learn/scikit-learn/issues/21755 */display: inline-block !important;position: relative;}#sk-container-id-9 div.sk-text-repr-fallback {display: none;}</style><div id=\"sk-container-id-9\" class=\"sk-top-container\"><div class=\"sk-text-repr-fallback\"><pre>DecisionTreeRegressor(max_depth=6, random_state=1)</pre><b>In a Jupyter environment, please rerun this cell to show the HTML representation or trust the notebook. <br />On GitHub, the HTML representation is unable to render, please try loading this page with nbviewer.org.</b></div><div class=\"sk-container\" hidden><div class=\"sk-item\"><div class=\"sk-estimator sk-toggleable\"><input class=\"sk-toggleable__control sk-hidden--visually\" id=\"sk-estimator-id-57\" type=\"checkbox\" checked><label for=\"sk-estimator-id-57\" class=\"sk-toggleable__label sk-toggleable__label-arrow\">DecisionTreeRegressor</label><div class=\"sk-toggleable__content\"><pre>DecisionTreeRegressor(max_depth=6, random_state=1)</pre></div></div></div></div></div>"
            ]
          },
          "metadata": {},
          "execution_count": 188
        },
        {
          "output_type": "display_data",
          "data": {
            "text/plain": [
              "<Figure size 640x480 with 1 Axes>"
            ],
            "image/png": "[encoded data removed]"
          },
          "metadata": {}
        }
      ],
      "source": [
        "# Celda 5\n",
        "# Importaciones necesarias\n",
        "import numpy as np\n",
        "import matplotlib.pyplot as plt\n",
        "from sklearn.model_selection import cross_val_score, train_test_split\n",
        "from sklearn.tree import DecisionTreeRegressor\n",
        "from sklearn.metrics import make_scorer, mean_squared_error\n",
        "\n",
        "# Definición de una función para calcular el RMSE\n",
        "def rmse(y_true, y_pred):\n",
        "    return np.sqrt(mean_squared_error(y_true, y_pred))\n",
        "\n",
        "# Scorer para usar en cross-validation\n",
        "rmse_scorer = make_scorer(rmse, greater_is_better=False)\n",
        "\n",
        "# Lista de valores para calibrar el criterio de parada de máxima profundidad (max_depth)\n",
        "max_depth_range = range(1, 21)\n",
        "\n",
        "# Lista para guardar los valores del RMSE para cada valor de máxima profundidad (max_depth)\n",
        "rmse_scores = []\n",
        "\n",
        "# Loop para obtener el desempeño del modelo de acuerdo con la máxima profundidad\n",
        "for depth in max_depth_range:\n",
        "    # Definición del árbol de decisión usando DecisionTreeRegressor de la librería sklearn\n",
        "    regressor = DecisionTreeRegressor(max_depth=depth, random_state=1)\n",
        "    rmse_scores.append(-cross_val_score(regressor, X, y, cv=10, scoring=rmse_scorer).mean())\n",
        "\n",
        "# Gráfica max_depth versus RMSE (error del modelo)\n",
        "plt.figure()\n",
        "plt.plot(max_depth_range, rmse_scores)\n",
        "plt.xlabel('max_depth')\n",
        "plt.ylabel('RMSE')  # Estamos buscando el menor RMSE posible\n",
        "plt.title('max_depth vs RMSE')\n",
        "\n",
        "# Mejor RMSE (desempeño del modelo) y su correspondiente max_depth\n",
        "best_depth = sorted(zip(rmse_scores, max_depth_range))[0][1]\n",
        "print(f\"Mejor max_depth por RMSE: {best_depth} con un RMSE de: {sorted(rmse_scores)[0]}\")\n",
        "\n",
        "# Ajustar un árbol con la mejor profundidad encontrada\n",
        "best_regressor = DecisionTreeRegressor(max_depth=best_depth, random_state=1)\n",
        "best_regressor.fit(X, y)\n"
      ]
    },
    {
      "cell_type": "code",
      "source": [
        "import matplotlib.pyplot as plt\n",
        "import numpy as np\n",
        "from sklearn.metrics import mean_squared_error\n",
        "\n",
        "# Agrega este MSE al arreglo para la gráfica\n",
        "mse_values_from_user.append(mse_linear_regression)\n",
        "labels.append('Linear Regression')\n",
        "\n",
        "# Ahora crea la gráfica para comparar los MSE\n",
        "plt.figure(figsize=(10, 6))\n",
        "plt.bar(labels, mse_values_from_user, color=['blue', 'green', 'red'])\n",
        "plt.ylabel('MSE')\n",
        "plt.title('Comparación de MSE: Árbol Manual (Usuario) vs Árbol con Sklearn vs Regresión Lineal')\n",
        "plt.ylim(0, max(mse_values_from_user) * 1.1)  # Ajustando el límite para mejor visualización\n",
        "plt.show()\n",
        "\n",
        "# Mostrar los MSEs calculados\n",
        "(mse_manual_from_user, mse_sklearn, mse_linear_regression)\n"
      ],
      "metadata": {
        "colab": {
          "base_uri": "https://localhost:8080/",
          "height": 564
        },
        "id": "6gyAJ_K2sseG",
        "outputId": "f5e94be6-4501-4781-e3bc-d9e65588dd31"
      },
      "execution_count": 189,
      "outputs": [
        {
          "output_type": "display_data",
          "data": {
            "text/plain": [
              "<Figure size 1000x600 with 1 Axes>"
            ],
            "image/png": "[encoded data removed]"
          },
          "metadata": {}
        },
        {
          "output_type": "execute_result",
          "data": {
            "text/plain": [
              "(17734.5414136476, 12769.751234896463, 17734.539975399766)"
            ]
          },
          "metadata": {},
          "execution_count": 189
        }
      ]
    },
    {
      "cell_type": "markdown",
      "source": [
        "Tanto el modelo de regresión lineal como el árbol manual no son tan efectivos como el modelo de árbol de decisión de sklearn. Sin embargo, para sacar conclusiones más firmes, sería ideal evaluar estos modelos en un conjunto de datos de prueba que no haya sido utilizado durante el entrenamiento, lo cual nos daría una mejor idea de cómo cada modelo generaliza a nuevos datos."
      ],
      "metadata": {
        "id": "CL2oNRvUvzW8"
      }
    },
    {
      "cell_type": "markdown",
      "metadata": {
        "id": "-mN7hnYxBJQG"
      },
      "source": [
        "## Parte B - Métodos de ensamblajes\n",
        "En esta parte del taller se usará el conjunto de datos de Popularidad de Noticias Online. El objetivo es predecir si la notica es popular o no, la popularidad está dada por la cantidad de reacciones en redes sociales. Para más detalles puede visitar el siguiente enlace: [datos](https://archive.ics.uci.edu/ml/datasets/online+news+popularity)."
      ]
    },
    {
      "cell_type": "markdown",
      "metadata": {
        "id": "T8RgcM_RBJQH"
      },
      "source": [
        "### Datos popularidad de noticias"
      ]
    },
    {
      "cell_type": "code",
      "execution_count": 190,
      "metadata": {
        "colab": {
          "base_uri": "https://localhost:8080/",
          "height": 342
        },
        "id": "fObSHigCBJQH",
        "outputId": "27ee1c76-767d-46e4-cb71-ff0e8560ecf0"
      },
      "outputs": [
        {
          "output_type": "execute_result",
          "data": {
            "text/plain": [
              "                                                 url  timedelta  \\\n",
              "0  http://mashable.com/2014/12/10/cia-torture-rep...       28.0   \n",
              "1  http://mashable.com/2013/10/18/bitlock-kicksta...      447.0   \n",
              "2  http://mashable.com/2013/07/24/google-glass-po...      533.0   \n",
              "3  http://mashable.com/2013/11/21/these-are-the-m...      413.0   \n",
              "4  http://mashable.com/2014/02/11/parking-ticket-...      331.0   \n",
              "\n",
              "   n_tokens_title  n_tokens_content  n_unique_tokens  n_non_stop_words  \\\n",
              "0             9.0             188.0         0.732620               1.0   \n",
              "1             7.0             297.0         0.653199               1.0   \n",
              "2            11.0             181.0         0.660377               1.0   \n",
              "3            12.0             781.0         0.497409               1.0   \n",
              "4             8.0             177.0         0.685714               1.0   \n",
              "\n",
              "   n_non_stop_unique_tokens  num_hrefs  num_self_hrefs  num_imgs  ...  \\\n",
              "0                  0.844262        5.0             1.0       1.0  ...   \n",
              "1                  0.815789        9.0             4.0       1.0  ...   \n",
              "2                  0.775701        4.0             3.0       1.0  ...   \n",
              "3                  0.677350       10.0             3.0       1.0  ...   \n",
              "4                  0.830357        3.0             2.0       1.0  ...   \n",
              "\n",
              "   min_positive_polarity  max_positive_polarity  avg_negative_polarity  \\\n",
              "0               0.200000                   0.80              -0.487500   \n",
              "1               0.160000                   0.50              -0.135340   \n",
              "2               0.136364                   1.00               0.000000   \n",
              "3               0.100000                   1.00              -0.195701   \n",
              "4               0.100000                   0.55              -0.175000   \n",
              "\n",
              "   min_negative_polarity  max_negative_polarity  title_subjectivity  \\\n",
              "0                  -0.60              -0.250000                 0.9   \n",
              "1                  -0.40              -0.050000                 0.1   \n",
              "2                   0.00               0.000000                 0.3   \n",
              "3                  -0.40              -0.071429                 0.0   \n",
              "4                  -0.25              -0.100000                 0.0   \n",
              "\n",
              "   title_sentiment_polarity  abs_title_subjectivity  \\\n",
              "0                       0.8                     0.4   \n",
              "1                      -0.1                     0.4   \n",
              "2                       1.0                     0.2   \n",
              "3                       0.0                     0.5   \n",
              "4                       0.0                     0.5   \n",
              "\n",
              "   abs_title_sentiment_polarity  Popular  \n",
              "0                           0.8        1  \n",
              "1                           0.1        0  \n",
              "2                           1.0        0  \n",
              "3                           0.0        0  \n",
              "4                           0.0        0  \n",
              "\n",
              "[5 rows x 61 columns]"
            ],
            "text/html": [
              "\n",
              "  <div id=\"df-5a8c845e-0dd1-45b7-9c0c-67d87a6a51e4\" class=\"colab-df-container\">\n",
              "    <div>\n",
              "<style scoped>\n",
              "    .dataframe tbody tr th:only-of-type {\n",
              "        vertical-align: middle;\n",
              "    }\n",
              "\n",
              "    .dataframe tbody tr th {\n",
              "        vertical-align: top;\n",
              "    }\n",
              "\n",
              "    .dataframe thead th {\n",
              "        text-align: right;\n",
              "    }\n",
              "</style>\n",
              "<table border=\"1\" class=\"dataframe\">\n",
              "  <thead>\n",
              "    <tr style=\"text-align: right;\">\n",
              "      <th></th>\n",
              "      <th>url</th>\n",
              "      <th>timedelta</th>\n",
              "      <th>n_tokens_title</th>\n",
              "      <th>n_tokens_content</th>\n",
              "      <th>n_unique_tokens</th>\n",
              "      <th>n_non_stop_words</th>\n",
              "      <th>n_non_stop_unique_tokens</th>\n",
              "      <th>num_hrefs</th>\n",
              "      <th>num_self_hrefs</th>\n",
              "      <th>num_imgs</th>\n",
              "      <th>...</th>\n",
              "      <th>min_positive_polarity</th>\n",
              "      <th>max_positive_polarity</th>\n",
              "      <th>avg_negative_polarity</th>\n",
              "      <th>min_negative_polarity</th>\n",
              "      <th>max_negative_polarity</th>\n",
              "      <th>title_subjectivity</th>\n",
              "      <th>title_sentiment_polarity</th>\n",
              "      <th>abs_title_subjectivity</th>\n",
              "      <th>abs_title_sentiment_polarity</th>\n",
              "      <th>Popular</th>\n",
              "    </tr>\n",
              "  </thead>\n",
              "  <tbody>\n",
              "    <tr>\n",
              "      <th>0</th>\n",
              "      <td>http://mashable.com/2014/12/10/cia-torture-rep...</td>\n",
              "      <td>28.0</td>\n",
              "      <td>9.0</td>\n",
              "      <td>188.0</td>\n",
              "      <td>0.732620</td>\n",
              "      <td>1.0</td>\n",
              "      <td>0.844262</td>\n",
              "      <td>5.0</td>\n",
              "      <td>1.0</td>\n",
              "      <td>1.0</td>\n",
              "      <td>...</td>\n",
              "      <td>0.200000</td>\n",
              "      <td>0.80</td>\n",
              "      <td>-0.487500</td>\n",
              "      <td>-0.60</td>\n",
              "      <td>-0.250000</td>\n",
              "      <td>0.9</td>\n",
              "      <td>0.8</td>\n",
              "      <td>0.4</td>\n",
              "      <td>0.8</td>\n",
              "      <td>1</td>\n",
              "    </tr>\n",
              "    <tr>\n",
              "      <th>1</th>\n",
              "      <td>http://mashable.com/2013/10/18/bitlock-kicksta...</td>\n",
              "      <td>447.0</td>\n",
              "      <td>7.0</td>\n",
              "      <td>297.0</td>\n",
              "      <td>0.653199</td>\n",
              "      <td>1.0</td>\n",
              "      <td>0.815789</td>\n",
              "      <td>9.0</td>\n",
              "      <td>4.0</td>\n",
              "      <td>1.0</td>\n",
              "      <td>...</td>\n",
              "      <td>0.160000</td>\n",
              "      <td>0.50</td>\n",
              "      <td>-0.135340</td>\n",
              "      <td>-0.40</td>\n",
              "      <td>-0.050000</td>\n",
              "      <td>0.1</td>\n",
              "      <td>-0.1</td>\n",
              "      <td>0.4</td>\n",
              "      <td>0.1</td>\n",
              "      <td>0</td>\n",
              "    </tr>\n",
              "    <tr>\n",
              "      <th>2</th>\n",
              "      <td>http://mashable.com/2013/07/24/google-glass-po...</td>\n",
              "      <td>533.0</td>\n",
              "      <td>11.0</td>\n",
              "      <td>181.0</td>\n",
              "      <td>0.660377</td>\n",
              "      <td>1.0</td>\n",
              "      <td>0.775701</td>\n",
              "      <td>4.0</td>\n",
              "      <td>3.0</td>\n",
              "      <td>1.0</td>\n",
              "      <td>...</td>\n",
              "      <td>0.136364</td>\n",
              "      <td>1.00</td>\n",
              "      <td>0.000000</td>\n",
              "      <td>0.00</td>\n",
              "      <td>0.000000</td>\n",
              "      <td>0.3</td>\n",
              "      <td>1.0</td>\n",
              "      <td>0.2</td>\n",
              "      <td>1.0</td>\n",
              "      <td>0</td>\n",
              "    </tr>\n",
              "    <tr>\n",
              "      <th>3</th>\n",
              "      <td>http://mashable.com/2013/11/21/these-are-the-m...</td>\n",
              "      <td>413.0</td>\n",
              "      <td>12.0</td>\n",
              "      <td>781.0</td>\n",
              "      <td>0.497409</td>\n",
              "      <td>1.0</td>\n",
              "      <td>0.677350</td>\n",
              "      <td>10.0</td>\n",
              "      <td>3.0</td>\n",
              "      <td>1.0</td>\n",
              "      <td>...</td>\n",
              "      <td>0.100000</td>\n",
              "      <td>1.00</td>\n",
              "      <td>-0.195701</td>\n",
              "      <td>-0.40</td>\n",
              "      <td>-0.071429</td>\n",
              "      <td>0.0</td>\n",
              "      <td>0.0</td>\n",
              "      <td>0.5</td>\n",
              "      <td>0.0</td>\n",
              "      <td>0</td>\n",
              "    </tr>\n",
              "    <tr>\n",
              "      <th>4</th>\n",
              "      <td>http://mashable.com/2014/02/11/parking-ticket-...</td>\n",
              "      <td>331.0</td>\n",
              "      <td>8.0</td>\n",
              "      <td>177.0</td>\n",
              "      <td>0.685714</td>\n",
              "      <td>1.0</td>\n",
              "      <td>0.830357</td>\n",
              "      <td>3.0</td>\n",
              "      <td>2.0</td>\n",
              "      <td>1.0</td>\n",
              "      <td>...</td>\n",
              "      <td>0.100000</td>\n",
              "      <td>0.55</td>\n",
              "      <td>-0.175000</td>\n",
              "      <td>-0.25</td>\n",
              "      <td>-0.100000</td>\n",
              "      <td>0.0</td>\n",
              "      <td>0.0</td>\n",
              "      <td>0.5</td>\n",
              "      <td>0.0</td>\n",
              "      <td>0</td>\n",
              "    </tr>\n",
              "  </tbody>\n",
              "</table>\n",
              "<p>5 rows × 61 columns</p>\n",
              "</div>\n",
              "    <div class=\"colab-df-buttons\">\n",
              "\n",
              "  <div class=\"colab-df-container\">\n",
              "    <button class=\"colab-df-convert\" onclick=\"convertToInteractive('df-5a8c845e-0dd1-45b7-9c0c-67d87a6a51e4')\"\n",
              "            title=\"Convert this dataframe to an interactive table.\"\n",
              "            style=\"display:none;\">\n",
              "\n",
              "  <svg xmlns=\"http://www.w3.org/2000/svg\" height=\"24px\" viewBox=\"0 -960 960 960\">\n",
              "    <path d=\"M120-120v-720h720v720H120Zm60-500h600v-160H180v160Zm220 220h160v-160H400v160Zm0 220h160v-160H400v160ZM180-400h160v-160H180v160Zm440 0h160v-160H620v160ZM180-180h160v-160H180v160Zm440 0h160v-160H620v160Z\"/>\n",
              "  </svg>\n",
              "    </button>\n",
              "\n",
              "  <style>\n",
              "    .colab-df-container {\n",
              "      display:flex;\n",
              "      gap: 12px;\n",
              "    }\n",
              "\n",
              "    .colab-df-convert {\n",
              "      background-color: #E8F0FE;\n",
              "      border: none;\n",
              "      border-radius: 50%;\n",
              "      cursor: pointer;\n",
              "      display: none;\n",
              "      fill: #1967D2;\n",
              "      height: 32px;\n",
              "      padding: 0 0 0 0;\n",
              "      width: 32px;\n",
              "    }\n",
              "\n",
              "    .colab-df-convert:hover {\n",
              "      background-color: #E2EBFA;\n",
              "      box-shadow: 0px 1px 2px rgba(60, 64, 67, 0.3), 0px 1px 3px 1px rgba(60, 64, 67, 0.15);\n",
              "      fill: #174EA6;\n",
              "    }\n",
              "\n",
              "    .colab-df-buttons div {\n",
              "      margin-bottom: 4px;\n",
              "    }\n",
              "\n",
              "    [theme=dark] .colab-df-convert {\n",
              "      background-color: #3B4455;\n",
              "      fill: #D2E3FC;\n",
              "    }\n",
              "\n",
              "    [theme=dark] .colab-df-convert:hover {\n",
              "      background-color: #434B5C;\n",
              "      box-shadow: 0px 1px 3px 1px rgba(0, 0, 0, 0.15);\n",
              "      filter: drop-shadow(0px 1px 2px rgba(0, 0, 0, 0.3));\n",
              "      fill: #FFFFFF;\n",
              "    }\n",
              "  </style>\n",
              "\n",
              "    <script>\n",
              "      const buttonEl =\n",
              "        document.querySelector('#df-5a8c845e-0dd1-45b7-9c0c-67d87a6a51e4 button.colab-df-convert');\n",
              "      buttonEl.style.display =\n",
              "        google.colab.kernel.accessAllowed ? 'block' : 'none';\n",
              "\n",
              "      async function convertToInteractive(key) {\n",
              "        const element = document.querySelector('#df-5a8c845e-0dd1-45b7-9c0c-67d87a6a51e4');\n",
              "        const dataTable =\n",
              "          await google.colab.kernel.invokeFunction('convertToInteractive',\n",
              "                                                    [key], {});\n",
              "        if (!dataTable) return;\n",
              "\n",
              "        const docLinkHtml = 'Like what you see? Visit the ' +\n",
              "          '<a target=\"_blank\" href=https://colab.research.google.com/notebooks/data_table.ipynb>data table notebook</a>'\n",
              "          + ' to learn more about interactive tables.';\n",
              "        element.innerHTML = '';\n",
              "        dataTable['output_type'] = 'display_data';\n",
              "        await google.colab.output.renderOutput(dataTable, element);\n",
              "        const docLink = document.createElement('div');\n",
              "        docLink.innerHTML = docLinkHtml;\n",
              "        element.appendChild(docLink);\n",
              "      }\n",
              "    </script>\n",
              "  </div>\n",
              "\n",
              "\n",
              "<div id=\"df-0b7b8d55-251e-404a-9030-3a10a0c1eda3\">\n",
              "  <button class=\"colab-df-quickchart\" onclick=\"quickchart('df-0b7b8d55-251e-404a-9030-3a10a0c1eda3')\"\n",
              "            title=\"Suggest charts\"\n",
              "            style=\"display:none;\">\n",
              "\n",
              "<svg xmlns=\"http://www.w3.org/2000/svg\" height=\"24px\"viewBox=\"0 0 24 24\"\n",
              "     width=\"24px\">\n",
              "    <g>\n",
              "        <path d=\"M19 3H5c-1.1 0-2 .9-2 2v14c0 1.1.9 2 2 2h14c1.1 0 2-.9 2-2V5c0-1.1-.9-2-2-2zM9 17H7v-7h2v7zm4 0h-2V7h2v10zm4 0h-2v-4h2v4z\"/>\n",
              "    </g>\n",
              "</svg>\n",
              "  </button>\n",
              "\n",
              "<style>\n",
              "  .colab-df-quickchart {\n",
              "      --bg-color: #E8F0FE;\n",
              "      --fill-color: #1967D2;\n",
              "      --hover-bg-color: #E2EBFA;\n",
              "      --hover-fill-color: #174EA6;\n",
              "      --disabled-fill-color: #AAA;\n",
              "      --disabled-bg-color: #DDD;\n",
              "  }\n",
              "\n",
              "  [theme=dark] .colab-df-quickchart {\n",
              "      --bg-color: #3B4455;\n",
              "      --fill-color: #D2E3FC;\n",
              "      --hover-bg-color: #434B5C;\n",
              "      --hover-fill-color: #FFFFFF;\n",
              "      --disabled-bg-color: #3B4455;\n",
              "      --disabled-fill-color: #666;\n",
              "  }\n",
              "\n",
              "  .colab-df-quickchart {\n",
              "    background-color: var(--bg-color);\n",
              "    border: none;\n",
              "    border-radius: 50%;\n",
              "    cursor: pointer;\n",
              "    display: none;\n",
              "    fill: var(--fill-color);\n",
              "    height: 32px;\n",
              "    padding: 0;\n",
              "    width: 32px;\n",
              "  }\n",
              "\n",
              "  .colab-df-quickchart:hover {\n",
              "    background-color: var(--hover-bg-color);\n",
              "    box-shadow: 0 1px 2px rgba(60, 64, 67, 0.3), 0 1px 3px 1px rgba(60, 64, 67, 0.15);\n",
              "    fill: var(--button-hover-fill-color);\n",
              "  }\n",
              "\n",
              "  .colab-df-quickchart-complete:disabled,\n",
              "  .colab-df-quickchart-complete:disabled:hover {\n",
              "    background-color: var(--disabled-bg-color);\n",
              "    fill: var(--disabled-fill-color);\n",
              "    box-shadow: none;\n",
              "  }\n",
              "\n",
              "  .colab-df-spinner {\n",
              "    border: 2px solid var(--fill-color);\n",
              "    border-color: transparent;\n",
              "    border-bottom-color: var(--fill-color);\n",
              "    animation:\n",
              "      spin 1s steps(1) infinite;\n",
              "  }\n",
              "\n",
              "  @keyframes spin {\n",
              "    0% {\n",
              "      border-color: transparent;\n",
              "      border-bottom-color: var(--fill-color);\n",
              "      border-left-color: var(--fill-color);\n",
              "    }\n",
              "    20% {\n",
              "      border-color: transparent;\n",
              "      border-left-color: var(--fill-color);\n",
              "      border-top-color: var(--fill-color);\n",
              "    }\n",
              "    30% {\n",
              "      border-color: transparent;\n",
              "      border-left-color: var(--fill-color);\n",
              "      border-top-color: var(--fill-color);\n",
              "      border-right-color: var(--fill-color);\n",
              "    }\n",
              "    40% {\n",
              "      border-color: transparent;\n",
              "      border-right-color: var(--fill-color);\n",
              "      border-top-color: var(--fill-color);\n",
              "    }\n",
              "    60% {\n",
              "      border-color: transparent;\n",
              "      border-right-color: var(--fill-color);\n",
              "    }\n",
              "    80% {\n",
              "      border-color: transparent;\n",
              "      border-right-color: var(--fill-color);\n",
              "      border-bottom-color: var(--fill-color);\n",
              "    }\n",
              "    90% {\n",
              "      border-color: transparent;\n",
              "      border-bottom-color: var(--fill-color);\n",
              "    }\n",
              "  }\n",
              "</style>\n",
              "\n",
              "  <script>\n",
              "    async function quickchart(key) {\n",
              "      const quickchartButtonEl =\n",
              "        document.querySelector('#' + key + ' button');\n",
              "      quickchartButtonEl.disabled = true;  // To prevent multiple clicks.\n",
              "      quickchartButtonEl.classList.add('colab-df-spinner');\n",
              "      try {\n",
              "        const charts = await google.colab.kernel.invokeFunction(\n",
              "            'suggestCharts', [key], {});\n",
              "      } catch (error) {\n",
              "        console.error('Error during call to suggestCharts:', error);\n",
              "      }\n",
              "      quickchartButtonEl.classList.remove('colab-df-spinner');\n",
              "      quickchartButtonEl.classList.add('colab-df-quickchart-complete');\n",
              "    }\n",
              "    (() => {\n",
              "      let quickchartButtonEl =\n",
              "        document.querySelector('#df-0b7b8d55-251e-404a-9030-3a10a0c1eda3 button');\n",
              "      quickchartButtonEl.style.display =\n",
              "        google.colab.kernel.accessAllowed ? 'block' : 'none';\n",
              "    })();\n",
              "  </script>\n",
              "</div>\n",
              "\n",
              "    </div>\n",
              "  </div>\n"
            ],
            "application/vnd.google.colaboratory.intrinsic+json": {
              "type": "dataframe",
              "variable_name": "df"
            }
          },
          "metadata": {},
          "execution_count": 190
        }
      ],
      "source": [
        "# Lectura de la información de archivo .csv\n",
        "df = pd.read_csv('https://raw.githubusercontent.com/davidzarruk/MIAD_ML_NLP_2023/main/datasets/mashable.csv', index_col=0)\n",
        "df.head()"
      ]
    },
    {
      "cell_type": "code",
      "execution_count": 191,
      "metadata": {
        "colab": {
          "base_uri": "https://localhost:8080/"
        },
        "id": "0YwUJ_qvBJQH",
        "outputId": "e8bf0bd9-eaf8-48bf-bb12-33a610f2c94a"
      },
      "outputs": [
        {
          "output_type": "execute_result",
          "data": {
            "text/plain": [
              "0.5"
            ]
          },
          "metadata": {},
          "execution_count": 191
        }
      ],
      "source": [
        "# Definición variable de interes y variables predictoras\n",
        "X = df.drop(['url', 'Popular'], axis=1)\n",
        "y = df['Popular']\n",
        "y.mean()"
      ]
    },
    {
      "cell_type": "code",
      "execution_count": 192,
      "metadata": {
        "id": "69JxORtGBJQH"
      },
      "outputs": [],
      "source": [
        "# División de la muestra en set de entrenamiento y prueba\n",
        "from sklearn.model_selection import train_test_split\n",
        "X_train, X_test, y_train, y_test = train_test_split(X, y, random_state=1)"
      ]
    },
    {
      "cell_type": "markdown",
      "metadata": {
        "id": "ZHosfT4yBJQH"
      },
      "source": [
        "### Punto 6 - Árbol de decisión y regresión logística\n",
        "En la celda 6 construya un árbol de decisión y una regresión logística. Para el árbol calibre al menos un parámetro y evalúe el desempeño de cada modelo usando las métricas de Accuracy y F1-Score."
      ]
    },
    {
      "cell_type": "markdown",
      "source": [
        "**Arboles de decisión**"
      ],
      "metadata": {
        "id": "2_fM8WL6XeBS"
      }
    },
    {
      "cell_type": "code",
      "source": [
        "from sklearn.tree import DecisionTreeClassifier\n",
        "from sklearn.metrics import accuracy_score, f1_score\n",
        "from sklearn.model_selection import GridSearchCV\n",
        "\n",
        "# Entrenar el árbol de decisión con calibración de hiperparámetros (profundidad máxima)\n",
        "param_grid_tree = {'max_depth': [3, 5, 7, 10]}\n",
        "tree_clf = DecisionTreeClassifier(random_state=1)\n",
        "grid_tree = GridSearchCV(tree_clf, param_grid_tree, cv=5, scoring='f1')\n",
        "grid_tree.fit(X_train, y_train)\n",
        "\n",
        "# Mejor árbol de decisión\n",
        "best_tree_clf = grid_tree.best_estimator_\n",
        "\n",
        "# Predicciones con el mejor árbol de decisión\n",
        "y_pred_tree = best_tree_clf.predict(X_test)\n",
        "\n",
        "# Métricas para el árbol de decisión\n",
        "accuracy_tree = accuracy_score(y_test, y_pred_tree)\n",
        "f1_score_tree = f1_score(y_test, y_pred_tree)\n",
        "\n",
        "print(f'Árbol de Decisión - Mejor profundidad: {grid_tree.best_params_[\"max_depth\"]}')\n",
        "print(f'Árbol de Decisión - Accuracy: {accuracy_tree}')\n",
        "print(f'Árbol de Decisión - F1 Score: {f1_score_tree}')\n"
      ],
      "metadata": {
        "colab": {
          "base_uri": "https://localhost:8080/"
        },
        "id": "TXIjyBZnXdYs",
        "outputId": "a81ef72b-dbfe-4ad4-f517-15fb38ad21f6"
      },
      "execution_count": 193,
      "outputs": [
        {
          "output_type": "stream",
          "name": "stdout",
          "text": [
            "Árbol de Decisión - Mejor profundidad: 5\n",
            "Árbol de Decisión - Accuracy: 0.6373333333333333\n",
            "Árbol de Decisión - F1 Score: 0.6616915422885573\n"
          ]
        }
      ]
    },
    {
      "cell_type": "markdown",
      "source": [
        "**Construcción por Regresión Logistica**"
      ],
      "metadata": {
        "id": "TPW_-ZN-Xo4T"
      }
    },
    {
      "cell_type": "code",
      "execution_count": 194,
      "metadata": {
        "colab": {
          "base_uri": "https://localhost:8080/"
        },
        "id": "M0wP8mIsBJQH",
        "outputId": "b4194983-d1dc-4d0a-8e6d-f119ab5f2a29"
      },
      "outputs": [
        {
          "output_type": "stream",
          "name": "stdout",
          "text": [
            "Regresión Logística - Accuracy: 0.6133333333333333\n",
            "Regresión Logística - F1 Score: 0.6102150537634409\n"
          ]
        }
      ],
      "source": [
        "# Celda 6\n",
        "from sklearn.linear_model import LogisticRegression\n",
        "\n",
        "# Entrenar la regresión logística\n",
        "logreg = LogisticRegression(random_state=1)\n",
        "logreg.fit(X_train, y_train)\n",
        "\n",
        "# Predicciones con la regresión logística\n",
        "y_pred_logreg = logreg.predict(X_test)\n",
        "\n",
        "# Métricas para la regresión logística\n",
        "accuracy_logreg = accuracy_score(y_test, y_pred_logreg)\n",
        "f1_score_logreg = f1_score(y_test, y_pred_logreg)\n",
        "\n",
        "print(f'Regresión Logística - Accuracy: {accuracy_logreg}')\n",
        "print(f'Regresión Logística - F1 Score: {f1_score_logreg}')\n"
      ]
    },
    {
      "cell_type": "markdown",
      "metadata": {
        "id": "hPwmwcgvBJQH"
      },
      "source": [
        "### Punto 7 - Votación Mayoritaria\n",
        "En la celda 7 elabore un esamble con la metodología de **Votación mayoritaria** compuesto por 300 muestras bagged para cada uno de los siguientes escenarios:\n",
        "\n",
        "-100 árboles de decisión donde max_depth tome un valor de su elección\\\n",
        "-100 árboles de decisión donde min_samples_leaf tome un valor de su elección\\\n",
        "-100 regresiones logísticas\n",
        "\n",
        "Evalúe cada uno de los tres modelos de manera independiente utilizando las métricas de Accuracy y F1-Score, luego evalúe el ensamble de modelos y compare los resultados."
      ]
    },
    {
      "cell_type": "markdown",
      "source": [
        "Votacion mayoritaria: Es un método simple que asigna la clase más frecuente predicha por los modelos individuales como la predicción final. En otras palabras, el modelo que predice una clase más veces que los demás \"gana\" y su predicción se utiliza como la respuesta final."
      ],
      "metadata": {
        "id": "Cg9GzMHtgDuu"
      }
    },
    {
      "cell_type": "code",
      "execution_count": 195,
      "metadata": {
        "colab": {
          "base_uri": "https://localhost:8080/"
        },
        "id": "X2AHTnkJBJQH",
        "outputId": "56bdc037-96b2-4e48-8628-91433d83caa8"
      },
      "outputs": [
        {
          "output_type": "stream",
          "name": "stdout",
          "text": [
            "**Individual Model Evaluations**\n",
            "Decision Tree (max_depth=5):\n",
            "Accuracy: 0.6144444444444445\n",
            "F1-Score: 0.6083521444695259\n",
            "Decision Tree (min_samples_leaf=10):\n",
            "Accuracy: 0.5561111111111111\n",
            "F1-Score: 0.5389497980380842\n",
            "Logistic Regression:\n",
            "Accuracy: 0.62\n",
            "F1-Score: 0.6082474226804124\n",
            "\n",
            "**Voting Ensemble Evaluation**\n",
            "Accuracy: 0.6533333333333333\n",
            "F1-Score: 0.649438202247191\n"
          ]
        }
      ],
      "source": [
        "# Celda 7\n",
        "import pandas as pd\n",
        "from sklearn.model_selection import train_test_split\n",
        "from sklearn.ensemble import BaggingClassifier, VotingClassifier\n",
        "from sklearn.tree import DecisionTreeClassifier\n",
        "from sklearn.linear_model import LogisticRegression\n",
        "from sklearn.metrics import accuracy_score, f1_score\n",
        "\n",
        "# Split data into training and testing sets\n",
        "X_train, X_test, y_train, y_test = train_test_split(X, y, test_size=0.3, random_state=42)\n",
        "\n",
        "# Define model parameters\n",
        "max_depth_value = 5  # Choose a value for max_depth\n",
        "min_samples_leaf_value = 10  # Choose a value for min_samples_leaf\n",
        "\n",
        "# Create individual models\n",
        "dt_max_depth = DecisionTreeClassifier(max_depth=max_depth_value)\n",
        "dt_min_samples_leaf = DecisionTreeClassifier(min_samples_leaf=min_samples_leaf_value)\n",
        "lr = LogisticRegression()\n",
        "\n",
        "# Create bagged ensembles for each model\n",
        "bagged_dt_max_depth = BaggingClassifier(base_estimator=dt_max_depth, n_estimators=100, random_state=42)\n",
        "bagged_dt_min_samples_leaf = BaggingClassifier(base_estimator=dt_min_samples_leaf, n_estimators=100, random_state=42)\n",
        "bagged_lr = BaggingClassifier(base_estimator=lr, n_estimators=100, random_state=42)\n",
        "\n",
        "# Train individual models\n",
        "dt_max_depth.fit(X_train, y_train)\n",
        "dt_min_samples_leaf.fit(X_train, y_train)\n",
        "lr.fit(X_train, y_train)\n",
        "\n",
        "# Train bagged ensembles\n",
        "bagged_dt_max_depth.fit(X_train, y_train)\n",
        "bagged_dt_min_samples_leaf.fit(X_train, y_train)\n",
        "bagged_lr.fit(X_train, y_train)\n",
        "\n",
        "# Evaluate individual models\n",
        "print(\"**Individual Model Evaluations**\")\n",
        "print(\"Decision Tree (max_depth={}):\".format(max_depth_value))\n",
        "print(\"Accuracy:\", accuracy_score(y_test, dt_max_depth.predict(X_test)))\n",
        "print(\"F1-Score:\", f1_score(y_test, dt_max_depth.predict(X_test)))\n",
        "\n",
        "print(\"Decision Tree (min_samples_leaf={}):\".format(min_samples_leaf_value))\n",
        "print(\"Accuracy:\", accuracy_score(y_test, dt_min_samples_leaf.predict(X_test)))\n",
        "print(\"F1-Score:\", f1_score(y_test, dt_min_samples_leaf.predict(X_test)))\n",
        "\n",
        "print(\"Logistic Regression:\")\n",
        "print(\"Accuracy:\", accuracy_score(y_test, lr.predict(X_test)))\n",
        "print(\"F1-Score:\", f1_score(y_test, lr.predict(X_test)))\n",
        "\n",
        "# Create voting ensemble\n",
        "voting_ensemble = VotingClassifier(estimators=[\n",
        "    ('dt_max_depth', bagged_dt_max_depth),\n",
        "    ('dt_min_samples_leaf', bagged_dt_min_samples_leaf),\n",
        "    ('lr', bagged_lr)\n",
        "], voting='hard')\n",
        "\n",
        "# Evaluate voting ensemble\n",
        "voting_ensemble.fit(X_train, y_train)\n",
        "print(\"\\n**Voting Ensemble Evaluation**\")\n",
        "print(\"Accuracy:\", accuracy_score(y_test, voting_ensemble.predict(X_test)))\n",
        "print(\"F1-Score:\", f1_score(y_test, voting_ensemble.predict(X_test)))\n"
      ]
    },
    {
      "cell_type": "markdown",
      "metadata": {
        "id": "MifVwcSoBJQH"
      },
      "source": [
        "### Punto 8 - Votación Ponderada\n",
        "En la celda 8 elabore un ensamble con la metodología de **Votación ponderada** compuesto por 300 muestras bagged para los mismos tres escenarios del punto 7. Evalúe los modelos utilizando las métricas de Accuracy y F1-Score"
      ]
    },
    {
      "cell_type": "code",
      "source": [
        "# Divide los datos en conjuntos de entrenamiento y prueba\n",
        "X_train, X_test, y_train, y_test = train_test_split(X, y, test_size=0.3, random_state=42)\n"
      ],
      "metadata": {
        "id": "5HEHmQFlGfmB"
      },
      "execution_count": 197,
      "outputs": []
    },
    {
      "cell_type": "code",
      "source": [
        "# Define los parámetros para los modelos\n",
        "max_depth_value = 5\n",
        "min_samples_leaf_value = 10\n",
        "\n",
        "# Crea modelos individuales\n",
        "dt_max_depth = DecisionTreeClassifier(max_depth=max_depth_value)\n",
        "dt_min_samples_leaf = DecisionTreeClassifier(min_samples_leaf=min_samples_leaf_value)\n",
        "lr = LogisticRegression()\n"
      ],
      "metadata": {
        "id": "eIeTRrCdGje2"
      },
      "execution_count": 198,
      "outputs": []
    },
    {
      "cell_type": "markdown",
      "source": [
        "Se crea y entrenas ensambles bagged para cada uno de los modelos con 100 estimadores cada uno"
      ],
      "metadata": {
        "id": "Ud_qhLT2HJLp"
      }
    },
    {
      "cell_type": "code",
      "source": [
        "# Crea ensambles bagged para cada modelo\n",
        "bagged_dt_max_depth = BaggingClassifier(base_estimator=dt_max_depth, n_estimators=100, random_state=42)\n",
        "bagged_dt_min_samples_leaf = BaggingClassifier(base_estimator=dt_min_samples_leaf, n_estimators=100, random_state=42)\n",
        "bagged_lr = BaggingClassifier(base_estimator=lr, n_estimators=100, random_state=42)\n",
        "\n",
        "# Entrena los ensambles bagged\n",
        "bagged_dt_max_depth.fit(X_train, y_train)\n",
        "bagged_dt_min_samples_leaf.fit(X_train, y_train)\n",
        "bagged_lr.fit(X_train, y_train)\n"
      ],
      "metadata": {
        "colab": {
          "base_uri": "https://localhost:8080/",
          "height": 118
        },
        "id": "NdXJ_vZ1GyyB",
        "outputId": "0ea0e6a7-9c6f-41e1-e6fb-a9a52d175cc5"
      },
      "execution_count": 199,
      "outputs": [
        {
          "output_type": "execute_result",
          "data": {
            "text/plain": [
              "BaggingClassifier(base_estimator=LogisticRegression(), n_estimators=100,\n",
              "                  random_state=42)"
            ],
            "text/html": [
              "<style>#sk-container-id-10 {color: black;background-color: white;}#sk-container-id-10 pre{padding: 0;}#sk-container-id-10 div.sk-toggleable {background-color: white;}#sk-container-id-10 label.sk-toggleable__label {cursor: pointer;display: block;width: 100%;margin-bottom: 0;padding: 0.3em;box-sizing: border-box;text-align: center;}#sk-container-id-10 label.sk-toggleable__label-arrow:before {content: \"▸\";float: left;margin-right: 0.25em;color: #696969;}#sk-container-id-10 label.sk-toggleable__label-arrow:hover:before {color: black;}#sk-container-id-10 div.sk-estimator:hover label.sk-toggleable__label-arrow:before {color: black;}#sk-container-id-10 div.sk-toggleable__content {max-height: 0;max-width: 0;overflow: hidden;text-align: left;background-color: #f0f8ff;}#sk-container-id-10 div.sk-toggleable__content pre {margin: 0.2em;color: black;border-radius: 0.25em;background-color: #f0f8ff;}#sk-container-id-10 input.sk-toggleable__control:checked~div.sk-toggleable__content {max-height: 200px;max-width: 100%;overflow: auto;}#sk-container-id-10 input.sk-toggleable__control:checked~label.sk-toggleable__label-arrow:before {content: \"▾\";}#sk-container-id-10 div.sk-estimator input.sk-toggleable__control:checked~label.sk-toggleable__label {background-color: #d4ebff;}#sk-container-id-10 div.sk-label input.sk-toggleable__control:checked~label.sk-toggleable__label {background-color: #d4ebff;}#sk-container-id-10 input.sk-hidden--visually {border: 0;clip: rect(1px 1px 1px 1px);clip: rect(1px, 1px, 1px, 1px);height: 1px;margin: -1px;overflow: hidden;padding: 0;position: absolute;width: 1px;}#sk-container-id-10 div.sk-estimator {font-family: monospace;background-color: #f0f8ff;border: 1px dotted black;border-radius: 0.25em;box-sizing: border-box;margin-bottom: 0.5em;}#sk-container-id-10 div.sk-estimator:hover {background-color: #d4ebff;}#sk-container-id-10 div.sk-parallel-item::after {content: \"\";width: 100%;border-bottom: 1px solid gray;flex-grow: 1;}#sk-container-id-10 div.sk-label:hover label.sk-toggleable__label {background-color: #d4ebff;}#sk-container-id-10 div.sk-serial::before {content: \"\";position: absolute;border-left: 1px solid gray;box-sizing: border-box;top: 0;bottom: 0;left: 50%;z-index: 0;}#sk-container-id-10 div.sk-serial {display: flex;flex-direction: column;align-items: center;background-color: white;padding-right: 0.2em;padding-left: 0.2em;position: relative;}#sk-container-id-10 div.sk-item {position: relative;z-index: 1;}#sk-container-id-10 div.sk-parallel {display: flex;align-items: stretch;justify-content: center;background-color: white;position: relative;}#sk-container-id-10 div.sk-item::before, #sk-container-id-10 div.sk-parallel-item::before {content: \"\";position: absolute;border-left: 1px solid gray;box-sizing: border-box;top: 0;bottom: 0;left: 50%;z-index: -1;}#sk-container-id-10 div.sk-parallel-item {display: flex;flex-direction: column;z-index: 1;position: relative;background-color: white;}#sk-container-id-10 div.sk-parallel-item:first-child::after {align-self: flex-end;width: 50%;}#sk-container-id-10 div.sk-parallel-item:last-child::after {align-self: flex-start;width: 50%;}#sk-container-id-10 div.sk-parallel-item:only-child::after {width: 0;}#sk-container-id-10 div.sk-dashed-wrapped {border: 1px dashed gray;margin: 0 0.4em 0.5em 0.4em;box-sizing: border-box;padding-bottom: 0.4em;background-color: white;}#sk-container-id-10 div.sk-label label {font-family: monospace;font-weight: bold;display: inline-block;line-height: 1.2em;}#sk-container-id-10 div.sk-label-container {text-align: center;}#sk-container-id-10 div.sk-container {/* jupyter's `normalize.less` sets `[hidden] { display: none; }` but bootstrap.min.css set `[hidden] { display: none !important; }` so we also need the `!important` here to be able to override the default hidden behavior on the sphinx rendered scikit-learn.org. See: https://github.com/scikit-learn/scikit-learn/issues/21755 */display: inline-block !important;position: relative;}#sk-container-id-10 div.sk-text-repr-fallback {display: none;}</style><div id=\"sk-container-id-10\" class=\"sk-top-container\"><div class=\"sk-text-repr-fallback\"><pre>BaggingClassifier(base_estimator=LogisticRegression(), n_estimators=100,\n",
              "                  random_state=42)</pre><b>In a Jupyter environment, please rerun this cell to show the HTML representation or trust the notebook. <br />On GitHub, the HTML representation is unable to render, please try loading this page with nbviewer.org.</b></div><div class=\"sk-container\" hidden><div class=\"sk-item sk-dashed-wrapped\"><div class=\"sk-label-container\"><div class=\"sk-label sk-toggleable\"><input class=\"sk-toggleable__control sk-hidden--visually\" id=\"sk-estimator-id-58\" type=\"checkbox\" ><label for=\"sk-estimator-id-58\" class=\"sk-toggleable__label sk-toggleable__label-arrow\">BaggingClassifier</label><div class=\"sk-toggleable__content\"><pre>BaggingClassifier(base_estimator=LogisticRegression(), n_estimators=100,\n",
              "                  random_state=42)</pre></div></div></div><div class=\"sk-parallel\"><div class=\"sk-parallel-item\"><div class=\"sk-item\"><div class=\"sk-label-container\"><div class=\"sk-label sk-toggleable\"><input class=\"sk-toggleable__control sk-hidden--visually\" id=\"sk-estimator-id-59\" type=\"checkbox\" ><label for=\"sk-estimator-id-59\" class=\"sk-toggleable__label sk-toggleable__label-arrow\">base_estimator: LogisticRegression</label><div class=\"sk-toggleable__content\"><pre>LogisticRegression()</pre></div></div></div><div class=\"sk-serial\"><div class=\"sk-item\"><div class=\"sk-estimator sk-toggleable\"><input class=\"sk-toggleable__control sk-hidden--visually\" id=\"sk-estimator-id-60\" type=\"checkbox\" ><label for=\"sk-estimator-id-60\" class=\"sk-toggleable__label sk-toggleable__label-arrow\">LogisticRegression</label><div class=\"sk-toggleable__content\"><pre>LogisticRegression()</pre></div></div></div></div></div></div></div></div></div></div>"
            ]
          },
          "metadata": {},
          "execution_count": 199
        }
      ]
    },
    {
      "cell_type": "markdown",
      "source": [
        "**Entrena y evalua los modelos individuales**"
      ],
      "metadata": {
        "id": "HzjTFdgCHF6E"
      }
    },
    {
      "cell_type": "code",
      "source": [
        "# Entrenar modelos individuales\n",
        "dt_max_depth.fit(X_train, y_train)\n",
        "dt_min_samples_leaf.fit(X_train, y_train)\n",
        "lr.fit(X_train, y_train)\n",
        "\n",
        "# Evaluar modelos individuales\n",
        "print(\"**Individual Model Evaluations**\")\n",
        "models_individual = [\n",
        "    ('DT max_depth', dt_max_depth),\n",
        "    ('DT min_samples_leaf', dt_min_samples_leaf),\n",
        "    ('LR', lr)\n",
        "]\n",
        "\n",
        "for name, model in models_individual:\n",
        "    y_pred = model.predict(X_test)\n",
        "    acc = accuracy_score(y_test, y_pred)\n",
        "    f1 = f1_score(y_test, y_pred)\n",
        "    print(f\"{name} - Accuracy: {acc}, F1 Score: {f1}\")\n",
        "\n",
        "\n"
      ],
      "metadata": {
        "colab": {
          "base_uri": "https://localhost:8080/"
        },
        "id": "11gmOapRG_B7",
        "outputId": "3ef200f3-af8e-414a-e20e-1b1e58af141a"
      },
      "execution_count": 200,
      "outputs": [
        {
          "output_type": "stream",
          "name": "stdout",
          "text": [
            "**Individual Model Evaluations**\n",
            "DT max_depth - Accuracy: 0.615, F1 Score: 0.6091370558375634\n",
            "DT min_samples_leaf - Accuracy: 0.5566666666666666, F1 Score: 0.5397923875432525\n",
            "LR - Accuracy: 0.62, F1 Score: 0.6082474226804124\n"
          ]
        }
      ]
    },
    {
      "cell_type": "markdown",
      "source": [
        "**Evaluación de modelos de bagged**"
      ],
      "metadata": {
        "id": "eyCrC_WRJI8P"
      }
    },
    {
      "cell_type": "code",
      "source": [
        "# Evalúa y muestra las métricas de los modelos bagged\n",
        "print(\"\\n**Bagged Model Evaluations**\")\n",
        "models_bagged = [\n",
        "    ('Bagged DT max_depth', bagged_dt_max_depth),\n",
        "    ('Bagged DT min_samples_leaf', bagged_dt_min_samples_leaf),\n",
        "    ('Bagged LR', bagged_lr)\n",
        "]\n",
        "\n",
        "for name, model in models_bagged:\n",
        "    y_pred = model.predict(X_test)\n",
        "    acc = accuracy_score(y_test, y_pred)\n",
        "    f1 = f1_score(y_test, y_pred)\n",
        "    print(f\"{name} - Accuracy: {acc}, F1 Score: {f1}\")\n"
      ],
      "metadata": {
        "colab": {
          "base_uri": "https://localhost:8080/"
        },
        "id": "su8fLLvXJJHW",
        "outputId": "405d7b26-3162-47d4-c250-ce9da93566ea"
      },
      "execution_count": 201,
      "outputs": [
        {
          "output_type": "stream",
          "name": "stdout",
          "text": [
            "\n",
            "**Bagged Model Evaluations**\n",
            "Bagged DT max_depth - Accuracy: 0.6588888888888889, F1 Score: 0.6542792792792793\n",
            "Bagged DT min_samples_leaf - Accuracy: 0.6561111111111111, F1 Score: 0.6555370061213133\n",
            "Bagged LR - Accuracy: 0.6244444444444445, F1 Score: 0.6101499423298731\n"
          ]
        }
      ]
    },
    {
      "cell_type": "markdown",
      "source": [
        "**Votación ponderada manual**"
      ],
      "metadata": {
        "id": "LFxE-eaYHjWg"
      }
    },
    {
      "cell_type": "code",
      "source": [
        "# Asignar pesos basados en el desempeño de Accuracy de cada modelo bagged\n",
        "weights = np.array([accuracy_score(y_test, model.predict(X_test)) for _, model in models_bagged])\n",
        "# Normalizar los pesos para que sumen 1\n",
        "weights /= weights.sum()\n",
        "\n",
        "# Generar las predicciones ponderadas (para una clasificación binaria)\n",
        "weighted_votes = np.zeros_like(y_test, dtype=float)\n",
        "for (name, model), weight in zip(models_bagged, weights):\n",
        "    weighted_votes += weight * model.predict_proba(X_test)[:, 1]  # Asumiendo que 1 es la clase positiva\n",
        "\n",
        "# Convertir las votaciones ponderadas en predicciones binarias\n",
        "final_pred = (weighted_votes >= 0.5).astype(int)\n",
        "\n",
        "# Calcular y mostrar las métricas para el ensamble de votación ponderada\n",
        "accuracy_weighted_voting = accuracy_score(y_test, final_pred)\n",
        "f1_score_weighted_voting = f1_score(y_test, final_pred)\n",
        "\n",
        "print(\"\\n**Weighted Voting Ensemble Evaluation (Manual)**\")\n",
        "print(\"Accuracy:\", accuracy_weighted_voting)\n",
        "print(\"F1 Score:\", f1_score_weighted_voting)\n",
        "\n"
      ],
      "metadata": {
        "colab": {
          "base_uri": "https://localhost:8080/"
        },
        "id": "fa0jEgxOHj-p",
        "outputId": "04a4be48-3476-46a9-8d19-3c82cdb9e117"
      },
      "execution_count": 202,
      "outputs": [
        {
          "output_type": "stream",
          "name": "stdout",
          "text": [
            "\n",
            "**Weighted Voting Ensemble Evaluation (Manual)**\n",
            "Accuracy: 0.6511111111111111\n",
            "F1 Score: 0.6507230255839822\n"
          ]
        }
      ]
    },
    {
      "cell_type": "markdown",
      "metadata": {
        "id": "VesZKeaSBJQI"
      },
      "source": [
        "### Punto 9 - Comparación y análisis de resultados\n",
        "En la celda 9 comente sobre los resultados obtenidos con las metodologías usadas en los puntos 7 y 8, compare los resultados y enuncie posibles ventajas o desventajas de cada una de ellas."
      ]
    },
    {
      "cell_type": "code",
      "execution_count": 208,
      "metadata": {
        "id": "fhDQ0ymtBJQI"
      },
      "outputs": [],
      "source": [
        "# **Plotting the Results**\n",
        "# Prepare data for the bar chart\n",
        "models = [\"Majority Voting\", \"Weighted Voting\"]"
      ]
    },
    {
      "cell_type": "code",
      "source": [
        "# Imprimir las métricas para la comparación\n",
        "print(f\"Accuracy - Majority Voting: {accuracy_majority_voting}, Weighted Voting: {accuracy_weighted_voting}\")\n",
        "print(f\"F1 Score - Majority Voting: {f1_score_majority_voting}, Weighted Voting: {f1_score_weighted_voting}\")\n",
        "\n",
        "# Crear un gráfico para la comparación\n",
        "import matplotlib.pyplot as plt\n",
        "\n",
        "# Datos para la gráfica\n",
        "categories = ['Accuracy', 'F1 Score']\n",
        "majority_scores = [accuracy_majority_voting, f1_score_majority_voting]\n",
        "weighted_scores = [accuracy_weighted_voting, f1_score_weighted_voting]\n",
        "\n",
        "x = range(len(categories))  # the label locations\n",
        "\n",
        "fig, ax = plt.subplots()\n",
        "bar_width = 0.35  # the width of the bars\n",
        "\n",
        "rects1 = ax.bar(x, majority_scores, bar_width, label='Majority Voting')\n",
        "rects2 = ax.bar([p + bar_width for p in x], weighted_scores, bar_width, label='Weighted Voting')\n",
        "\n",
        "# Add some text for labels, title and custom x-axis tick labels, etc.\n",
        "ax.set_xlabel('Metric')\n",
        "ax.set_title('Scores by voting method')\n",
        "ax.set_xticks([p + bar_width / 2 for p in x])\n",
        "ax.set_xticklabels(categories)\n",
        "ax.legend()\n",
        "\n",
        "# Presentación de los datos en las barras para mejor claridad\n",
        "def autolabel(rects):\n",
        "    \"\"\"Attach a text label above each bar in *rects*, displaying its height.\"\"\"\n",
        "    for rect in rects:\n",
        "        height = rect.get_height()\n",
        "        ax.annotate('{}'.format(round(height, 2)),\n",
        "                    xy=(rect.get_x() + rect.get_width() / 2, height),\n",
        "                    xytext=(0, 3),  # 3 points vertical offset\n",
        "                    textcoords=\"offset points\",\n",
        "                    ha='center', va='bottom')\n",
        "\n",
        "autolabel(rects1)\n",
        "autolabel(rects2)\n",
        "\n",
        "fig.tight_layout()\n",
        "plt.show()\n"
      ],
      "metadata": {
        "colab": {
          "base_uri": "https://localhost:8080/",
          "height": 522
        },
        "id": "606nvJVNN4cI",
        "outputId": "4c262d05-42bc-4bea-cf08-cc0aa67decaf"
      },
      "execution_count": 209,
      "outputs": [
        {
          "output_type": "stream",
          "name": "stdout",
          "text": [
            "Accuracy - Majority Voting: 0.6566666666666666, Weighted Voting: 0.6511111111111111\n",
            "F1 Score - Majority Voting: 0.6504524886877828, Weighted Voting: 0.6507230255839822\n"
          ]
        },
        {
          "output_type": "display_data",
          "data": {
            "text/plain": [
              "<Figure size 640x480 with 1 Axes>"
            ],
            "image/png": "[encoded data removed]"
          },
          "metadata": {}
        }
      ]
    },
    {
      "cell_type": "markdown",
      "source": [
        "La precisión para la votación Mayoritaria es ligeramente menor que para la votación Ponderada.\n",
        "La puntuación F1 para la votación Mayoritaria es muy similar a la puntuación F1 de la votación Ponderada, con una diferencia mínima.\n",
        "Ambos métodos tienen un rendimiento comparable en este caso específico, lo cual sugiere que la ponderación basada en el rendimiento no ofrece una mejora significativa sobre la votación igualitaria en este conjunto de datos particular."
      ],
      "metadata": {
        "id": "W7YDYhh4Qq69"
      }
    },
    {
      "cell_type": "markdown",
      "source": [
        "Dado que los resultados son similares, la elección entre la votación Mayoritaria y la Ponderada podría basarse en consideraciones de simplicidad y transparencia del modelo (favoreciendo la votación Mayoritaria) o en la posibilidad de futuras mejoras y ajustes más finos (posiblemente favoreciendo la votación Ponderada). Además, es importante considerar el contexto de la aplicación: en problemas donde la interpretación y la explicabilidad son cruciales, la votación Mayoritaria podría ser preferida por su simplicidad y fácil comprensión"
      ],
      "metadata": {
        "id": "9LLnhA8XQfBQ"
      }
    },
    {
      "cell_type": "markdown",
      "source": [
        "**Ventajas y desventajas de la metodología**\n",
        "\n",
        "***Votación Mayoritaria***\n",
        "**Ventajas:**\n",
        "\n",
        "Simplicidad: Es fácil de implementar y entender. La predicción final se basa simplemente en el voto mayoritario de todos los modelos en el ensamble.\n",
        "\n",
        "Reducción del Riesgo de Sobreajuste: Como ningún modelo individual tiene demasiada influencia, hay menos riesgo de que las peculiaridades de un modelo sobresaliente afecten el rendimiento general.\n",
        "\n",
        "Robustez: Puede ser más robusto en presencia de modelos individuales con errores altamente variables, ya que la decisión se basa en el consenso.\n",
        "\n",
        "Desventajas:\n",
        "\n",
        "No Diferencia el Desempeño de los Modelos: Todos los modelos tienen el mismo peso, independientemente de su precisión o fiabilidad. Los modelos con mejor rendimiento son igualados por los de peor rendimiento.\n",
        "\n",
        "Potencial Desaprovechamiento de Información: No se utiliza información adicional sobre la confianza en las predicciones de los modelos individuales.\n",
        "\n",
        "\n",
        "**Votación Ponderada**\n",
        "\n",
        "Ventajas:\n",
        "\n",
        "Aprovechamiento del Desempeño de los Modelos: Los modelos con mejor rendimiento tienen más peso, lo que puede mejorar la precisión general del ensamble.\n",
        "\n",
        "Flexibilidad: Permite ajustar la influencia de cada modelo en la predicción final según diferentes métricas de rendimiento.\n",
        "\n",
        "Adaptabilidad: Puede ajustarse mejor a los datos al considerar la confianza en las predicciones de cada modelo.\n",
        "\n",
        "Desventajas:\n",
        "\n",
        "Complejidad: Más difícil de implementar y optimizar, ya que requiere determinar los pesos adecuados para cada modelo.\n",
        "\n",
        "Riesgo de Sobreajuste: Si un modelo con alto peso está sobreajustado, puede degradar el rendimiento general del ensamble.\n",
        "\n",
        "Sensibilidad a los Datos de Entrenamiento: La votación ponderada puede ser más sensible a los datos de entrenamiento, especialmente si los pesos se determinan a partir de estos.\n",
        "\n",
        "Comparación y Contexto\n",
        "\n",
        "La votación mayoritaria tiende a funcionar bien cuando los modelos individuales son variados y ninguno domina en rendimiento, o cuando se desea mantener la simplicidad.\n",
        "La votación ponderada puede ser preferible cuando hay diferencias significativas en la confiabilidad de los modelos individuales y se desea maximizar el rendimiento del ensamble."
      ],
      "metadata": {
        "id": "z9eiXGrqWJxE"
      }
    }
  ],
  "metadata": {
    "kernelspec": {
      "display_name": "Python 3 (ipykernel)",
      "language": "python",
      "name": "python3"
    },
    "language_info": {
      "codemirror_mode": {
        "name": "ipython",
        "version": 3
      },
      "file_extension": ".py",
      "mimetype": "text/x-python",
      "name": "python",
      "nbconvert_exporter": "python",
      "pygments_lexer": "ipython3",
      "version": "3.9.12"
    },
    "colab": {
      "provenance": []
    }
  },
  "nbformat": 4,
  "nbformat_minor": 0
}